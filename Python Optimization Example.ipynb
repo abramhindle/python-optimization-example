{
 "cells": [
  {
   "cell_type": "markdown",
   "metadata": {},
   "source": [
    "# Storytelling: An example of runtime optimization in Python\n",
    "## by Abram Hindle < hindle1@ualberta.ca >"
   ]
  },
  {
   "cell_type": "markdown",
   "metadata": {},
   "source": [
    "* A long time ago a composer named Edward Elgar wrote a postcard to his girl friend. In the bottom corner of the postcard was a cryptic message.\n",
    "  * Dorabella Cipher from Wikipedia https://en.wikipedia.org/wiki/Dorabella_Cipher\n",
    "* Many cryptographers have tried to decode it as English. \n",
    "   * We found that that decipherments of the characters do not match English distributions of characters. \n",
    "   * We found better evidence it matched music. So we decided to come up with decipherments that were musical.\n",
    "\n"
   ]
  },
  {
   "cell_type": "markdown",
   "metadata": {},
   "source": [
    "![Dorabella Cipher](Dorabella-cipher-image.png)"
   ]
  },
  {
   "cell_type": "markdown",
   "metadata": {},
   "source": [
    "Our idea is the direction and bumps are meaningful so we make a symbolic encoding where direction and bumps are encoded."
   ]
  },
  {
   "cell_type": "markdown",
   "metadata": {},
   "source": [
    "⇐2 ⇒3 ⇖2 ⇐3 ⇐1 ⇑2 ⇓1 ⇐3 ⇗1 ⇙2 ⇖3 ⇘2 ⇘1 ⇖1 ⇘2 ⇑3 ⇘2 ⇘2 ⇑2 ⇒3 ⇒3 ⇘2 ⇖1 ⇙1 ⇙2 ⇙1 ⇑1 ⇖3 ⇘3 \n",
    "\n",
    "⇓1 ⇘2 ⇓1 ⇑2 ⇙1 ⇐3 ⇗1 ⇗2 ⇐3 ⇖2 ⇘2 ⇘2 ⇖2 ⇑2 ⇖1 ⇘1 ⇓1 ⇘2 ⇖3 ⇘2 ⇑2 ⇓2 ⇘3 ⇘1 ⇖1 ⇙1 ⇗1 ⇗1 ⇙1 ⇖3 ⇘3 \n",
    "\n",
    "⇖2 ⇘3 ⇑2 ⇓2 ⇘3 ⇖2 ⇖1 ⇓2 ⇓3 ⇑1 ⇘3 ⇖2 ⇘2 ⇑2 ⇓2 ⇘1 ⇘3 ⇖1 ⇐3 ⇒3 ⇑1 ⇘3 ⇑2 ⇐3 ⇖1 ⇙1 ⇐3"
   ]
  },
  {
   "cell_type": "markdown",
   "metadata": {},
   "source": [
    "Here's our program. \n",
    "\n",
    "* It generates a mapping of symbols to notes\n",
    "* The mapping must be in key (e.g. C-minor)\n",
    "* Converts a document of symbols into notes. \n",
    "* Writes out the decrypted document to disk\n",
    "\n",
    "It's too slow."
   ]
  },
  {
   "cell_type": "markdown",
   "metadata": {},
   "source": [
    "# Rules for Optimization\n",
    "\n",
    "1. Don't do it.\n",
    "2. Only do it if you can measure the quality you want to optimize\n",
    "3. Don't do it yet.\n",
    "4. Only do it if you record your original performance.\n",
    "5. Make sure you're optimizing what you want optimized\n",
    "6. Record original performance\n",
    "7. Investigate performance\n",
    "8. Change system\n",
    "9. Measure new performance\n",
    "10. Compare\n",
    "11. If not enough goto 6."
   ]
  },
  {
   "cell_type": "markdown",
   "metadata": {},
   "source": [
    "# Advice: Don't optimize till you measure!\n",
    "# Advice: If you measure, measure more than once!"
   ]
  },
  {
   "cell_type": "markdown",
   "metadata": {},
   "source": [
    "# Knuth's views on the subject \n",
    "\n",
    "From C2 Wiki http://wiki.c2.com/?PrematureOptimization\n",
    "    \n",
    "> /Premature optimization is the root of all evil/ -- DonaldKnuth\n",
    "> \n",
    "> In DonaldKnuth's paper \"Structured Programming With Goto Statements\", he wrote:\n",
    "> > \"Programmers waste enormous amounts of time thinking about, or worrying about, the speed of noncritical parts of their programs, and these attempts at efficiency actually have a strong negative impact when debugging and maintenance are considered. We should forget about small efficiencies, say about 97% of the time: premature optimization is the root of all evil. Yet we should not pass up our opportunities in that critical 3%.\" \n",
    "\n",
    "We're not engaging in premature optimization. We have a legitimate runtime problem."
   ]
  },
  {
   "cell_type": "code",
   "execution_count": 1,
   "metadata": {},
   "outputs": [
    {
     "name": "stdout",
     "output_type": "stream",
     "text": [
      "mkdir: cannot create directory ‘abram.gen.out’: File exists\r\n"
     ]
    }
   ],
   "source": [
    "# Make sure the output dir is available\n",
    "!mkdir abram.gen.out"
   ]
  },
  {
   "cell_type": "code",
   "execution_count": 3,
   "metadata": {},
   "outputs": [],
   "source": [
    "# -*- coding: utf-8 -*-\n",
    "# UTF8 hacks invoked.\n",
    "import sys\n",
    "#reload(sys)\n",
    "#sys.setdefaultencoding('utf-8')\n",
    "#reload(sys)\n",
    "import codecs\n",
    "#UTF8Writer = codecs.getwriter('utf8')\n",
    "#sys.stdout = UTF8Writer(sys.stdout)\n",
    "import util\n",
    "import argparse\n",
    "import inkey\n",
    "import music21\n",
    "import copy\n",
    "import itertools\n",
    "import re\n",
    "import json\n",
    "import time\n",
    "\n",
    "n_dirs = 8\n",
    "n_bumps = 3\n",
    "directions = {\n",
    "    \"⇑\":0,\n",
    "    \"⇗\":1,\n",
    "    \"⇒\":2,\n",
    "    \"⇘\":3,\n",
    "    \"⇓\":4,\n",
    "    \"⇙\":5,\n",
    "    \"⇐\":6,\n",
    "    \"⇖\":7\n",
    "}\n",
    "inverse_directions = dict([(directions[key],key) for key in directions])\n",
    "dir_string = \"\".join([inverse_directions[x] for x in range(0,n_dirs)])\n",
    "\n",
    "def token_to_dir_tuple(token):\n",
    "    return (directions[token[0:-1]], int(token[-1]))\n",
    "\n",
    "def dir_tuple_to_string(token):\n",
    "    return inverse_directions[token[0]]+str(token[1])\n",
    "\n",
    "def load_transcript(filename):\n",
    "    tokens = util.load_split_file(filename)\n",
    "    return [token_to_dir_tuple(token) for token in tokens]\n",
    "\n",
    "def rotate_list(l):\n",
    "    return l[1:] + [l[0]]\n",
    "\n",
    "def n_rotated_lists(l,n):\n",
    "    out = range(0,n)\n",
    "    out[0] = l\n",
    "    for i in range(1,n):\n",
    "        out[i] = rotate_list(out[i-1])\n",
    "    return out\n",
    "\n",
    "full_note      = 4.0\n",
    "half_note      = 2.0\n",
    "quarter_note   = 1.0\n",
    "eighth_note    = 0.5\n",
    "sixteenth_note = 0.25\n",
    "note_durations = [full_note, half_note, quarter_note, eighth_note, sixteenth_note]\n",
    "\n",
    "def make_note( midi21_pitch, duration ):\n",
    "    new_note = music21.note.Note(midi21_pitch)\n",
    "    new_note.duration = music21.duration.Duration(duration) # is this right\n",
    "    return new_note\n",
    "\n",
    "def pitches_of_key(mkey):\n",
    "    m = re.match('([A-G][-#]?)(major|minor)',mkey)\n",
    "    k = m.group(1)\n",
    "    maj = m.group(2)\n",
    "    our_key = music21.key.Key(k,maj)\n",
    "    our_pitches = our_key.pitches\n",
    "    return our_pitches\n",
    "\n",
    "def generate_abram_song(song_tuples, mkey, note_mapping, bump_mapping, octave):\n",
    "    \"\"\" returns a list of music21 notes \"\"\"\n",
    "    our_pitches = pitches_of_key(mkey)\n",
    "    # print(our_pitches)\n",
    "    # modify the key to the appropriate octave\n",
    "    our_key_notes = [inkey.note_octave_mod(note, octave-4) for note in our_pitches]\n",
    "    # now get the note mapping to notes\n",
    "    our_notes = [our_key_notes[x] for x in note_mapping]\n",
    "    # process the tuple\n",
    "    # print song_tuples\n",
    "    # print bump_mapping\n",
    "    assert sum([len(t)==2 for t in song_tuples]) == len(song_tuples)\n",
    "    # print [ (our_notes[n], bump_mapping[b-1]) for n,b in song_tuples ]\n",
    "    return [ make_note(our_notes[n], bump_mapping[b-1]) for n,b in song_tuples ]\n",
    "\n",
    "def note_to_str(note):\n",
    "    return note.fullName + \" \" + str(note.duration) #music21.Note.fullName(note)\n",
    "def song_to_txt(song):\n",
    "    return \"\\n\".join([note_to_str(note) for note in song])\n",
    "\n",
    "def save_textfile(txt, filename):\n",
    "    fd = file(filename,\"w\")\n",
    "    fd.write(txt)\n",
    "    fd.close()\n",
    "\n",
    "def song_to_mid(song):\n",
    "    stream = music21.stream.Stream()\n",
    "    for elm in song:\n",
    "        stream.append(elm)\n",
    "    return stream\n",
    "    # mf = music21.midi.translate.streamToMidiFile(stream)\n",
    "\n",
    "def save_midifile(midi, midi_file):\n",
    "    fp = midi.write('midi', fp=midi_file)\n",
    "    \n",
    "def strify(l):\n",
    "    return [str(x) for x in l]\n",
    "    \n",
    "def generate_and_save_song(song_tuples,mkey, note_mapping, bump_mapping,octave):\n",
    "    song = generate_abram_song(song_tuples, mkey, note_mapping, bump_mapping, octave)\n",
    "    file_name = \"abram.gen.out/\" + mkey + \".O.\" + str(octave) + \".N.\" + \".\".join(\"\".join(strify(note_mapping))) + \".T.\" + \"_\".join(strify(bump_mapping))\n",
    "    txt_file_name = file_name + \".txt\"\n",
    "    mid_file_name = file_name + \".mid\"\n",
    "    txt = song_to_txt(song)\n",
    "    save_textfile(txt, txt_file_name)\n",
    "    # print(song)\n",
    "    mid = song_to_mid(song)\n",
    "    save_midifile(mid, mid_file_name)\n",
    "\n",
    "__grid_search_print__ = True\n",
    "def grid_search(params,param_keys,song_tuples,f=None,maxtime=None):\n",
    "    if maxtime is None:\n",
    "        maxtime = float(\"inf\")\n",
    "    start = time.time()\n",
    "    iters = 0\n",
    "    for t in itertools.product(*[params[x] for x in param_keys]):\n",
    "        if __grid_search_print__:\n",
    "            print(t)\n",
    "        f(song_tuples,*t)\n",
    "        iters += 1\n",
    "        if (time.time() - start > maxtime):\n",
    "            print(\"Times up! %s\" % iters)\n",
    "            break\n",
    "    return iters\n",
    "\n",
    "def my_main(maxtime=10):\n",
    "    filename = \"abram-dirs.txt\"\n",
    "    song_tuples = load_transcript(filename)\n",
    "    print(inkey.get_all_keys().keys())\n",
    "    #print(\"\\t\".join([dir_tuple_to_string(x) for x in our_tokens]))\n",
    "    params = {\n",
    "        \"keys\":inkey.get_all_keys().keys(),\n",
    "        # permutations of indices\n",
    "        #  could do all permutations too\n",
    "        \"dir_notes\":n_rotated_lists(range(0,n_dirs),n_dirs),\n",
    "        # \"dir_notes\":list(itertools.permutations(range(0,n_dirs),n_dirs)) # if you want 40k combos\n",
    "        # map bumps to duration\n",
    "        \"bump_durations\":list(itertools.permutations(note_durations,n_bumps)),\n",
    "        \"octaves\":range(3,6),\n",
    "    }\n",
    "    return grid_search(params,[\"keys\",\"dir_notes\",\"bump_durations\",\"octaves\"], \n",
    "                song_tuples, f=generate_and_save_song, maxtime=maxtime)\n",
    "\n",
    "def generate_and_estimate_song(estimate,song_tuples,mkey, note_mapping, bump_mapping,octave):\n",
    "    song = generate_abram_song(song_tuples, mkey, note_mapping, bump_mapping, octave)\n",
    "    file_name = \"abram.gen.out/\" + mkey + \".O.\" + str(octave) + \".N.\" + \".\".join(\"\".join(strify(note_mapping))) + \".T.\" + \"_\".join(strify(bump_mapping))\n",
    "    txt = song_to_text(song)\n",
    "    return estimate(txt), file_name\n",
    "    \n",
    "def my_estimate_all(estimator, transcription_song_tuples):\n",
    "    estimates = dict()\n",
    "    def helper(estimator,song_tuples,mkey, note_mapping, bump_mapping,octave):\n",
    "        estimate, name = generate_and_estimate_song(estimator,song_tuples,mkey, note_mapping, bump_mapping,octave)\n",
    "        estimates[name] = estimate\n",
    "        print((estimate, name))\n",
    "    \n",
    "    params = {\n",
    "        \"keys\":inkey.get_all_keys().keys(),\n",
    "        # permutations of indices\n",
    "        #  could do all permutations too\n",
    "        # \"dir_notes\":n_rotated_lists(range(0,n_dirs),n_dirs),\n",
    "        \"dir_notes\":list(itertools.permutations(range(0,n_dirs),n_dirs)), # if you want 40k combos\n",
    "        # map bumps to duration\n",
    "        \"bump_durations\":list(itertools.permutations(note_durations,n_bumps)),\n",
    "        \"octaves\":range(3,6),\n",
    "    }\n",
    "    grid_search(params,[\"keys\",\"dir_notes\",\"bump_durations\",\"octaves\"], song_tuples, f=helper)\n",
    "    pickle.dump(estimates, file('abram-song-estimates.pkl','w'))    \n",
    "\n",
    "def my_estimate(args):\n",
    "    filename = args.transcript\n",
    "    song_tuples = load_transcript(filename)\n",
    "    my_estimate_all(None,song_tuples)\n",
    "    \n",
    "def test_rotate_list():\n",
    "    assert rotate_list([0,1,2,3]) == [1,2,3,0]\n",
    "    assert rotate_list([0,1,2,3,4]) == [1,2,3,4,0]\n",
    "    assert rotate_list(range(0,100))[0:-1] == range(1,100)\n",
    "    input  = [0,1,2]\n",
    "    output = [[0,1,2],[1,2,0],[2,0,1]]\n",
    "    assert json.dumps(n_rotated_lists(input, 3)) == json.dumps(output)    \n",
    "\n",
    "def test_notes():\n",
    "    note = music21.pitch.Pitch(\"C#4\") \n",
    "    new_note = make_note( note, quarter_note )\n",
    "    assert new_note.duration.type == 'quarter'\n",
    "    assert new_note.pitch.fullName == 'C-sharp in octave 4'    \n",
    "    song = song_to_mid([copy.deepcopy(new_note) for i in range(0,10)])\n",
    "    notes = list(song.notesAndRests)\n",
    "    for i in range(0,len(notes)):\n",
    "        assert notes[i].duration.type == new_note.duration.type\n",
    "        assert notes[i].pitch.fullName == new_note.pitch.fullName\n",
    "    cmajor = pitches_of_key(\"Cmajor\")\n",
    "    assert [x.name for x in cmajor] == [\"C\",\"D\",\"E\",\"F\",\"G\",\"A\",\"B\",\"C\"]\n",
    "    \n",
    "def my_tests(args):\n",
    "    test_rotate_list()\n",
    "    test_notes()\n",
    "    \n"
   ]
  },
  {
   "cell_type": "code",
   "execution_count": 4,
   "metadata": {
    "scrolled": true
   },
   "outputs": [
    {
     "name": "stdout",
     "output_type": "stream",
     "text": [
      "['Emajor', 'B-minor', 'Gminor', 'E-minor', 'G-major', 'Aminor', 'D-major', 'Eminor', 'C-minor', 'Cmajor', 'C#major', 'Bminor', 'D-minor', 'Gmajor', 'F#minor', 'G-minor', 'E-major', 'Dminor', 'Fmajor', 'Cminor', 'C-major', 'B-major', 'Bmajor', 'C#minor', 'F#major', 'A-major', 'Dmajor', 'A-minor', 'Amajor', 'Fminor']\n",
      "('Emajor', [0, 1, 2, 3, 4, 5, 6, 7], (4.0, 2.0, 1.0), 3)\n",
      "('Emajor', [0, 1, 2, 3, 4, 5, 6, 7], (4.0, 2.0, 1.0), 4)\n",
      "('Emajor', [0, 1, 2, 3, 4, 5, 6, 7], (4.0, 2.0, 1.0), 5)\n",
      "('Emajor', [0, 1, 2, 3, 4, 5, 6, 7], (4.0, 2.0, 0.5), 3)\n",
      "('Emajor', [0, 1, 2, 3, 4, 5, 6, 7], (4.0, 2.0, 0.5), 4)\n",
      "('Emajor', [0, 1, 2, 3, 4, 5, 6, 7], (4.0, 2.0, 0.5), 5)\n",
      "('Emajor', [0, 1, 2, 3, 4, 5, 6, 7], (4.0, 2.0, 0.25), 3)\n",
      "('Emajor', [0, 1, 2, 3, 4, 5, 6, 7], (4.0, 2.0, 0.25), 4)\n",
      "('Emajor', [0, 1, 2, 3, 4, 5, 6, 7], (4.0, 2.0, 0.25), 5)\n",
      "('Emajor', [0, 1, 2, 3, 4, 5, 6, 7], (4.0, 1.0, 2.0), 3)\n",
      "('Emajor', [0, 1, 2, 3, 4, 5, 6, 7], (4.0, 1.0, 2.0), 4)\n",
      "('Emajor', [0, 1, 2, 3, 4, 5, 6, 7], (4.0, 1.0, 2.0), 5)\n",
      "('Emajor', [0, 1, 2, 3, 4, 5, 6, 7], (4.0, 1.0, 0.5), 3)\n",
      "('Emajor', [0, 1, 2, 3, 4, 5, 6, 7], (4.0, 1.0, 0.5), 4)\n",
      "('Emajor', [0, 1, 2, 3, 4, 5, 6, 7], (4.0, 1.0, 0.5), 5)\n",
      "('Emajor', [0, 1, 2, 3, 4, 5, 6, 7], (4.0, 1.0, 0.25), 3)\n",
      "('Emajor', [0, 1, 2, 3, 4, 5, 6, 7], (4.0, 1.0, 0.25), 4)\n",
      "('Emajor', [0, 1, 2, 3, 4, 5, 6, 7], (4.0, 1.0, 0.25), 5)\n",
      "('Emajor', [0, 1, 2, 3, 4, 5, 6, 7], (4.0, 0.5, 2.0), 3)\n",
      "('Emajor', [0, 1, 2, 3, 4, 5, 6, 7], (4.0, 0.5, 2.0), 4)\n",
      "('Emajor', [0, 1, 2, 3, 4, 5, 6, 7], (4.0, 0.5, 2.0), 5)\n",
      "('Emajor', [0, 1, 2, 3, 4, 5, 6, 7], (4.0, 0.5, 1.0), 3)\n",
      "('Emajor', [0, 1, 2, 3, 4, 5, 6, 7], (4.0, 0.5, 1.0), 4)\n",
      "('Emajor', [0, 1, 2, 3, 4, 5, 6, 7], (4.0, 0.5, 1.0), 5)\n",
      "('Emajor', [0, 1, 2, 3, 4, 5, 6, 7], (4.0, 0.5, 0.25), 3)\n",
      "('Emajor', [0, 1, 2, 3, 4, 5, 6, 7], (4.0, 0.5, 0.25), 4)\n",
      "('Emajor', [0, 1, 2, 3, 4, 5, 6, 7], (4.0, 0.5, 0.25), 5)\n",
      "('Emajor', [0, 1, 2, 3, 4, 5, 6, 7], (4.0, 0.25, 2.0), 3)\n",
      "('Emajor', [0, 1, 2, 3, 4, 5, 6, 7], (4.0, 0.25, 2.0), 4)\n",
      "('Emajor', [0, 1, 2, 3, 4, 5, 6, 7], (4.0, 0.25, 2.0), 5)\n",
      "('Emajor', [0, 1, 2, 3, 4, 5, 6, 7], (4.0, 0.25, 1.0), 3)\n",
      "('Emajor', [0, 1, 2, 3, 4, 5, 6, 7], (4.0, 0.25, 1.0), 4)\n",
      "('Emajor', [0, 1, 2, 3, 4, 5, 6, 7], (4.0, 0.25, 1.0), 5)\n",
      "('Emajor', [0, 1, 2, 3, 4, 5, 6, 7], (4.0, 0.25, 0.5), 3)\n",
      "('Emajor', [0, 1, 2, 3, 4, 5, 6, 7], (4.0, 0.25, 0.5), 4)\n",
      "('Emajor', [0, 1, 2, 3, 4, 5, 6, 7], (4.0, 0.25, 0.5), 5)\n",
      "('Emajor', [0, 1, 2, 3, 4, 5, 6, 7], (2.0, 4.0, 1.0), 3)\n",
      "('Emajor', [0, 1, 2, 3, 4, 5, 6, 7], (2.0, 4.0, 1.0), 4)\n",
      "('Emajor', [0, 1, 2, 3, 4, 5, 6, 7], (2.0, 4.0, 1.0), 5)\n",
      "('Emajor', [0, 1, 2, 3, 4, 5, 6, 7], (2.0, 4.0, 0.5), 3)\n",
      "('Emajor', [0, 1, 2, 3, 4, 5, 6, 7], (2.0, 4.0, 0.5), 4)\n",
      "('Emajor', [0, 1, 2, 3, 4, 5, 6, 7], (2.0, 4.0, 0.5), 5)\n",
      "('Emajor', [0, 1, 2, 3, 4, 5, 6, 7], (2.0, 4.0, 0.25), 3)\n",
      "('Emajor', [0, 1, 2, 3, 4, 5, 6, 7], (2.0, 4.0, 0.25), 4)\n",
      "('Emajor', [0, 1, 2, 3, 4, 5, 6, 7], (2.0, 4.0, 0.25), 5)\n",
      "('Emajor', [0, 1, 2, 3, 4, 5, 6, 7], (2.0, 1.0, 4.0), 3)\n",
      "('Emajor', [0, 1, 2, 3, 4, 5, 6, 7], (2.0, 1.0, 4.0), 4)\n",
      "('Emajor', [0, 1, 2, 3, 4, 5, 6, 7], (2.0, 1.0, 4.0), 5)\n",
      "('Emajor', [0, 1, 2, 3, 4, 5, 6, 7], (2.0, 1.0, 0.5), 3)\n",
      "('Emajor', [0, 1, 2, 3, 4, 5, 6, 7], (2.0, 1.0, 0.5), 4)\n",
      "('Emajor', [0, 1, 2, 3, 4, 5, 6, 7], (2.0, 1.0, 0.5), 5)\n",
      "('Emajor', [0, 1, 2, 3, 4, 5, 6, 7], (2.0, 1.0, 0.25), 3)\n",
      "('Emajor', [0, 1, 2, 3, 4, 5, 6, 7], (2.0, 1.0, 0.25), 4)\n",
      "('Emajor', [0, 1, 2, 3, 4, 5, 6, 7], (2.0, 1.0, 0.25), 5)\n",
      "('Emajor', [0, 1, 2, 3, 4, 5, 6, 7], (2.0, 0.5, 4.0), 3)\n",
      "('Emajor', [0, 1, 2, 3, 4, 5, 6, 7], (2.0, 0.5, 4.0), 4)\n",
      "('Emajor', [0, 1, 2, 3, 4, 5, 6, 7], (2.0, 0.5, 4.0), 5)\n",
      "('Emajor', [0, 1, 2, 3, 4, 5, 6, 7], (2.0, 0.5, 1.0), 3)\n",
      "('Emajor', [0, 1, 2, 3, 4, 5, 6, 7], (2.0, 0.5, 1.0), 4)\n",
      "('Emajor', [0, 1, 2, 3, 4, 5, 6, 7], (2.0, 0.5, 1.0), 5)\n",
      "('Emajor', [0, 1, 2, 3, 4, 5, 6, 7], (2.0, 0.5, 0.25), 3)\n",
      "('Emajor', [0, 1, 2, 3, 4, 5, 6, 7], (2.0, 0.5, 0.25), 4)\n",
      "('Emajor', [0, 1, 2, 3, 4, 5, 6, 7], (2.0, 0.5, 0.25), 5)\n",
      "('Emajor', [0, 1, 2, 3, 4, 5, 6, 7], (2.0, 0.25, 4.0), 3)\n",
      "('Emajor', [0, 1, 2, 3, 4, 5, 6, 7], (2.0, 0.25, 4.0), 4)\n",
      "('Emajor', [0, 1, 2, 3, 4, 5, 6, 7], (2.0, 0.25, 4.0), 5)\n",
      "('Emajor', [0, 1, 2, 3, 4, 5, 6, 7], (2.0, 0.25, 1.0), 3)\n",
      "('Emajor', [0, 1, 2, 3, 4, 5, 6, 7], (2.0, 0.25, 1.0), 4)\n",
      "('Emajor', [0, 1, 2, 3, 4, 5, 6, 7], (2.0, 0.25, 1.0), 5)\n",
      "('Emajor', [0, 1, 2, 3, 4, 5, 6, 7], (2.0, 0.25, 0.5), 3)\n",
      "('Emajor', [0, 1, 2, 3, 4, 5, 6, 7], (2.0, 0.25, 0.5), 4)\n",
      "('Emajor', [0, 1, 2, 3, 4, 5, 6, 7], (2.0, 0.25, 0.5), 5)\n",
      "('Emajor', [0, 1, 2, 3, 4, 5, 6, 7], (1.0, 4.0, 2.0), 3)\n",
      "('Emajor', [0, 1, 2, 3, 4, 5, 6, 7], (1.0, 4.0, 2.0), 4)\n",
      "Times up! 74\n"
     ]
    },
    {
     "data": {
      "text/plain": [
       "74"
      ]
     },
     "execution_count": 4,
     "metadata": {},
     "output_type": "execute_result"
    }
   ],
   "source": [
    "# run our main for 5 seconds\n",
    "my_main(5)\n"
   ]
  },
  {
   "cell_type": "code",
   "execution_count": 5,
   "metadata": {},
   "outputs": [],
   "source": [
    "# demo?\n",
    "! xdg-open abram.gen.out/Emajor.O.4.N.0.1.2.3.4.5.6.7.T.1.0_0.5_2.0.mid"
   ]
  },
  {
   "cell_type": "code",
   "execution_count": 6,
   "metadata": {},
   "outputs": [
    {
     "name": "stdout",
     "output_type": "stream",
     "text": [
      "['Emajor', 'B-minor', 'Gminor', 'E-minor', 'G-major', 'Aminor', 'D-major', 'Eminor', 'C-minor', 'Cmajor', 'C#major', 'Bminor', 'D-minor', 'Gmajor', 'F#minor', 'G-minor', 'E-major', 'Dminor', 'Fmajor', 'Cminor', 'C-major', 'B-major', 'Bmajor', 'C#minor', 'F#major', 'A-major', 'Dmajor', 'A-minor', 'Amajor', 'Fminor']\n",
      "Times up! 16\n",
      "['Emajor', 'B-minor', 'Gminor', 'E-minor', 'G-major', 'Aminor', 'D-major', 'Eminor', 'C-minor', 'Cmajor', 'C#major', 'Bminor', 'D-minor', 'Gmajor', 'F#minor', 'G-minor', 'E-major', 'Dminor', 'Fmajor', 'Cminor', 'C-major', 'B-major', 'Bmajor', 'C#minor', 'F#major', 'A-major', 'Dmajor', 'A-minor', 'Amajor', 'Fminor']\n",
      "Times up! 18\n",
      "['Emajor', 'B-minor', 'Gminor', 'E-minor', 'G-major', 'Aminor', 'D-major', 'Eminor', 'C-minor', 'Cmajor', 'C#major', 'Bminor', 'D-minor', 'Gmajor', 'F#minor', 'G-minor', 'E-major', 'Dminor', 'Fmajor', 'Cminor', 'C-major', 'B-major', 'Bmajor', 'C#minor', 'F#major', 'A-major', 'Dmajor', 'A-minor', 'Amajor', 'Fminor']\n",
      "Times up! 18\n",
      "['Emajor', 'B-minor', 'Gminor', 'E-minor', 'G-major', 'Aminor', 'D-major', 'Eminor', 'C-minor', 'Cmajor', 'C#major', 'Bminor', 'D-minor', 'Gmajor', 'F#minor', 'G-minor', 'E-major', 'Dminor', 'Fmajor', 'Cminor', 'C-major', 'B-major', 'Bmajor', 'C#minor', 'F#major', 'A-major', 'Dmajor', 'A-minor', 'Amajor', 'Fminor']\n",
      "Times up! 18\n",
      "['Emajor', 'B-minor', 'Gminor', 'E-minor', 'G-major', 'Aminor', 'D-major', 'Eminor', 'C-minor', 'Cmajor', 'C#major', 'Bminor', 'D-minor', 'Gmajor', 'F#minor', 'G-minor', 'E-major', 'Dminor', 'Fmajor', 'Cminor', 'C-major', 'B-major', 'Bmajor', 'C#minor', 'F#major', 'A-major', 'Dmajor', 'A-minor', 'Amajor', 'Fminor']\n",
      "Times up! 18\n",
      "['Emajor', 'B-minor', 'Gminor', 'E-minor', 'G-major', 'Aminor', 'D-major', 'Eminor', 'C-minor', 'Cmajor', 'C#major', 'Bminor', 'D-minor', 'Gmajor', 'F#minor', 'G-minor', 'E-major', 'Dminor', 'Fmajor', 'Cminor', 'C-major', 'B-major', 'Bmajor', 'C#minor', 'F#major', 'A-major', 'Dmajor', 'A-minor', 'Amajor', 'Fminor']\n",
      "Times up! 17\n",
      "['Emajor', 'B-minor', 'Gminor', 'E-minor', 'G-major', 'Aminor', 'D-major', 'Eminor', 'C-minor', 'Cmajor', 'C#major', 'Bminor', 'D-minor', 'Gmajor', 'F#minor', 'G-minor', 'E-major', 'Dminor', 'Fmajor', 'Cminor', 'C-major', 'B-major', 'Bmajor', 'C#minor', 'F#major', 'A-major', 'Dmajor', 'A-minor', 'Amajor', 'Fminor']\n",
      "Times up! 16\n",
      "['Emajor', 'B-minor', 'Gminor', 'E-minor', 'G-major', 'Aminor', 'D-major', 'Eminor', 'C-minor', 'Cmajor', 'C#major', 'Bminor', 'D-minor', 'Gmajor', 'F#minor', 'G-minor', 'E-major', 'Dminor', 'Fmajor', 'Cminor', 'C-major', 'B-major', 'Bmajor', 'C#minor', 'F#major', 'A-major', 'Dmajor', 'A-minor', 'Amajor', 'Fminor']\n",
      "Times up! 16\n",
      "['Emajor', 'B-minor', 'Gminor', 'E-minor', 'G-major', 'Aminor', 'D-major', 'Eminor', 'C-minor', 'Cmajor', 'C#major', 'Bminor', 'D-minor', 'Gmajor', 'F#minor', 'G-minor', 'E-major', 'Dminor', 'Fmajor', 'Cminor', 'C-major', 'B-major', 'Bmajor', 'C#minor', 'F#major', 'A-major', 'Dmajor', 'A-minor', 'Amajor', 'Fminor']\n",
      "Times up! 17\n",
      "['Emajor', 'B-minor', 'Gminor', 'E-minor', 'G-major', 'Aminor', 'D-major', 'Eminor', 'C-minor', 'Cmajor', 'C#major', 'Bminor', 'D-minor', 'Gmajor', 'F#minor', 'G-minor', 'E-major', 'Dminor', 'Fmajor', 'Cminor', 'C-major', 'B-major', 'Bmajor', 'C#minor', 'F#major', 'A-major', 'Dmajor', 'A-minor', 'Amajor', 'Fminor']\n",
      "Times up! 18\n"
     ]
    },
    {
     "data": {
      "text/plain": [
       "[16, 18, 18, 18, 18, 17, 16, 16, 17, 18]"
      ]
     },
     "execution_count": 6,
     "metadata": {},
     "output_type": "execute_result"
    }
   ],
   "source": [
    "# Let's measure performance!\n",
    "__grid_search_print__ = False # disable debugging\n",
    "seconds = 1  # measure for 1 second\n",
    "repeats = 10 # measure 10 times\n",
    "def mean(x):\n",
    "    return sum(x)/len(x)\n",
    "perf = map(lambda x: my_main(seconds),range(0,repeats))\n",
    "perf"
   ]
  },
  {
   "cell_type": "code",
   "execution_count": 7,
   "metadata": {},
   "outputs": [
    {
     "name": "stdout",
     "output_type": "stream",
     "text": [
      "Current Performance ~ 17 iters per 1 seconds \n"
     ]
    }
   ],
   "source": [
    "print(\"Current Performance ~ %s iters per %s seconds \" % (mean(perf), seconds))"
   ]
  },
  {
   "cell_type": "markdown",
   "metadata": {},
   "source": [
    "4. Original performance? \n",
    "   * 14-18 songs per second? \n",
    "   * That's really very poor.\n",
    "5. Make sure we are optimizing what want optimized? \n",
    "   * Time.\n",
    "   * But at least we know what we want: More iters per second.\n",
    "6. Record original performance\n",
    "   * 14-18 song per second\n",
    "7. Investigate performance\n",
    "   * We're going to use a profiler\n",
    "8. Change system\n",
    "   * not until we profile!"
   ]
  },
  {
   "cell_type": "markdown",
   "metadata": {},
   "source": [
    "At this point we either have a good idea of what is slow or we need some help to find out what.\n",
    "\n",
    "Profilers instrument running code and take statistics about the number of calls and the \n",
    "\n",
    "Checkout https://docs.python.org/2/library/profile.html"
   ]
  },
  {
   "cell_type": "code",
   "execution_count": 9,
   "metadata": {},
   "outputs": [],
   "source": [
    "import cProfile"
   ]
  },
  {
   "cell_type": "code",
   "execution_count": 10,
   "metadata": {},
   "outputs": [
    {
     "name": "stdout",
     "output_type": "stream",
     "text": [
      "['Emajor', 'B-minor', 'Gminor', 'E-minor', 'G-major', 'Aminor', 'D-major', 'Eminor', 'C-minor', 'Cmajor', 'C#major', 'Bminor', 'D-minor', 'Gmajor', 'F#minor', 'G-minor', 'E-major', 'Dminor', 'Fmajor', 'Cminor', 'C-major', 'B-major', 'Bmajor', 'C#minor', 'F#major', 'A-major', 'Dmajor', 'A-minor', 'Amajor', 'Fminor']\n",
      "Times up! 42\n"
     ]
    }
   ],
   "source": [
    "# Instrument my program and run my_main for 4 seconds\n",
    "cProfile.run('my_main(4)','cpout.txt')"
   ]
  },
  {
   "cell_type": "markdown",
   "metadata": {},
   "source": [
    "## FYI Performance decreased due to instrumentation"
   ]
  },
  {
   "cell_type": "code",
   "execution_count": 11,
   "metadata": {},
   "outputs": [],
   "source": [
    "import pstats"
   ]
  },
  {
   "cell_type": "code",
   "execution_count": 12,
   "metadata": {},
   "outputs": [
    {
     "name": "stdout",
     "output_type": "stream",
     "text": [
      "Mon May 13 20:21:25 2019    cpout.txt\n",
      "\n",
      "         5766906 function calls (5626374 primitive calls) in 4.069 seconds\n",
      "\n",
      "   Ordered by: standard name\n",
      "\n",
      "   ncalls  tottime  percall  cumtime  percall filename:lineno(function)\n",
      "       42    0.002    0.000    0.100    0.002 <ipython-input-3-02a0ed9aa61e>:100(song_to_mid)\n",
      "       42    0.000    0.000    2.055    0.049 <ipython-input-3-02a0ed9aa61e>:107(save_midifile)\n",
      "       84    0.000    0.000    0.000    0.000 <ipython-input-3-02a0ed9aa61e>:110(strify)\n",
      "       42    0.001    0.000    4.070    0.097 <ipython-input-3-02a0ed9aa61e>:113(generate_and_save_song)\n",
      "        1    0.000    0.000    4.070    4.070 <ipython-input-3-02a0ed9aa61e>:125(grid_search)\n",
      "        1    0.000    0.000    4.071    4.071 <ipython-input-3-02a0ed9aa61e>:140(my_main)\n",
      "       87    0.000    0.000    0.000    0.000 <ipython-input-3-02a0ed9aa61e>:35(token_to_dir_tuple)\n",
      "        1    0.000    0.000    0.000    0.000 <ipython-input-3-02a0ed9aa61e>:41(load_transcript)\n",
      "        7    0.000    0.000    0.000    0.000 <ipython-input-3-02a0ed9aa61e>:45(rotate_list)\n",
      "        1    0.000    0.000    0.000    0.000 <ipython-input-3-02a0ed9aa61e>:48(n_rotated_lists)\n",
      "     3654    0.008    0.000    0.246    0.000 <ipython-input-3-02a0ed9aa61e>:62(make_note)\n",
      "       42    0.000    0.000    1.387    0.033 <ipython-input-3-02a0ed9aa61e>:67(pitches_of_key)\n",
      "       42    0.006    0.000    1.650    0.039 <ipython-input-3-02a0ed9aa61e>:75(generate_abram_song)\n",
      "     3654    0.007    0.000    0.256    0.000 <ipython-input-3-02a0ed9aa61e>:90(note_to_str)\n",
      "       42    0.002    0.000    0.258    0.006 <ipython-input-3-02a0ed9aa61e>:92(song_to_txt)\n",
      "       42    0.003    0.000    0.004    0.000 <ipython-input-3-02a0ed9aa61e>:95(save_textfile)\n",
      "        1    0.000    0.000    4.071    4.071 <string>:1(<module>)\n",
      "    10962    0.004    0.000    0.006    0.000 <string>:8(__new__)\n",
      "     7434    0.004    0.000    0.023    0.000 __init__.py:1012(__init__)\n",
      "     7434    0.003    0.000    0.022    0.000 __init__.py:1020(getBytes)\n",
      "       42    0.000    0.000    0.000    0.000 __init__.py:1042(__init__)\n",
      "       42    0.007    0.000    0.050    0.001 __init__.py:1108(getBytes)\n",
      "       84    0.000    0.000    0.001    0.000 __init__.py:111(getNumber)\n",
      "       42    0.001    0.000    0.001    0.000 __init__.py:1141(updateEvents)\n",
      "       42    0.000    0.000    0.000    0.000 __init__.py:1194(__init__)\n",
      "       42    0.000    0.000    0.003    0.000 __init__.py:1201(open)\n",
      "       42    0.000    0.000    0.002    0.000 __init__.py:12260(__init__)\n",
      "       42    0.000    0.000    0.001    0.000 __init__.py:1228(close)\n",
      "       42    0.000    0.000    0.002    0.000 __init__.py:1237(__init__)\n",
      "       42    0.000    0.000    0.051    0.001 __init__.py:1284(write)\n",
      "       42    0.000    0.000    0.051    0.001 __init__.py:1291(writestr)\n",
      "       42    0.000    0.000    0.001    0.000 __init__.py:1302(writeMThdStr)\n",
      "       42    0.007    0.000    1.251    0.030 __init__.py:1393(_deepcopySubclassable)\n",
      "       42    0.000    0.000    1.348    0.032 __init__.py:1455(__deepcopy__)\n",
      "       42    0.000    0.000    0.097    0.002 __init__.py:1470(_replaceSpannerBundleForDeepcopy)\n",
      "    21924    0.018    0.000    0.039    0.000 __init__.py:1503(setElementOffset)\n",
      "       42    0.000    0.000    1.290    0.031 __init__.py:1510(getPitches)\n",
      "    73038    0.048    0.000    0.053    0.000 __init__.py:1547(elementOffset)\n",
      "     3654    0.020    0.000    0.097    0.000 __init__.py:1863(append)\n",
      "       42    0.000    0.000    0.001    0.000 __init__.py:193(__init__)\n",
      "      210    0.001    0.000    0.008    0.000 __init__.py:209(__init__)\n",
      "      210    0.001    0.000    0.001    0.000 __init__.py:232(putNumber)\n",
      "       42    0.000    0.000    0.049    0.001 __init__.py:2406(__init__)\n",
      "       42    0.000    0.000    2.055    0.049 __init__.py:246(write)\n",
      "     7560    0.014    0.000    0.020    0.000 __init__.py:259(putVariableLengthNumber)\n",
      "       42    0.000    0.000    0.000    0.000 __init__.py:262(__len__)\n",
      "      126    0.000    0.000    0.002    0.000 __init__.py:2674(getElementsByClass)\n",
      "      294    0.000    0.000    0.002    0.000 __init__.py:292(__iter__)\n",
      "      210    0.000    0.000    0.002    0.000 __init__.py:301(iter)\n",
      "     7266    0.006    0.000    0.020    0.000 __init__.py:314(__getitem__)\n",
      "     7602    0.001    0.000    0.001    0.000 __init__.py:374(hasattr)\n",
      "     7434    0.002    0.000    0.002    0.000 __init__.py:386(__getattr__)\n",
      "       42    0.000    0.000    1.290    0.031 __init__.py:392(getRealization)\n",
      "       84    0.000    0.000    0.002    0.000 __init__.py:4158(spanners)\n",
      "       42    0.000    0.000    0.000    0.000 __init__.py:4176(_getAtSoundingPitch)\n",
      "       84    0.000    0.000    0.000    0.000 __init__.py:433(__init__)\n",
      "      378    0.001    0.000    0.026    0.000 __init__.py:443(_getElements)\n",
      "    14868    0.026    0.000    0.030    0.000 __init__.py:485(__init__)\n",
      "    22218    0.006    0.000    0.006    0.000 __init__.py:514(updateSortOrder)\n",
      "     7308    0.001    0.000    0.001    0.000 __init__.py:544(_setPitch)\n",
      "     7308    0.001    0.000    0.001    0.000 __init__.py:556(_setVelocity)\n",
      "       84    0.000    0.000    0.000    0.000 __init__.py:566(_setData)\n",
      "      168    0.000    0.000    0.000    0.000 __init__.py:573(_getData)\n",
      "       42    0.000    0.000    0.001    0.000 __init__.py:579(setPitchBend)\n",
      "       42    0.006    0.000    0.098    0.002 __init__.py:6152(stripTies)\n",
      "     3654    0.001    0.000    0.002    0.000 __init__.py:6225(updateEndMatch)\n",
      "       42    0.000    0.000    0.047    0.001 __init__.py:639(__init__)\n",
      "      168    0.001    0.000    0.075    0.000 __init__.py:6444(sort)\n",
      "    10962    0.004    0.000    0.060    0.000 __init__.py:6471(<lambda>)\n",
      "       42    0.005    0.000    0.041    0.001 __init__.py:6480(sorted)\n",
      "       84    0.009    0.000    0.191    0.002 __init__.py:6591(_getFlatOrSemiFlat)\n",
      "      168    0.000    0.000    0.191    0.001 __init__.py:6649(flat)\n",
      "       84    0.001    0.000    0.088    0.001 __init__.py:670(_buildNetwork)\n",
      "      126    0.000    0.000    0.006    0.000 __init__.py:671(subconvertersList)\n",
      "     3654    0.001    0.000    0.001    0.000 __init__.py:7153(_setHighestTime)\n",
      "     3654    0.001    0.000    0.001    0.000 __init__.py:7158(highestTime)\n",
      "      126    0.003    0.000    0.006    0.000 __init__.py:753(defaultSubconverters)\n",
      "       42    0.001    0.000    0.003    0.000 __init__.py:793(getSubConverterFormats)\n",
      "     7434    0.011    0.000    0.021    0.000 __init__.py:816(getBytes)\n",
      "       84    0.000    0.000    0.002    0.000 __init__.py:84(__init__)\n",
      "      126    0.000    0.000    0.000    0.000 __init__.py:8595(hasPartLikeStreams)\n",
      "       42    0.000    0.000    0.001    0.000 __init__.py:8730(notesAndRests)\n",
      "       84    0.000    0.000    0.003    0.000 __init__.py:886(mergeAttributes)\n",
      "       42    0.000    0.000    0.003    0.000 __init__.py:899(regularizeFormat)\n",
      "     3654    0.003    0.000    0.058    0.000 __init__.py:910(hasElement)\n",
      "    32466    0.084    0.000    0.241    0.000 _abcoll.py:548(update)\n",
      "    95802    0.040    0.000    0.040    0.000 _weakrefset.py:70(__contains__)\n",
      "    31668    0.049    0.000    0.077    0.000 abc.py:128(__instancecheck__)\n",
      "    32466    0.022    0.000    0.040    0.000 abc.py:148(__subclasscheck__)\n",
      "     3654    0.022    0.000    0.137    0.000 base.py:1237(purgeOrphans)\n",
      "     3654    0.002    0.000    0.006    0.000 base.py:1270(purgeLocations)\n",
      "     3654    0.003    0.000    0.005    0.000 base.py:2061(_getActiveSite)\n",
      "    36498    0.034    0.000    0.069    0.000 base.py:2073(_setActiveSite)\n",
      "    10962    0.029    0.000    0.056    0.000 base.py:2292(sortTuple)\n",
      "    43848    0.009    0.000    0.009    0.000 base.py:2433(_getDuration)\n",
      "    15666    0.022    0.000    0.073    0.000 base.py:2442(_setDuration)\n",
      "    10962    0.010    0.000    0.092    0.000 base.py:2464(informSites)\n",
      "    10962    0.001    0.000    0.001    0.000 base.py:2478(_getPriority)\n",
      "       42    0.000    0.000    2.055    0.049 base.py:2529(write)\n",
      "    27972    0.091    0.000    0.592    0.000 base.py:409(__init__)\n",
      "       84    0.000    0.000    0.003    0.000 base.py:459(mergeAttributes)\n",
      "     3696    0.118    0.000    1.012    0.000 base.py:479(_deepcopySubclassable)\n",
      "     3654    0.006    0.000    1.149    0.000 base.py:585(__deepcopy__)\n",
      "      126    0.000    0.000    0.000    0.000 base.py:632(__getstate__)\n",
      "      126    0.000    0.000    0.000    0.000 base.py:638(__setstate__)\n",
      "    18270    0.008    0.000    0.013    0.000 base.py:643(isClassOrSubclass)\n",
      "    48594    0.014    0.000    0.014    0.000 base.py:668(classes)\n",
      "    18270    0.003    0.000    0.003    0.000 base.py:707(classSet)\n",
      "      252    0.000    0.000    0.000    0.000 base.py:898(_getDerivation)\n",
      "     3654    0.002    0.000    0.005    0.000 base.py:933(getOffsetBySite)\n",
      "    12012    0.005    0.000    0.005    0.000 beam.py:196(__init__)\n",
      "    78792    0.060    0.000    0.060    0.000 classTools.py:18(isNum)\n",
      "     3906    0.002    0.000    0.003    0.000 classTools.py:63(isListLike)\n",
      "     3654    0.001    0.000    0.003    0.000 classTools.py:89(isIterable)\n",
      "    18564    0.019    0.000    0.030    0.000 collections.py:117(keys)\n",
      "       84    0.000    0.000    0.000    0.000 collections.py:125(items)\n",
      "    32466    0.222    0.000    0.506    0.000 collections.py:50(__init__)\n",
      "    59094    0.062    0.000    0.062    0.000 collections.py:71(__setitem__)\n",
      "     3654    0.006    0.000    0.007    0.000 collections.py:81(__delitem__)\n",
      "    78708    0.021    0.000    0.021    0.000 collections.py:90(__iter__)\n",
      "       84    0.000    0.000    0.000    0.000 copy.py:113(_copy_with_constructor)\n",
      "132552/3150    0.170    0.000    1.481    0.000 copy.py:145(deepcopy)\n",
      "     7350    0.001    0.000    0.001    0.000 copy.py:198(_deepcopy_atomic)\n",
      "    14658    0.008    0.000    0.019    0.000 copy.py:226(_deepcopy_list)\n",
      "     7434    0.031    0.000    0.041    0.000 copy.py:234(_deepcopy_tuple)\n",
      "     3654    0.009    0.000    0.027    0.000 copy.py:253(_deepcopy_dict)\n",
      "    60858    0.040    0.000    0.051    0.000 copy.py:267(_keep_alive)\n",
      "     7560    0.028    0.000    0.146    0.000 copy.py:306(_reconstruct)\n",
      "      210    0.000    0.000    0.003    0.000 copy.py:66(copy)\n",
      "     7560    0.004    0.000    0.006    0.000 copy_reg.py:92(__newobj__)\n",
      "     3948    0.008    0.000    0.027    0.000 core.py:154(coreElementsChanged)\n",
      "     3654    0.040    0.000    0.054    0.000 core.py:241(coreHasElementByMemoryLocation)\n",
      "     3654    0.003    0.000    0.010    0.000 core.py:301(coreGuardBeforeAddElement)\n",
      "      210    0.000    0.000    0.000    0.000 core.py:34(__init__)\n",
      "       42    0.000    0.000    0.096    0.002 core.py:361(spannerBundle)\n",
      "    14616    0.026    0.000    0.159    0.000 core.py:60(coreInsert)\n",
      "     3864    0.003    0.000    0.008    0.000 derivation.py:123(__init__)\n",
      "     3864    0.003    0.000    0.005    0.000 derivation.py:180(client)\n",
      "      294    0.000    0.000    0.000    0.000 derivation.py:221(method)\n",
      "     3864    0.001    0.000    0.001    0.000 derivation.py:261(method)\n",
      "      168    0.000    0.000    0.000    0.000 derivation.py:265(origin)\n",
      "     3864    0.002    0.000    0.002    0.000 derivation.py:269(origin)\n",
      "    19320    0.096    0.000    0.226    0.000 duration.py:1441(__init__)\n",
      "     3654    0.005    0.000    0.029    0.000 duration.py:1550(__repr__)\n",
      "     3654    0.009    0.000    0.060    0.000 duration.py:1560(__deepcopy__)\n",
      "    26628    0.013    0.000    0.031    0.000 duration.py:1592(_getClient)\n",
      "    19320    0.011    0.000    0.019    0.000 duration.py:1595(_setClient)\n",
      "     3654    0.009    0.000    0.146    0.000 duration.py:1605(_updateComponents)\n",
      "    44898    0.007    0.000    0.007    0.000 duration.py:1627(_getLinked)\n",
      "     7308    0.013    0.000    0.105    0.000 duration.py:1646(addDurationTuple)\n",
      "     3654    0.003    0.000    0.061    0.000 duration.py:1803(clear)\n",
      "    26628    0.026    0.000    0.177    0.000 duration.py:2076(informClient)\n",
      "    14616    0.024    0.000    0.079    0.000 duration.py:2269(updateQuarterLength)\n",
      "    10962    0.004    0.000    0.004    0.000 duration.py:2286(components)\n",
      "     3654    0.004    0.000    0.127    0.000 duration.py:2292(components)\n",
      "     3654    0.021    0.000    0.178    0.000 duration.py:2445(fullName)\n",
      "    14616    0.012    0.000    0.017    0.000 duration.py:2598(quarterLengthNoTuplets)\n",
      "    33936    0.009    0.000    0.027    0.000 duration.py:2612(_getQuarterLength)\n",
      "    15666    0.028    0.000    0.079    0.000 duration.py:2620(_setQuarterLength)\n",
      "18270/10962    0.005    0.000    0.150    0.000 duration.py:2683(tuplets)\n",
      "    14616    0.013    0.000    0.022    0.000 duration.py:2698(aggregateTupletMultiplier)\n",
      "     3654    0.001    0.000    0.001    0.000 duration.py:2804(durationTupleFromTypeDots)\n",
      "     3654    0.005    0.000    0.009    0.000 duration.py:482(quarterConversion)\n",
      "      210    0.000    0.000    0.001    0.000 filters.py:265(__init__)\n",
      "    18270    0.006    0.000    0.019    0.000 filters.py:280(__call__)\n",
      "      210    0.000    0.000    0.000    0.000 filters.py:60(__init__)\n",
      "       42    0.000    0.000    0.002    0.000 formats.py:39(findSubConverterForFormat)\n",
      "       42    0.000    0.000    0.006    0.000 formats.py:67(findFormat)\n",
      "        2    0.000    0.000    0.000    0.000 inkey.py:35(get_all_keys)\n",
      "      336    0.001    0.000    0.011    0.000 inkey.py:5(note_octave_mod)\n",
      "     3906    0.047    0.000    0.137    0.000 interval.py:1075(__init__)\n",
      "     4704    0.004    0.000    0.006    0.000 interval.py:112(_extractPitch)\n",
      "      882    0.001    0.000    0.059    0.000 interval.py:1199(reverse)\n",
      "      588    0.001    0.000    0.015    0.000 interval.py:1237(getChromatic)\n",
      "     2352    0.001    0.000    0.001    0.000 interval.py:130(convertStaffDistanceToInterval)\n",
      "     3906    0.024    0.000    0.140    0.000 interval.py:1354(__init__)\n",
      "      882    0.001    0.000    0.021    0.000 interval.py:1422(reverse)\n",
      "       84    0.000    0.000    0.005    0.000 interval.py:1438(getDiatonic)\n",
      "       84    0.000    0.000    0.007    0.000 interval.py:1470(transposePitch)\n",
      "      588    0.003    0.000    0.054    0.000 interval.py:1516(_stringToDiatonicChromatic)\n",
      "     2352    0.003    0.000    0.003    0.000 interval.py:153(convertDiatonicNumberToStep)\n",
      "     2352    0.007    0.000    0.108    0.000 interval.py:1571(notesToGeneric)\n",
      "     2352    0.007    0.000    0.158    0.000 interval.py:1598(notesToChromatic)\n",
      "     2352    0.006    0.000    0.006    0.000 interval.py:1631(_getSpecifierFromGenericChromatic)\n",
      "     2352    0.003    0.000    0.095    0.000 interval.py:1690(intervalsToDiatonic)\n",
      "     3906    0.032    0.000    0.833    0.000 interval.py:1894(__init__)\n",
      "     3906    0.017    0.000    0.384    0.000 interval.py:1955(reinit)\n",
      "     3906    0.006    0.000    0.009    0.000 interval.py:213(convertSpecifier)\n",
      "     2436    0.019    0.000    0.947    0.000 interval.py:2155(transposePitch)\n",
      "     2352    0.021    0.000    0.921    0.000 interval.py:2225(_diatonicTransposePitch)\n",
      "      882    0.003    0.000    0.102    0.000 interval.py:2296(reverse)\n",
      "     3906    0.003    0.000    0.005    0.000 interval.py:273(convertGeneric)\n",
      "       84    0.000    0.000    0.000    0.000 interval.py:361(convertSemitoneToSpecifierGenericMicrotone)\n",
      "       84    0.000    0.000    0.000    0.000 interval.py:445(convertSemitoneToSpecifierGeneric)\n",
      "     3906    0.042    0.000    0.118    0.000 interval.py:655(__init__)\n",
      "      882    0.001    0.000    0.029    0.000 interval.py:799(reverse)\n",
      "      588    0.000    0.000    0.019    0.000 interval.py:958(getDiatonic)\n",
      "     2352    0.023    0.000    0.043    0.000 intervalNetwork.py:1060(_getNext)\n",
      "      588    0.001    0.000    0.070    0.000 intervalNetwork.py:110(__init__)\n",
      "     2352    0.001    0.000    0.001    0.000 intervalNetwork.py:1114(_processAlteredNodes)\n",
      "      210    0.000    0.000    0.000    0.000 intervalNetwork.py:1153(_getUnalteredPitch)\n",
      "      210    0.000    0.000    0.002    0.000 intervalNetwork.py:1296(_getCacheKey)\n",
      "   126/42    0.015    0.000    1.277    0.030 intervalNetwork.py:1313(_realizeAscending)\n",
      "       84    0.013    0.000    0.513    0.006 intervalNetwork.py:1472(_realizeDescending)\n",
      "     2352    0.000    0.000    0.000    0.000 intervalNetwork.py:154(interval)\n",
      "       42    0.000    0.000    1.279    0.030 intervalNetwork.py:1658(realize)\n",
      "     1176    0.004    0.000    0.007    0.000 intervalNetwork.py:185(addDirectedConnection)\n",
      "       42    0.000    0.000    1.279    0.030 intervalNetwork.py:1851(realizePitch)\n",
      "       42    0.000    0.000    0.126    0.003 intervalNetwork.py:1953(realizeTermini)\n",
      "       42    0.003    0.000    1.133    0.027 intervalNetwork.py:1990(realizeMinMax)\n",
      "      588    0.001    0.000    0.007    0.000 intervalNetwork.py:226(addBiDirectedConnections)\n",
      "    16464    0.014    0.000    0.014    0.000 intervalNetwork.py:248(getConnections)\n",
      "     2352    0.006    0.000    0.948    0.000 intervalNetwork.py:2836(transposePitchAndApplySimplification)\n",
      "      672    0.000    0.000    0.000    0.000 intervalNetwork.py:324(__init__)\n",
      "      168    0.000    0.000    0.000    0.000 intervalNetwork.py:335(__hash__)\n",
      "       84    0.001    0.000    0.086    0.001 intervalNetwork.py:412(__init__)\n",
      "       84    0.000    0.000    0.002    0.000 intervalNetwork.py:445(clear)\n",
      "       84    0.003    0.000    0.084    0.001 intervalNetwork.py:486(fillBiDirectedEdges)\n",
      "     3444    0.001    0.000    0.002    0.000 intervalNetwork.py:63(_gte)\n",
      "     2184    0.001    0.000    0.001    0.000 intervalNetwork.py:73(_lte)\n",
      "       84    0.000    0.000    0.000    0.000 intervalNetwork.py:841(terminusLowNodes)\n",
      "      126    0.000    0.000    0.000    0.000 intervalNetwork.py:857(terminusHighNodes)\n",
      "       42    0.000    0.000    0.001    0.000 intervalNetwork.py:875(_getNodeDegreeDictionary)\n",
      "       42    0.000    0.000    0.002    0.000 intervalNetwork.py:987(_nodeNameToNodes)\n",
      "        6    0.000    0.000    0.000    0.000 iostream.py:195(schedule)\n",
      "        4    0.000    0.000    0.000    0.000 iostream.py:300(_is_master_process)\n",
      "        4    0.000    0.000    0.000    0.000 iostream.py:313(_schedule_flush)\n",
      "        4    0.000    0.000    0.000    0.000 iostream.py:366(write)\n",
      "        6    0.000    0.000    0.000    0.000 iostream.py:93(_event_pipe)\n",
      "      336    0.000    0.000    0.001    0.000 iterator.py:130(__iter__)\n",
      "       84    0.000    0.000    0.026    0.000 iterator.py:1309(__init__)\n",
      "       84    0.000    0.000    0.000    0.000 iterator.py:1340(reset)\n",
      "     7392    0.013    0.000    0.018    0.000 iterator.py:1349(__next__)\n",
      "    11298    0.030    0.000    0.088    0.000 iterator.py:135(__next__)\n",
      "     7308    0.002    0.000    0.002    0.000 iterator.py:1439(iteratorStack)\n",
      "     7308    0.009    0.000    0.023    0.000 iterator.py:1482(currentHierarchyOffset)\n",
      "      126    0.000    0.000    0.024    0.000 iterator.py:351(__bool__)\n",
      "    19068    0.009    0.000    0.009    0.000 iterator.py:407(updateActiveInformation)\n",
      "      420    0.000    0.000    0.001    0.000 iterator.py:421(reset)\n",
      "      210    0.000    0.000    0.000    0.000 iterator.py:433(resetCaches)\n",
      "      420    0.000    0.000    0.000    0.000 iterator.py:443(cleanup)\n",
      "       84    0.002    0.000    0.031    0.000 iterator.py:473(matchingElements)\n",
      "    32886    0.013    0.000    0.033    0.000 iterator.py:528(matchesFilters)\n",
      "       84    0.004    0.000    0.081    0.001 iterator.py:574(stream)\n",
      "      378    0.002    0.000    0.028    0.000 iterator.py:65(__init__)\n",
      "      210    0.000    0.000    0.000    0.000 iterator.py:701(addFilter)\n",
      "      210    0.000    0.000    0.001    0.000 iterator.py:744(getElementsByClass)\n",
      "       42    0.000    0.000    0.002    0.000 key.py:153(pitchToSharps)\n",
      "       42    0.000    0.000    0.002    0.000 key.py:386(__init__)\n",
      "       42    0.001    0.000    0.096    0.002 key.py:845(__init__)\n",
      "    12012    0.025    0.000    0.711    0.000 note.py:1056(__init__)\n",
      "     3654    0.010    0.000    0.219    0.000 note.py:1527(fullName)\n",
      "    12012    0.032    0.000    0.452    0.000 note.py:363(__init__)\n",
      "    12012    0.033    0.000    0.490    0.000 note.py:733(__init__)\n",
      "     3654    0.005    0.000    1.154    0.000 note.py:751(__deepcopy__)\n",
      "    10962    0.004    0.000    0.014    0.000 note.py:936(_getVolume)\n",
      "    74130    0.042    0.000    0.066    0.000 numberTools.py:235(opFrac)\n",
      "    39858    0.058    0.000    0.072    0.000 numberTools.py:441(py3round)\n",
      "     3654    0.011    0.000    0.038    0.000 objects.py:121(__getstate__)\n",
      "     3654    0.005    0.000    0.007    0.000 objects.py:136(__setstate__)\n",
      "     5502    0.016    0.000    0.034    0.000 objects.py:140(_getSlotsRecursive)\n",
      "    25578    0.009    0.000    0.009    0.000 objects.py:74(__call__)\n",
      "     2184    0.001    0.000    0.002    0.000 pitch.py:1068(isTwelveTone)\n",
      "     3360    0.001    0.000    0.001    0.000 pitch.py:1089(_getName)\n",
      "     7896    0.002    0.000    0.002    0.000 pitch.py:1101(_getAlter)\n",
      "      672    0.000    0.000    0.000    0.000 pitch.py:1136(_getDisplayType)\n",
      "      672    0.000    0.000    0.000    0.000 pitch.py:1139(_setDisplayType)\n",
      "      672    0.000    0.000    0.000    0.000 pitch.py:1159(_getDisplayStatus)\n",
      "     1344    0.001    0.000    0.001    0.000 pitch.py:1162(_setDisplayStatus)\n",
      "     1092    0.001    0.000    0.001    0.000 pitch.py:1204(fullName)\n",
      "      672    0.002    0.000    0.005    0.000 pitch.py:1224(inheritDisplay)\n",
      "     8484    0.034    0.000    0.199    0.000 pitch.py:1444(__init__)\n",
      "     3696    0.031    0.000    0.125    0.000 pitch.py:1563(__deepcopy__)\n",
      "       84    0.000    0.000    0.000    0.000 pitch.py:160(_convertPsToOct)\n",
      "    56028    0.007    0.000    0.007    0.000 pitch.py:1700(_getAccidental)\n",
      "    12264    0.020    0.000    0.050    0.000 pitch.py:1703(_setAccidental)\n",
      "    68250    0.008    0.000    0.008    0.000 pitch.py:1751(_getMicrotone)\n",
      "     2352    0.005    0.000    0.011    0.000 pitch.py:1754(_setMicrotone)\n",
      "     7308    0.009    0.000    0.031    0.000 pitch.py:1792(isTwelveTone)\n",
      "       84    0.001    0.000    0.002    0.000 pitch.py:187(_convertPsToStep)\n",
      "    28644    0.071    0.000    0.221    0.000 pitch.py:2037(_getPs)\n",
      "       84    0.000    0.000    0.003    0.000 pitch.py:2065(_setPs)\n",
      "     7308    0.006    0.000    0.066    0.000 pitch.py:2171(_getMidi)\n",
      "     7308    0.004    0.000    0.005    0.000 pitch.py:2175(schoolYardRounding)\n",
      "      504    0.000    0.000    0.001    0.000 pitch.py:2292(_getName)\n",
      "     8484    0.095    0.000    0.138    0.000 pitch.py:2309(_setName)\n",
      "      504    0.001    0.000    0.001    0.000 pitch.py:2390(_getNameWithOctave)\n",
      "     3654    0.010    0.000    0.029    0.000 pitch.py:2476(fullName)\n",
      "    14658    0.003    0.000    0.003    0.000 pitch.py:2507(_getStep)\n",
      "     2436    0.004    0.000    0.005    0.000 pitch.py:2516(_setStep)\n",
      "    83244    0.012    0.000    0.012    0.000 pitch.py:2714(_getOctave)\n",
      "    11298    0.006    0.000    0.006    0.000 pitch.py:2720(_setOctave)\n",
      "    35742    0.023    0.000    0.033    0.000 pitch.py:2754(_getImplicitOctave)\n",
      "     1344    0.002    0.000    0.002    0.000 pitch.py:322(_convertCentsToAlterAndCents)\n",
      "    39606    0.031    0.000    0.112    0.000 pitch.py:369(_convertHarmonicToCents)\n",
      "     7056    0.020    0.000    0.035    0.000 pitch.py:3928(_getDiatonicNoteNum)\n",
      "       84    0.000    0.000    0.017    0.000 pitch.py:4019(transpose)\n",
      "       84    0.000    0.000    0.003    0.000 pitch.py:4133(transposeBelowTarget)\n",
      "       42    0.000    0.000    0.003    0.000 pitch.py:4208(transposeAboveTarget)\n",
      "    14616    0.011    0.000    0.017    0.000 pitch.py:608(__init__)\n",
      "     3696    0.004    0.000    0.008    0.000 pitch.py:621(__deepcopy__)\n",
      "    28644    0.012    0.000    0.109    0.000 pitch.py:714(alter)\n",
      "    39606    0.019    0.000    0.131    0.000 pitch.py:724(cents)\n",
      "     1428    0.003    0.000    0.008    0.000 pitch.py:808(__init__)\n",
      "     1848    0.011    0.000    0.029    0.000 pitch.py:842(__deepcopy__)\n",
      "     1428    0.003    0.000    0.003    0.000 pitch.py:981(set)\n",
      "       42    0.000    0.000    0.000    0.000 re.py:138(match)\n",
      "       42    0.000    0.000    0.000    0.000 re.py:230(_compile)\n",
      "    25578    0.013    0.000    0.020    0.000 sites.py:100(_setAndWrapSite)\n",
      "    31668    0.070    0.000    0.573    0.000 sites.py:167(__init__)\n",
      "     3696    0.024    0.000    0.155    0.000 sites.py:180(__deepcopy__)\n",
      "     3948    0.001    0.000    0.001    0.000 sites.py:280(__iter__)\n",
      "    21924    0.067    0.000    0.129    0.000 sites.py:330(add)\n",
      "    33180    0.046    0.000    0.113    0.000 sites.py:403(yieldSites)\n",
      "    10962    0.017    0.000    0.077    0.000 sites.py:492(get)\n",
      "    10962    0.003    0.000    0.003    0.000 sites.py:790(hasSiteId)\n",
      "     3654    0.003    0.000    0.004    0.000 sites.py:839(purgeLocations)\n",
      "    25578    0.010    0.000    0.010    0.000 sites.py:87(__init__)\n"
     ]
    },
    {
     "name": "stdout",
     "output_type": "stream",
     "text": [
      "    52407    0.023    0.000    0.051    0.000 sites.py:94(_getAndUnwrapSite)\n",
      "     3654    0.004    0.000    0.012    0.000 sites.py:952(removeById)\n",
      "        6    0.000    0.000    0.000    0.000 socket.py:333(send)\n",
      "    10836    0.005    0.000    0.007    0.000 sorting.py:112(__lt__)\n",
      "    10962    0.007    0.000    0.013    0.000 sorting.py:96(__new__)\n",
      "       42    0.000    0.000    0.001    0.000 spanner.py:618(__init__)\n",
      "       42    0.000    0.000    0.000    0.000 spanner.py:649(__len__)\n",
      "      294    0.000    0.000    0.000    0.000 streamStatus.py:179(client)\n",
      "      252    0.001    0.000    0.001    0.000 streamStatus.py:72(__init__)\n",
      "       42    0.000    0.000    0.001    0.000 streamStatus.py:87(__deepcopy__)\n",
      "     7770    0.002    0.000    0.003    0.000 string.py:310(join)\n",
      "      588    0.001    0.000    0.001    0.000 stringTools.py:98(getNumFromStr)\n",
      "     1428    0.002    0.000    0.002    0.000 style.py:379(__init__)\n",
      "       42    0.000    0.000    0.002    0.000 subConverters.py:80(__init__)\n",
      "       42    0.000    0.000    2.045    0.049 subConverters.py:921(write)\n",
      "        6    0.000    0.000    0.000    0.000 threading.py:570(isSet)\n",
      "        6    0.000    0.000    0.000    0.000 threading.py:986(isAlive)\n",
      "       42    0.023    0.001    0.234    0.006 translate.py:1028(_streamToPackets)\n",
      "     7308    0.002    0.000    0.002    0.000 translate.py:1116(<lambda>)\n",
      "       42    0.025    0.001    0.030    0.001 translate.py:1122(_processPackets)\n",
      "     7350    0.001    0.000    0.001    0.000 translate.py:1323(<lambda>)\n",
      "       42    0.010    0.000    0.033    0.001 translate.py:1336(_packetsToEvents)\n",
      "       42    0.000    0.000    0.001    0.000 translate.py:164(getStartEvents)\n",
      "       42    0.002    0.000    1.419    0.034 translate.py:1646(_prepareStreamForMidi)\n",
      "       42    0.003    0.000    1.987    0.047 translate.py:1680(streamHierarchyToMidiTracks)\n",
      "       42    0.001    0.000    1.988    0.047 translate.py:1890(streamToMidiFile)\n",
      "       42    0.000    0.000    0.001    0.000 translate.py:210(getEndEvents)\n",
      "       42    0.000    0.000    1.989    0.047 translate.py:237(music21ObjectToMidiFile)\n",
      "     3654    0.031    0.000    0.145    0.000 translate.py:361(noteToMidiEvents)\n",
      "     7308    0.006    0.000    0.006    0.000 translate.py:43(offsetToMidi)\n",
      "     7308    0.006    0.000    0.009    0.000 translate.py:72(durationToMidi)\n",
      "     7350    0.014    0.000    0.022    0.000 translate.py:994(_getPacket)\n",
      "        4    0.000    0.000    0.000    0.000 utf_8.py:15(decode)\n",
      "        1    0.000    0.000    0.000    0.000 util.py:11(load_split_file)\n",
      "     3654    0.006    0.000    0.016    0.000 volume.py:152(getRealized)\n",
      "     3654    0.001    0.000    0.001    0.000 volume.py:282(cachedRealized)\n",
      "     7308    0.003    0.000    0.006    0.000 volume.py:310(client)\n",
      "     3654    0.003    0.000    0.007    0.000 volume.py:324(client)\n",
      "       42    0.008    0.000    0.069    0.002 volume.py:406(realizeVolume)\n",
      "     3654    0.002    0.000    0.010    0.000 volume.py:65(__init__)\n",
      "    85554    0.027    0.000    0.027    0.000 weakrefTools.py:18(wrapWeakref)\n",
      "    89997    0.034    0.000    0.051    0.000 weakrefTools.py:49(unwrapWeakref)\n",
      "        4    0.000    0.000    0.000    0.000 {_codecs.utf_8_decode}\n",
      "    56532    0.006    0.000    0.006    0.000 {abs}\n",
      "    27720    0.006    0.000    0.006    0.000 {built-in method __new__ of type object at 0x5615698cd9c0}\n",
      "     5292    0.000    0.000    0.000    0.000 {callable}\n",
      "    41706    0.004    0.000    0.004    0.000 {chr}\n",
      "      168    0.000    0.000    0.000    0.000 {divmod}\n",
      "   249900    0.047    0.000    0.049    0.000 {getattr}\n",
      "85638/81984    0.033    0.000    0.044    0.000 {hasattr}\n",
      "      168    0.000    0.000    0.000    0.000 {hash}\n",
      "       84    0.000    0.000    0.000    0.000 {hex}\n",
      "   748440    0.044    0.000    0.044    0.000 {id}\n",
      "   219781    0.056    0.000    0.133    0.000 {isinstance}\n",
      "    27762    0.007    0.000    0.007    0.000 {issubclass}\n",
      "139776/139692    0.015    0.000    0.015    0.000 {len}\n",
      "     7392    0.001    0.000    0.001    0.000 {math.floor}\n",
      "    39606    0.010    0.000    0.010    0.000 {math.log}\n",
      "     3906    0.002    0.000    0.002    0.000 {math.modf}\n",
      "     7560    0.036    0.000    0.074    0.000 {method '__reduce_ex__' of 'object' objects}\n",
      "        6    0.000    0.000    0.000    0.000 {method 'append' of 'collections.deque' objects}\n",
      "   210126    0.023    0.000    0.023    0.000 {method 'append' of 'list' objects}\n",
      "    59514    0.024    0.000    0.024    0.000 {method 'as_integer_ratio' of 'float' objects}\n",
      "       84    0.002    0.000    0.002    0.000 {method 'close' of 'file' objects}\n",
      "     3780    0.001    0.000    0.001    0.000 {method 'copy' of 'dict' objects}\n",
      "     7056    0.002    0.000    0.002    0.000 {method 'count' of 'list' objects}\n",
      "        4    0.000    0.000    0.000    0.000 {method 'decode' of 'str' objects}\n",
      "        1    0.000    0.000    0.000    0.000 {method 'disable' of '_lsprof.Profiler' objects}\n",
      "      126    0.000    0.000    0.000    0.000 {method 'extend' of 'list' objects}\n",
      "     3654    0.003    0.000    0.003    0.000 {method 'format' of 'str' objects}\n",
      "   201180    0.028    0.000    0.028    0.000 {method 'get' of 'dict' objects}\n",
      "       84    0.000    0.000    0.000    0.000 {method 'group' of '_sre.SRE_Match' objects}\n",
      "    11676    0.004    0.000    0.004    0.000 {method 'index' of 'list' objects}\n",
      "    18270    0.002    0.000    0.002    0.000 {method 'isdisjoint' of 'frozenset' objects}\n",
      "    36246    0.006    0.000    0.006    0.000 {method 'items' of 'dict' objects}\n",
      "     3654    0.001    0.000    0.001    0.000 {method 'iteritems' of 'dict' objects}\n",
      "    33432    0.005    0.000    0.005    0.000 {method 'join' of 'str' objects}\n",
      "        2    0.000    0.000    0.000    0.000 {method 'keys' of 'dict' objects}\n",
      "     9660    0.001    0.000    0.001    0.000 {method 'lower' of 'str' objects}\n",
      "       42    0.000    0.000    0.000    0.000 {method 'match' of '_sre.SRE_Pattern' objects}\n",
      "     5502    0.009    0.000    0.009    0.000 {method 'mro' of 'type' objects}\n",
      "     3654    0.001    0.000    0.001    0.000 {method 'pop' of 'dict' objects}\n",
      "        1    0.000    0.000    0.000    0.000 {method 'read' of 'file' objects}\n",
      "        1    0.000    0.000    0.000    0.000 {method 'replace' of 'str' objects}\n",
      "     7770    0.001    0.000    0.001    0.000 {method 'reverse' of 'list' objects}\n",
      "      336    0.008    0.000    0.078    0.000 {method 'sort' of 'list' objects}\n",
      "       85    0.000    0.000    0.000    0.000 {method 'split' of 'str' objects}\n",
      "    88830    0.011    0.000    0.011    0.000 {method 'startswith' of 'str' objects}\n",
      "    14659    0.002    0.000    0.002    0.000 {method 'strip' of 'str' objects}\n",
      "     3132    0.001    0.000    0.001    0.000 {method 'title' of 'str' objects}\n",
      "    22008    0.005    0.000    0.005    0.000 {method 'update' of 'set' objects}\n",
      "    53676    0.007    0.000    0.007    0.000 {method 'upper' of 'str' objects}\n",
      "      126    0.000    0.000    0.000    0.000 {method 'values' of 'dict' objects}\n",
      "       84    0.001    0.000    0.001    0.000 {method 'write' of 'file' objects}\n",
      "       43    0.003    0.000    0.003    0.000 {open}\n",
      "     7644    0.001    0.000    0.001    0.000 {ord}\n",
      "        4    0.000    0.000    0.000    0.000 {posix.getpid}\n",
      "    28396    0.009    0.000    0.009    0.000 {range}\n",
      "   104244    0.020    0.000    0.020    0.000 {round}\n",
      "   148218    0.029    0.000    0.030    0.000 {setattr}\n",
      "      126    0.001    0.000    0.001    0.000 {sorted}\n",
      "    14658    0.004    0.000    0.004    0.000 {sum}\n",
      "       43    0.000    0.000    0.000    0.000 {time.time}\n",
      "\n",
      "\n"
     ]
    },
    {
     "data": {
      "text/plain": [
       "<pstats.Stats instance at 0x7f4ad6bafbd8>"
      ]
     },
     "execution_count": 12,
     "metadata": {},
     "output_type": "execute_result"
    }
   ],
   "source": [
    "# Let's summarize the profiling run\n",
    "p = pstats.Stats('cpout.txt')\n",
    "p.strip_dirs().sort_stats(-1).print_stats() # order by name"
   ]
  },
  {
   "cell_type": "code",
   "execution_count": 13,
   "metadata": {
    "scrolled": true
   },
   "outputs": [
    {
     "name": "stdout",
     "output_type": "stream",
     "text": [
      "Mon May 13 20:21:25 2019    cpout.txt\n",
      "\n",
      "         5766906 function calls (5626374 primitive calls) in 4.069 seconds\n",
      "\n",
      "   Ordered by: cumulative time\n",
      "   List reduced from 421 to 10 due to restriction <10>\n",
      "\n",
      "   ncalls  tottime  percall  cumtime  percall filename:lineno(function)\n",
      "        1    0.000    0.000    4.071    4.071 <string>:1(<module>)\n",
      "        1    0.000    0.000    4.071    4.071 <ipython-input-3-02a0ed9aa61e>:140(my_main)\n",
      "        1    0.000    0.000    4.070    4.070 <ipython-input-3-02a0ed9aa61e>:125(grid_search)\n",
      "       42    0.001    0.000    4.070    0.097 <ipython-input-3-02a0ed9aa61e>:113(generate_and_save_song)\n",
      "       42    0.000    0.000    2.055    0.049 <ipython-input-3-02a0ed9aa61e>:107(save_midifile)\n",
      "       42    0.000    0.000    2.055    0.049 __init__.py:246(write)\n",
      "       42    0.000    0.000    2.055    0.049 base.py:2529(write)\n",
      "       42    0.000    0.000    2.045    0.049 subConverters.py:921(write)\n",
      "       42    0.000    0.000    1.989    0.047 translate.py:237(music21ObjectToMidiFile)\n",
      "       42    0.001    0.000    1.988    0.047 translate.py:1890(streamToMidiFile)\n",
      "\n",
      "\n"
     ]
    },
    {
     "data": {
      "text/plain": [
       "<pstats.Stats instance at 0x7f4ad6bafbd8>"
      ]
     },
     "execution_count": 13,
     "metadata": {},
     "output_type": "execute_result"
    }
   ],
   "source": [
    "# Print by cumulative time\n",
    "# That is the sum of time for all calls and child calls\n",
    "# These are functions who call on others to do work\n",
    "p.sort_stats('cumulative').print_stats(10)"
   ]
  },
  {
   "cell_type": "code",
   "execution_count": 14,
   "metadata": {
    "scrolled": true
   },
   "outputs": [
    {
     "name": "stdout",
     "output_type": "stream",
     "text": [
      "Mon May 13 20:21:25 2019    cpout.txt\n",
      "\n",
      "         5766906 function calls (5626374 primitive calls) in 4.069 seconds\n",
      "\n",
      "   Ordered by: internal time\n",
      "   List reduced from 421 to 10 due to restriction <10>\n",
      "\n",
      "   ncalls  tottime  percall  cumtime  percall filename:lineno(function)\n",
      "    32466    0.222    0.000    0.506    0.000 collections.py:50(__init__)\n",
      "132552/3150    0.170    0.000    1.481    0.000 copy.py:145(deepcopy)\n",
      "     3696    0.118    0.000    1.012    0.000 base.py:479(_deepcopySubclassable)\n",
      "    19320    0.096    0.000    0.226    0.000 duration.py:1441(__init__)\n",
      "     8484    0.095    0.000    0.138    0.000 pitch.py:2309(_setName)\n",
      "    27972    0.091    0.000    0.592    0.000 base.py:409(__init__)\n",
      "    32466    0.084    0.000    0.241    0.000 _abcoll.py:548(update)\n",
      "    28644    0.071    0.000    0.221    0.000 pitch.py:2037(_getPs)\n",
      "    31668    0.070    0.000    0.573    0.000 sites.py:167(__init__)\n",
      "    21924    0.067    0.000    0.129    0.000 sites.py:330(add)\n",
      "\n",
      "\n"
     ]
    },
    {
     "data": {
      "text/plain": [
       "<pstats.Stats instance at 0x7f4ad6bafbd8>"
      ]
     },
     "execution_count": 14,
     "metadata": {},
     "output_type": "execute_result"
    }
   ],
   "source": [
    "# total time is the time WITHIN the funciton but not subcalls\n",
    "# these are the beefy functions where time is spent\n",
    "p.sort_stats('tottime').print_stats(10)"
   ]
  },
  {
   "cell_type": "markdown",
   "metadata": {},
   "source": [
    "# Looking at the results\n",
    "\n",
    "Above, do you notice what library is taking up most of the top 6 places?\n",
    "\n",
    "2 of those calls are to init, so that's object creation.\n",
    "\n",
    "There's also a reference to deepcopy."
   ]
  },
  {
   "cell_type": "code",
   "execution_count": 15,
   "metadata": {
    "scrolled": true
   },
   "outputs": [
    {
     "name": "stdout",
     "output_type": "stream",
     "text": [
      "Mon May 13 20:21:25 2019    cpout.txt\n",
      "\n",
      "         5766906 function calls (5626374 primitive calls) in 4.069 seconds\n",
      "\n",
      "   Ordered by: call count\n",
      "   List reduced from 421 to 20 due to restriction <20>\n",
      "\n",
      "   ncalls  tottime  percall  cumtime  percall filename:lineno(function)\n",
      "   748440    0.044    0.000    0.044    0.000 {id}\n",
      "   249900    0.047    0.000    0.049    0.000 {getattr}\n",
      "   219781    0.056    0.000    0.133    0.000 {isinstance}\n",
      "   210126    0.023    0.000    0.023    0.000 {method 'append' of 'list' objects}\n",
      "   201180    0.028    0.000    0.028    0.000 {method 'get' of 'dict' objects}\n",
      "   148218    0.029    0.000    0.030    0.000 {setattr}\n",
      "139776/139692    0.015    0.000    0.015    0.000 {len}\n",
      "132552/3150    0.170    0.000    1.481    0.000 copy.py:145(deepcopy)\n",
      "   104244    0.020    0.000    0.020    0.000 {round}\n",
      "    95802    0.040    0.000    0.040    0.000 _weakrefset.py:70(__contains__)\n",
      "    89997    0.034    0.000    0.051    0.000 weakrefTools.py:49(unwrapWeakref)\n",
      "    88830    0.011    0.000    0.011    0.000 {method 'startswith' of 'str' objects}\n",
      "85638/81984    0.033    0.000    0.044    0.000 {hasattr}\n",
      "    85554    0.027    0.000    0.027    0.000 weakrefTools.py:18(wrapWeakref)\n",
      "    83244    0.012    0.000    0.012    0.000 pitch.py:2714(_getOctave)\n",
      "    78792    0.060    0.000    0.060    0.000 classTools.py:18(isNum)\n",
      "    78708    0.021    0.000    0.021    0.000 collections.py:90(__iter__)\n",
      "    74130    0.042    0.000    0.066    0.000 numberTools.py:235(opFrac)\n",
      "    73038    0.048    0.000    0.053    0.000 __init__.py:1547(elementOffset)\n",
      "    68250    0.008    0.000    0.008    0.000 pitch.py:1751(_getMicrotone)\n",
      "\n",
      "\n"
     ]
    },
    {
     "data": {
      "text/plain": [
       "<pstats.Stats instance at 0x7f4ad6bafbd8>"
      ]
     },
     "execution_count": 15,
     "metadata": {},
     "output_type": "execute_result"
    }
   ],
   "source": [
    "# this is the number of times a function is called\n",
    "# speeding these up just a little bit can change\n",
    "# their total time drasticly\n",
    "p.sort_stats('ncalls').print_stats(20)"
   ]
  },
  {
   "cell_type": "markdown",
   "metadata": {},
   "source": [
    "# Cost of creation?\n",
    "\n",
    "I am concerned about these calls to music21\n",
    "\n",
    "      968    0.122    0.000    1.007    0.001 base.py:479(_deepcopySubclassable)\n",
    "     2222    0.101    0.000    0.147    0.000 pitch.py:2309(_setName)\n",
    "     7326    0.095    0.000    0.594    0.000 base.py:409(__init__)"
   ]
  },
  {
   "cell_type": "code",
   "execution_count": 13,
   "metadata": {},
   "outputs": [],
   "source": [
    "# here's a candidate function that creates lots of music21 objects.\n",
    "\n",
    "def make_note( midi21_pitch, duration ):\n",
    "    new_note = music21.note.Note(midi21_pitch)\n",
    "    new_note.duration = music21.duration.Duration(duration) # is this right\n",
    "    return new_note\n"
   ]
  },
  {
   "cell_type": "markdown",
   "metadata": {},
   "source": [
    "# Problem: Makes too many objects that are for some reason very slow to create.\n",
    "    \n",
    "These are notes, with set duration. Luckily how I use these notes is immutable. I do not change them.\n",
    "\n",
    "Therefore I can SHARE notes if they are already created. That is I can memoize the output of this function!"
   ]
  },
  {
   "cell_type": "code",
   "execution_count": 16,
   "metadata": {},
   "outputs": [],
   "source": [
    "# keep the old code to really make it\n",
    "def _make_note( midi21_pitch, duration ):\n",
    "    new_note = music21.note.Note(midi21_pitch)\n",
    "    new_note.duration = music21.duration.Duration(duration) # is this right\n",
    "    return new_note\n",
    "\n",
    "# a place to cache the created notes\n",
    "__note_cache__ = dict()\n",
    "# memoize\n",
    "def make_note( midi21_pitch, duration ):\n",
    "    # make a key\n",
    "    note_key = str(midi21_pitch)+str(duration)\n",
    "    # if the note isn't in the cache make it\n",
    "    if not note_key in __note_cache__:\n",
    "        __note_cache__[note_key] = _make_note(midi21_pitch, duration)\n",
    "    return __note_cache__[note_key]"
   ]
  },
  {
   "cell_type": "code",
   "execution_count": 17,
   "metadata": {},
   "outputs": [],
   "source": [
    "# let's make this more repeatable\n",
    "def bench(seconds=1,repeats=10):\n",
    "    perf = map(lambda x: my_main(seconds),range(0,repeats))\n",
    "    print(\"Current Performance ~ %s iters per %s seconds \" % (mean(perf), seconds))\n",
    "    print(perf)\n",
    "    return perf"
   ]
  },
  {
   "cell_type": "code",
   "execution_count": 18,
   "metadata": {},
   "outputs": [
    {
     "name": "stdout",
     "output_type": "stream",
     "text": [
      "['Emajor', 'B-minor', 'Gminor', 'E-minor', 'G-major', 'Aminor', 'D-major', 'Eminor', 'C-minor', 'Cmajor', 'C#major', 'Bminor', 'D-minor', 'Gmajor', 'F#minor', 'G-minor', 'E-major', 'Dminor', 'Fmajor', 'Cminor', 'C-major', 'B-major', 'Bmajor', 'C#minor', 'F#major', 'A-major', 'Dmajor', 'A-minor', 'Amajor', 'Fminor']\n"
     ]
    },
    {
     "ename": "StreamException",
     "evalue": "the object (<music21.note.Note D#>, id()=139959408677072) is already found in this Stream (<music21.stream.Stream 0x7f4adcfabb90>, id()=139959511726992)",
     "output_type": "error",
     "traceback": [
      "\u001b[0;31m---------------------------------------------------------------------------\u001b[0m",
      "\u001b[0;31mStreamException\u001b[0m                           Traceback (most recent call last)",
      "\u001b[0;32m<ipython-input-18-92718615c0f9>\u001b[0m in \u001b[0;36m<module>\u001b[0;34m()\u001b[0m\n\u001b[0;32m----> 1\u001b[0;31m \u001b[0mbench\u001b[0m\u001b[0;34m(\u001b[0m\u001b[0;34m)\u001b[0m\u001b[0;34m\u001b[0m\u001b[0m\n\u001b[0m",
      "\u001b[0;32m<ipython-input-17-fe0c72596b8e>\u001b[0m in \u001b[0;36mbench\u001b[0;34m(seconds, repeats)\u001b[0m\n\u001b[1;32m      1\u001b[0m \u001b[0;31m# let's make this more repeatable\u001b[0m\u001b[0;34m\u001b[0m\u001b[0;34m\u001b[0m\u001b[0m\n\u001b[1;32m      2\u001b[0m \u001b[0;32mdef\u001b[0m \u001b[0mbench\u001b[0m\u001b[0;34m(\u001b[0m\u001b[0mseconds\u001b[0m\u001b[0;34m=\u001b[0m\u001b[0;36m1\u001b[0m\u001b[0;34m,\u001b[0m\u001b[0mrepeats\u001b[0m\u001b[0;34m=\u001b[0m\u001b[0;36m10\u001b[0m\u001b[0;34m)\u001b[0m\u001b[0;34m:\u001b[0m\u001b[0;34m\u001b[0m\u001b[0m\n\u001b[0;32m----> 3\u001b[0;31m     \u001b[0mperf\u001b[0m \u001b[0;34m=\u001b[0m \u001b[0mmap\u001b[0m\u001b[0;34m(\u001b[0m\u001b[0;32mlambda\u001b[0m \u001b[0mx\u001b[0m\u001b[0;34m:\u001b[0m \u001b[0mmy_main\u001b[0m\u001b[0;34m(\u001b[0m\u001b[0mseconds\u001b[0m\u001b[0;34m)\u001b[0m\u001b[0;34m,\u001b[0m\u001b[0mrange\u001b[0m\u001b[0;34m(\u001b[0m\u001b[0;36m0\u001b[0m\u001b[0;34m,\u001b[0m\u001b[0mrepeats\u001b[0m\u001b[0;34m)\u001b[0m\u001b[0;34m)\u001b[0m\u001b[0;34m\u001b[0m\u001b[0m\n\u001b[0m\u001b[1;32m      4\u001b[0m     \u001b[0;32mprint\u001b[0m\u001b[0;34m(\u001b[0m\u001b[0;34m\"Current Performance ~ %s iters per %s seconds \"\u001b[0m \u001b[0;34m%\u001b[0m \u001b[0;34m(\u001b[0m\u001b[0mmean\u001b[0m\u001b[0;34m(\u001b[0m\u001b[0mperf\u001b[0m\u001b[0;34m)\u001b[0m\u001b[0;34m,\u001b[0m \u001b[0mseconds\u001b[0m\u001b[0;34m)\u001b[0m\u001b[0;34m)\u001b[0m\u001b[0;34m\u001b[0m\u001b[0m\n\u001b[1;32m      5\u001b[0m     \u001b[0;32mprint\u001b[0m\u001b[0;34m(\u001b[0m\u001b[0mperf\u001b[0m\u001b[0;34m)\u001b[0m\u001b[0;34m\u001b[0m\u001b[0m\n",
      "\u001b[0;32m<ipython-input-17-fe0c72596b8e>\u001b[0m in \u001b[0;36m<lambda>\u001b[0;34m(x)\u001b[0m\n\u001b[1;32m      1\u001b[0m \u001b[0;31m# let's make this more repeatable\u001b[0m\u001b[0;34m\u001b[0m\u001b[0;34m\u001b[0m\u001b[0m\n\u001b[1;32m      2\u001b[0m \u001b[0;32mdef\u001b[0m \u001b[0mbench\u001b[0m\u001b[0;34m(\u001b[0m\u001b[0mseconds\u001b[0m\u001b[0;34m=\u001b[0m\u001b[0;36m1\u001b[0m\u001b[0;34m,\u001b[0m\u001b[0mrepeats\u001b[0m\u001b[0;34m=\u001b[0m\u001b[0;36m10\u001b[0m\u001b[0;34m)\u001b[0m\u001b[0;34m:\u001b[0m\u001b[0;34m\u001b[0m\u001b[0m\n\u001b[0;32m----> 3\u001b[0;31m     \u001b[0mperf\u001b[0m \u001b[0;34m=\u001b[0m \u001b[0mmap\u001b[0m\u001b[0;34m(\u001b[0m\u001b[0;32mlambda\u001b[0m \u001b[0mx\u001b[0m\u001b[0;34m:\u001b[0m \u001b[0mmy_main\u001b[0m\u001b[0;34m(\u001b[0m\u001b[0mseconds\u001b[0m\u001b[0;34m)\u001b[0m\u001b[0;34m,\u001b[0m\u001b[0mrange\u001b[0m\u001b[0;34m(\u001b[0m\u001b[0;36m0\u001b[0m\u001b[0;34m,\u001b[0m\u001b[0mrepeats\u001b[0m\u001b[0;34m)\u001b[0m\u001b[0;34m)\u001b[0m\u001b[0;34m\u001b[0m\u001b[0m\n\u001b[0m\u001b[1;32m      4\u001b[0m     \u001b[0;32mprint\u001b[0m\u001b[0;34m(\u001b[0m\u001b[0;34m\"Current Performance ~ %s iters per %s seconds \"\u001b[0m \u001b[0;34m%\u001b[0m \u001b[0;34m(\u001b[0m\u001b[0mmean\u001b[0m\u001b[0;34m(\u001b[0m\u001b[0mperf\u001b[0m\u001b[0;34m)\u001b[0m\u001b[0;34m,\u001b[0m \u001b[0mseconds\u001b[0m\u001b[0;34m)\u001b[0m\u001b[0;34m)\u001b[0m\u001b[0;34m\u001b[0m\u001b[0m\n\u001b[1;32m      5\u001b[0m     \u001b[0;32mprint\u001b[0m\u001b[0;34m(\u001b[0m\u001b[0mperf\u001b[0m\u001b[0;34m)\u001b[0m\u001b[0;34m\u001b[0m\u001b[0m\n",
      "\u001b[0;32m<ipython-input-3-02a0ed9aa61e>\u001b[0m in \u001b[0;36mmy_main\u001b[0;34m(maxtime)\u001b[0m\n\u001b[1;32m    154\u001b[0m     }\n\u001b[1;32m    155\u001b[0m     return grid_search(params,[\"keys\",\"dir_notes\",\"bump_durations\",\"octaves\"], \n\u001b[0;32m--> 156\u001b[0;31m                 song_tuples, f=generate_and_save_song, maxtime=maxtime)\n\u001b[0m\u001b[1;32m    157\u001b[0m \u001b[0;34m\u001b[0m\u001b[0m\n\u001b[1;32m    158\u001b[0m \u001b[0;32mdef\u001b[0m \u001b[0mgenerate_and_estimate_song\u001b[0m\u001b[0;34m(\u001b[0m\u001b[0mestimate\u001b[0m\u001b[0;34m,\u001b[0m\u001b[0msong_tuples\u001b[0m\u001b[0;34m,\u001b[0m\u001b[0mmkey\u001b[0m\u001b[0;34m,\u001b[0m \u001b[0mnote_mapping\u001b[0m\u001b[0;34m,\u001b[0m \u001b[0mbump_mapping\u001b[0m\u001b[0;34m,\u001b[0m\u001b[0moctave\u001b[0m\u001b[0;34m)\u001b[0m\u001b[0;34m:\u001b[0m\u001b[0;34m\u001b[0m\u001b[0m\n",
      "\u001b[0;32m<ipython-input-3-02a0ed9aa61e>\u001b[0m in \u001b[0;36mgrid_search\u001b[0;34m(params, param_keys, song_tuples, f, maxtime)\u001b[0m\n\u001b[1;32m    131\u001b[0m         \u001b[0;32mif\u001b[0m \u001b[0m__grid_search_print__\u001b[0m\u001b[0;34m:\u001b[0m\u001b[0;34m\u001b[0m\u001b[0m\n\u001b[1;32m    132\u001b[0m             \u001b[0;32mprint\u001b[0m\u001b[0;34m(\u001b[0m\u001b[0mt\u001b[0m\u001b[0;34m)\u001b[0m\u001b[0;34m\u001b[0m\u001b[0m\n\u001b[0;32m--> 133\u001b[0;31m         \u001b[0mf\u001b[0m\u001b[0;34m(\u001b[0m\u001b[0msong_tuples\u001b[0m\u001b[0;34m,\u001b[0m\u001b[0;34m*\u001b[0m\u001b[0mt\u001b[0m\u001b[0;34m)\u001b[0m\u001b[0;34m\u001b[0m\u001b[0m\n\u001b[0m\u001b[1;32m    134\u001b[0m         \u001b[0miters\u001b[0m \u001b[0;34m+=\u001b[0m \u001b[0;36m1\u001b[0m\u001b[0;34m\u001b[0m\u001b[0m\n\u001b[1;32m    135\u001b[0m         \u001b[0;32mif\u001b[0m \u001b[0;34m(\u001b[0m\u001b[0mtime\u001b[0m\u001b[0;34m.\u001b[0m\u001b[0mtime\u001b[0m\u001b[0;34m(\u001b[0m\u001b[0;34m)\u001b[0m \u001b[0;34m-\u001b[0m \u001b[0mstart\u001b[0m \u001b[0;34m>\u001b[0m \u001b[0mmaxtime\u001b[0m\u001b[0;34m)\u001b[0m\u001b[0;34m:\u001b[0m\u001b[0;34m\u001b[0m\u001b[0m\n",
      "\u001b[0;32m<ipython-input-3-02a0ed9aa61e>\u001b[0m in \u001b[0;36mgenerate_and_save_song\u001b[0;34m(song_tuples, mkey, note_mapping, bump_mapping, octave)\u001b[0m\n\u001b[1;32m    119\u001b[0m     \u001b[0msave_textfile\u001b[0m\u001b[0;34m(\u001b[0m\u001b[0mtxt\u001b[0m\u001b[0;34m,\u001b[0m \u001b[0mtxt_file_name\u001b[0m\u001b[0;34m)\u001b[0m\u001b[0;34m\u001b[0m\u001b[0m\n\u001b[1;32m    120\u001b[0m     \u001b[0;31m# print(song)\u001b[0m\u001b[0;34m\u001b[0m\u001b[0;34m\u001b[0m\u001b[0m\n\u001b[0;32m--> 121\u001b[0;31m     \u001b[0mmid\u001b[0m \u001b[0;34m=\u001b[0m \u001b[0msong_to_mid\u001b[0m\u001b[0;34m(\u001b[0m\u001b[0msong\u001b[0m\u001b[0;34m)\u001b[0m\u001b[0;34m\u001b[0m\u001b[0m\n\u001b[0m\u001b[1;32m    122\u001b[0m     \u001b[0msave_midifile\u001b[0m\u001b[0;34m(\u001b[0m\u001b[0mmid\u001b[0m\u001b[0;34m,\u001b[0m \u001b[0mmid_file_name\u001b[0m\u001b[0;34m)\u001b[0m\u001b[0;34m\u001b[0m\u001b[0m\n\u001b[1;32m    123\u001b[0m \u001b[0;34m\u001b[0m\u001b[0m\n",
      "\u001b[0;32m<ipython-input-3-02a0ed9aa61e>\u001b[0m in \u001b[0;36msong_to_mid\u001b[0;34m(song)\u001b[0m\n\u001b[1;32m    101\u001b[0m     \u001b[0mstream\u001b[0m \u001b[0;34m=\u001b[0m \u001b[0mmusic21\u001b[0m\u001b[0;34m.\u001b[0m\u001b[0mstream\u001b[0m\u001b[0;34m.\u001b[0m\u001b[0mStream\u001b[0m\u001b[0;34m(\u001b[0m\u001b[0;34m)\u001b[0m\u001b[0;34m\u001b[0m\u001b[0m\n\u001b[1;32m    102\u001b[0m     \u001b[0;32mfor\u001b[0m \u001b[0melm\u001b[0m \u001b[0;32min\u001b[0m \u001b[0msong\u001b[0m\u001b[0;34m:\u001b[0m\u001b[0;34m\u001b[0m\u001b[0m\n\u001b[0;32m--> 103\u001b[0;31m         \u001b[0mstream\u001b[0m\u001b[0;34m.\u001b[0m\u001b[0mappend\u001b[0m\u001b[0;34m(\u001b[0m\u001b[0melm\u001b[0m\u001b[0;34m)\u001b[0m\u001b[0;34m\u001b[0m\u001b[0m\n\u001b[0m\u001b[1;32m    104\u001b[0m     \u001b[0;32mreturn\u001b[0m \u001b[0mstream\u001b[0m\u001b[0;34m\u001b[0m\u001b[0m\n\u001b[1;32m    105\u001b[0m     \u001b[0;31m# mf = music21.midi.translate.streamToMidiFile(stream)\u001b[0m\u001b[0;34m\u001b[0m\u001b[0;34m\u001b[0m\u001b[0m\n",
      "\u001b[0;32m/home/hindle1/.local/lib/python2.7/site-packages/music21/stream/__init__.pyc\u001b[0m in \u001b[0;36mappend\u001b[0;34m(self, others)\u001b[0m\n\u001b[1;32m   1933\u001b[0m                     \u001b[0;34m\"is not a Music21Object.  Use an ElementWrapper object \"\u001b[0m \u001b[0;34m+\u001b[0m\u001b[0;34m\u001b[0m\u001b[0m\n\u001b[1;32m   1934\u001b[0m                     \"if this is what you intend\" )\n\u001b[0;32m-> 1935\u001b[0;31m             \u001b[0mself\u001b[0m\u001b[0;34m.\u001b[0m\u001b[0mcoreGuardBeforeAddElement\u001b[0m\u001b[0;34m(\u001b[0m\u001b[0me\u001b[0m\u001b[0;34m)\u001b[0m\u001b[0;34m\u001b[0m\u001b[0m\n\u001b[0m\u001b[1;32m   1936\u001b[0m             \u001b[0;31m# add this Stream as a location for the new elements, with the\u001b[0m\u001b[0;34m\u001b[0m\u001b[0;34m\u001b[0m\u001b[0m\n\u001b[1;32m   1937\u001b[0m             \u001b[0;31m# the offset set to the current highestTime\u001b[0m\u001b[0;34m\u001b[0m\u001b[0;34m\u001b[0m\u001b[0m\n",
      "\u001b[0;32m/home/hindle1/.local/lib/python2.7/site-packages/music21/stream/core.pyc\u001b[0m in \u001b[0;36mcoreGuardBeforeAddElement\u001b[0;34m(self, element, checkRedundancy)\u001b[0m\n\u001b[1;32m    320\u001b[0m                             \u001b[0;34m'the object '\u001b[0m \u001b[0;34m+\u001b[0m\u001b[0;34m\u001b[0m\u001b[0m\n\u001b[1;32m    321\u001b[0m                             \u001b[0;34m'(%s, id()=%s) is already found in this Stream (%s, id()=%s)'\u001b[0m \u001b[0;34m%\u001b[0m\u001b[0;34m\u001b[0m\u001b[0m\n\u001b[0;32m--> 322\u001b[0;31m                                                     (element, id(element), self, id(self)))\n\u001b[0m\u001b[1;32m    323\u001b[0m                 \u001b[0;31m# something was old... delete from _offsetDict\u001b[0m\u001b[0;34m\u001b[0m\u001b[0;34m\u001b[0m\u001b[0m\n\u001b[1;32m    324\u001b[0m                 \u001b[0;31m# environLocal.warn('stale object')\u001b[0m\u001b[0;34m\u001b[0m\u001b[0;34m\u001b[0m\u001b[0m\n",
      "\u001b[0;31mStreamException\u001b[0m: the object (<music21.note.Note D#>, id()=139959408677072) is already found in this Stream (<music21.stream.Stream 0x7f4adcfabb90>, id()=139959511726992)"
     ]
    }
   ],
   "source": [
    "bench()"
   ]
  },
  {
   "cell_type": "markdown",
   "metadata": {},
   "source": [
    "# Ok when I was doing this I didn't have this problem\n",
    "\n",
    "The music21 library has changed, so I guess so should my presentation of my problem. *sigh*\n",
    "\n",
    "## Performance is not stable between revisions!"
   ]
  },
  {
   "cell_type": "code",
   "execution_count": 19,
   "metadata": {},
   "outputs": [],
   "source": [
    "def song_to_mid(song):\n",
    "    stream = music21.stream.Stream()\n",
    "    for elm in song:\n",
    "        note = music21.note.Note()\n",
    "        note.pitches = elm.pitches\n",
    "        note.duration = elm.duration\n",
    "        stream.append(note)\n",
    "    return stream"
   ]
  },
  {
   "cell_type": "code",
   "execution_count": 20,
   "metadata": {},
   "outputs": [
    {
     "name": "stdout",
     "output_type": "stream",
     "text": [
      "['Emajor', 'B-minor', 'Gminor', 'E-minor', 'G-major', 'Aminor', 'D-major', 'Eminor', 'C-minor', 'Cmajor', 'C#major', 'Bminor', 'D-minor', 'Gmajor', 'F#minor', 'G-minor', 'E-major', 'Dminor', 'Fmajor', 'Cminor', 'C-major', 'B-major', 'Bmajor', 'C#minor', 'F#major', 'A-major', 'Dmajor', 'A-minor', 'Amajor', 'Fminor']\n",
      "Times up! 17\n",
      "['Emajor', 'B-minor', 'Gminor', 'E-minor', 'G-major', 'Aminor', 'D-major', 'Eminor', 'C-minor', 'Cmajor', 'C#major', 'Bminor', 'D-minor', 'Gmajor', 'F#minor', 'G-minor', 'E-major', 'Dminor', 'Fmajor', 'Cminor', 'C-major', 'B-major', 'Bmajor', 'C#minor', 'F#major', 'A-major', 'Dmajor', 'A-minor', 'Amajor', 'Fminor']\n",
      "Times up! 16\n",
      "['Emajor', 'B-minor', 'Gminor', 'E-minor', 'G-major', 'Aminor', 'D-major', 'Eminor', 'C-minor', 'Cmajor', 'C#major', 'Bminor', 'D-minor', 'Gmajor', 'F#minor', 'G-minor', 'E-major', 'Dminor', 'Fmajor', 'Cminor', 'C-major', 'B-major', 'Bmajor', 'C#minor', 'F#major', 'A-major', 'Dmajor', 'A-minor', 'Amajor', 'Fminor']\n",
      "Times up! 18\n",
      "['Emajor', 'B-minor', 'Gminor', 'E-minor', 'G-major', 'Aminor', 'D-major', 'Eminor', 'C-minor', 'Cmajor', 'C#major', 'Bminor', 'D-minor', 'Gmajor', 'F#minor', 'G-minor', 'E-major', 'Dminor', 'Fmajor', 'Cminor', 'C-major', 'B-major', 'Bmajor', 'C#minor', 'F#major', 'A-major', 'Dmajor', 'A-minor', 'Amajor', 'Fminor']\n",
      "Times up! 19\n",
      "['Emajor', 'B-minor', 'Gminor', 'E-minor', 'G-major', 'Aminor', 'D-major', 'Eminor', 'C-minor', 'Cmajor', 'C#major', 'Bminor', 'D-minor', 'Gmajor', 'F#minor', 'G-minor', 'E-major', 'Dminor', 'Fmajor', 'Cminor', 'C-major', 'B-major', 'Bmajor', 'C#minor', 'F#major', 'A-major', 'Dmajor', 'A-minor', 'Amajor', 'Fminor']\n",
      "Times up! 18\n",
      "['Emajor', 'B-minor', 'Gminor', 'E-minor', 'G-major', 'Aminor', 'D-major', 'Eminor', 'C-minor', 'Cmajor', 'C#major', 'Bminor', 'D-minor', 'Gmajor', 'F#minor', 'G-minor', 'E-major', 'Dminor', 'Fmajor', 'Cminor', 'C-major', 'B-major', 'Bmajor', 'C#minor', 'F#major', 'A-major', 'Dmajor', 'A-minor', 'Amajor', 'Fminor']\n",
      "Times up! 16\n",
      "['Emajor', 'B-minor', 'Gminor', 'E-minor', 'G-major', 'Aminor', 'D-major', 'Eminor', 'C-minor', 'Cmajor', 'C#major', 'Bminor', 'D-minor', 'Gmajor', 'F#minor', 'G-minor', 'E-major', 'Dminor', 'Fmajor', 'Cminor', 'C-major', 'B-major', 'Bmajor', 'C#minor', 'F#major', 'A-major', 'Dmajor', 'A-minor', 'Amajor', 'Fminor']\n",
      "Times up! 16\n",
      "['Emajor', 'B-minor', 'Gminor', 'E-minor', 'G-major', 'Aminor', 'D-major', 'Eminor', 'C-minor', 'Cmajor', 'C#major', 'Bminor', 'D-minor', 'Gmajor', 'F#minor', 'G-minor', 'E-major', 'Dminor', 'Fmajor', 'Cminor', 'C-major', 'B-major', 'Bmajor', 'C#minor', 'F#major', 'A-major', 'Dmajor', 'A-minor', 'Amajor', 'Fminor']\n",
      "Times up! 18\n",
      "['Emajor', 'B-minor', 'Gminor', 'E-minor', 'G-major', 'Aminor', 'D-major', 'Eminor', 'C-minor', 'Cmajor', 'C#major', 'Bminor', 'D-minor', 'Gmajor', 'F#minor', 'G-minor', 'E-major', 'Dminor', 'Fmajor', 'Cminor', 'C-major', 'B-major', 'Bmajor', 'C#minor', 'F#major', 'A-major', 'Dmajor', 'A-minor', 'Amajor', 'Fminor']\n",
      "Times up! 19\n",
      "['Emajor', 'B-minor', 'Gminor', 'E-minor', 'G-major', 'Aminor', 'D-major', 'Eminor', 'C-minor', 'Cmajor', 'C#major', 'Bminor', 'D-minor', 'Gmajor', 'F#minor', 'G-minor', 'E-major', 'Dminor', 'Fmajor', 'Cminor', 'C-major', 'B-major', 'Bmajor', 'C#minor', 'F#major', 'A-major', 'Dmajor', 'A-minor', 'Amajor', 'Fminor']\n",
      "Times up! 18\n",
      "Current Performance ~ 17 iters per 1 seconds \n",
      "[17, 16, 18, 19, 18, 16, 16, 18, 19, 18]\n"
     ]
    },
    {
     "data": {
      "text/plain": [
       "[17, 16, 18, 19, 18, 16, 16, 18, 19, 18]"
      ]
     },
     "execution_count": 20,
     "metadata": {},
     "output_type": "execute_result"
    }
   ],
   "source": [
    "# run it\n",
    "bench()"
   ]
  },
  {
   "cell_type": "markdown",
   "metadata": {},
   "source": [
    "It doesn't look like performance improved very much :("
   ]
  },
  {
   "cell_type": "code",
   "execution_count": 21,
   "metadata": {},
   "outputs": [
    {
     "name": "stdout",
     "output_type": "stream",
     "text": [
      "['Emajor', 'B-minor', 'Gminor', 'E-minor', 'G-major', 'Aminor', 'D-major', 'Eminor', 'C-minor', 'Cmajor', 'C#major', 'Bminor', 'D-minor', 'Gmajor', 'F#minor', 'G-minor', 'E-major', 'Dminor', 'Fmajor', 'Cminor', 'C-major', 'B-major', 'Bmajor', 'C#minor', 'F#major', 'A-major', 'Dmajor', 'A-minor', 'Amajor', 'Fminor']\n",
      "Times up! 43\n"
     ]
    }
   ],
   "source": [
    "# profile it\n",
    "cProfile.run('my_main(4)','cpout2.txt')\n"
   ]
  },
  {
   "cell_type": "code",
   "execution_count": 22,
   "metadata": {},
   "outputs": [
    {
     "name": "stdout",
     "output_type": "stream",
     "text": [
      "Mon May 13 20:29:08 2019    cpout2.txt\n",
      "\n",
      "         5674184 function calls (5536752 primitive calls) in 4.059 seconds\n",
      "\n",
      "   Ordered by: internal time\n",
      "   List reduced from 426 to 10 due to restriction <10>\n",
      "\n",
      "   ncalls  tottime  percall  cumtime  percall filename:lineno(function)\n",
      "136724/3225    0.172    0.000    1.450    0.000 /usr/lib/python2.7/copy.py:145(deepcopy)\n",
      "    33249    0.147    0.000    0.492    0.000 /usr/lib/python2.7/collections.py:50(__init__)\n",
      "    12427    0.141    0.000    0.204    0.000 /home/hindle1/.local/lib/python2.7/site-packages/music21/pitch.py:2309(_setName)\n",
      "    33249    0.131    0.000    0.298    0.000 /usr/lib/python2.7/_abcoll.py:548(update)\n",
      "     3784    0.120    0.000    0.953    0.000 /home/hindle1/.local/lib/python2.7/site-packages/music21/base.py:479(_deepcopySubclassable)\n",
      "    28648    0.093    0.000    0.624    0.000 /home/hindle1/.local/lib/python2.7/site-packages/music21/base.py:409(__init__)\n",
      "    88424    0.076    0.000    0.076    0.000 /home/hindle1/.local/lib/python2.7/site-packages/music21/common/classTools.py:18(isNum)\n",
      "    60511    0.075    0.000    0.075    0.000 /usr/lib/python2.7/collections.py:71(__setitem__)\n",
      "    22446    0.073    0.000    0.145    0.000 /home/hindle1/.local/lib/python2.7/site-packages/music21/sites.py:330(add)\n",
      "    29326    0.072    0.000    0.225    0.000 /home/hindle1/.local/lib/python2.7/site-packages/music21/pitch.py:2037(_getPs)\n",
      "\n",
      "\n",
      "Mon May 13 20:29:08 2019    cpout2.txt\n",
      "\n",
      "         5674184 function calls (5536752 primitive calls) in 4.059 seconds\n",
      "\n",
      "   Ordered by: cumulative time\n",
      "   List reduced from 426 to 20 due to restriction <20>\n",
      "\n",
      "   ncalls  tottime  percall  cumtime  percall filename:lineno(function)\n",
      "        1    0.000    0.000    4.059    4.059 <string>:1(<module>)\n",
      "        1    0.000    0.000    4.059    4.059 <ipython-input-3-02a0ed9aa61e>:140(my_main)\n",
      "        1    0.000    0.000    4.058    4.058 <ipython-input-3-02a0ed9aa61e>:125(grid_search)\n",
      "       43    0.001    0.000    4.058    0.094 <ipython-input-3-02a0ed9aa61e>:113(generate_and_save_song)\n",
      "       43    0.000    0.000    2.095    0.049 <ipython-input-3-02a0ed9aa61e>:107(save_midifile)\n",
      "       43    0.000    0.000    2.095    0.049 /home/hindle1/.local/lib/python2.7/site-packages/music21/stream/__init__.py:246(write)\n",
      "       43    0.000    0.000    2.095    0.049 /home/hindle1/.local/lib/python2.7/site-packages/music21/base.py:2529(write)\n",
      "       43    0.000    0.000    2.084    0.048 /home/hindle1/.local/lib/python2.7/site-packages/music21/converter/subConverters.py:921(write)\n",
      "       43    0.000    0.000    2.027    0.047 /home/hindle1/.local/lib/python2.7/site-packages/music21/midi/translate.py:237(music21ObjectToMidiFile)\n",
      "       43    0.001    0.000    2.027    0.047 /home/hindle1/.local/lib/python2.7/site-packages/music21/midi/translate.py:1890(streamToMidiFile)\n",
      "       43    0.003    0.000    2.025    0.047 /home/hindle1/.local/lib/python2.7/site-packages/music21/midi/translate.py:1680(streamHierarchyToMidiTracks)\n",
      "       43    0.005    0.000    1.461    0.034 <ipython-input-3-02a0ed9aa61e>:75(generate_abram_song)\n",
      "136724/3225    0.172    0.000    1.450    0.000 /usr/lib/python2.7/copy.py:145(deepcopy)\n",
      "       43    0.000    0.000    1.416    0.033 <ipython-input-3-02a0ed9aa61e>:67(pitches_of_key)\n",
      "       43    0.002    0.000    1.389    0.032 /home/hindle1/.local/lib/python2.7/site-packages/music21/midi/translate.py:1646(_prepareStreamForMidi)\n",
      "       43    0.000    0.000    1.314    0.031 /home/hindle1/.local/lib/python2.7/site-packages/music21/stream/__init__.py:1455(__deepcopy__)\n",
      "       43    0.000    0.000    1.312    0.031 /home/hindle1/.local/lib/python2.7/site-packages/music21/scale/__init__.py:1510(getPitches)\n",
      "       43    0.000    0.000    1.312    0.031 /home/hindle1/.local/lib/python2.7/site-packages/music21/scale/__init__.py:392(getRealization)\n",
      "       43    0.000    0.000    1.301    0.030 /home/hindle1/.local/lib/python2.7/site-packages/music21/scale/intervalNetwork.py:1851(realizePitch)\n",
      "       43    0.000    0.000    1.301    0.030 /home/hindle1/.local/lib/python2.7/site-packages/music21/scale/intervalNetwork.py:1658(realize)\n",
      "\n",
      "\n"
     ]
    },
    {
     "data": {
      "text/plain": [
       "<pstats.Stats instance at 0x7f4ad6ae50e0>"
      ]
     },
     "execution_count": 22,
     "metadata": {},
     "output_type": "execute_result"
    }
   ],
   "source": [
    "# investigate the profile\n",
    "p = pstats.Stats('cpout2.txt')\n",
    "p.sort_stats('tottime').print_stats(10)\n",
    "p.sort_stats('cumtime').print_stats(20)\n"
   ]
  },
  {
   "cell_type": "markdown",
   "metadata": {},
   "source": [
    "I saw this:\n",
    "    \n",
    "    40    0.000    0.000    1.475    0.037 <ipython-input-20-50c167bfa7f6>:67(pitches_of_key)\n",
    "    \n",
    "Very few calls. The function doesn't do much but it does expensive things. So maybe we can memoize or refactor it?"
   ]
  },
  {
   "cell_type": "code",
   "execution_count": 23,
   "metadata": {},
   "outputs": [],
   "source": [
    "__pitches_of_key__ = dict()\n",
    "def _pitches_of_key(mkey):\n",
    "    m = re.match('([A-G][-#]?)(major|minor)',mkey)\n",
    "    k = m.group(1)\n",
    "    maj = m.group(2)\n",
    "    our_key = music21.key.Key(k,maj)\n",
    "    our_pitches = our_key.pitches\n",
    "    return our_pitches\n",
    "\n",
    "# memoize\n",
    "def pitches_of_key(mkey):\n",
    "    if not mkey in __pitches_of_key__:\n",
    "        __pitches_of_key__[mkey] = _pitches_of_key(mkey)\n",
    "    return __pitches_of_key__[mkey]\n",
    "\n"
   ]
  },
  {
   "cell_type": "code",
   "execution_count": 24,
   "metadata": {},
   "outputs": [
    {
     "name": "stdout",
     "output_type": "stream",
     "text": [
      "['Emajor', 'B-minor', 'Gminor', 'E-minor', 'G-major', 'Aminor', 'D-major', 'Eminor', 'C-minor', 'Cmajor', 'C#major', 'Bminor', 'D-minor', 'Gmajor', 'F#minor', 'G-minor', 'E-major', 'Dminor', 'Fmajor', 'Cminor', 'C-major', 'B-major', 'Bmajor', 'C#minor', 'F#major', 'A-major', 'Dmajor', 'A-minor', 'Amajor', 'Fminor']\n",
      "Times up! 25\n",
      "['Emajor', 'B-minor', 'Gminor', 'E-minor', 'G-major', 'Aminor', 'D-major', 'Eminor', 'C-minor', 'Cmajor', 'C#major', 'Bminor', 'D-minor', 'Gmajor', 'F#minor', 'G-minor', 'E-major', 'Dminor', 'Fmajor', 'Cminor', 'C-major', 'B-major', 'Bmajor', 'C#minor', 'F#major', 'A-major', 'Dmajor', 'A-minor', 'Amajor', 'Fminor']\n",
      "Times up! 25\n",
      "['Emajor', 'B-minor', 'Gminor', 'E-minor', 'G-major', 'Aminor', 'D-major', 'Eminor', 'C-minor', 'Cmajor', 'C#major', 'Bminor', 'D-minor', 'Gmajor', 'F#minor', 'G-minor', 'E-major', 'Dminor', 'Fmajor', 'Cminor', 'C-major', 'B-major', 'Bmajor', 'C#minor', 'F#major', 'A-major', 'Dmajor', 'A-minor', 'Amajor', 'Fminor']\n",
      "Times up! 29\n",
      "['Emajor', 'B-minor', 'Gminor', 'E-minor', 'G-major', 'Aminor', 'D-major', 'Eminor', 'C-minor', 'Cmajor', 'C#major', 'Bminor', 'D-minor', 'Gmajor', 'F#minor', 'G-minor', 'E-major', 'Dminor', 'Fmajor', 'Cminor', 'C-major', 'B-major', 'Bmajor', 'C#minor', 'F#major', 'A-major', 'Dmajor', 'A-minor', 'Amajor', 'Fminor']\n",
      "Times up! 27\n",
      "['Emajor', 'B-minor', 'Gminor', 'E-minor', 'G-major', 'Aminor', 'D-major', 'Eminor', 'C-minor', 'Cmajor', 'C#major', 'Bminor', 'D-minor', 'Gmajor', 'F#minor', 'G-minor', 'E-major', 'Dminor', 'Fmajor', 'Cminor', 'C-major', 'B-major', 'Bmajor', 'C#minor', 'F#major', 'A-major', 'Dmajor', 'A-minor', 'Amajor', 'Fminor']\n",
      "Times up! 29\n",
      "['Emajor', 'B-minor', 'Gminor', 'E-minor', 'G-major', 'Aminor', 'D-major', 'Eminor', 'C-minor', 'Cmajor', 'C#major', 'Bminor', 'D-minor', 'Gmajor', 'F#minor', 'G-minor', 'E-major', 'Dminor', 'Fmajor', 'Cminor', 'C-major', 'B-major', 'Bmajor', 'C#minor', 'F#major', 'A-major', 'Dmajor', 'A-minor', 'Amajor', 'Fminor']\n",
      "Times up! 28\n",
      "['Emajor', 'B-minor', 'Gminor', 'E-minor', 'G-major', 'Aminor', 'D-major', 'Eminor', 'C-minor', 'Cmajor', 'C#major', 'Bminor', 'D-minor', 'Gmajor', 'F#minor', 'G-minor', 'E-major', 'Dminor', 'Fmajor', 'Cminor', 'C-major', 'B-major', 'Bmajor', 'C#minor', 'F#major', 'A-major', 'Dmajor', 'A-minor', 'Amajor', 'Fminor']\n",
      "Times up! 29\n",
      "['Emajor', 'B-minor', 'Gminor', 'E-minor', 'G-major', 'Aminor', 'D-major', 'Eminor', 'C-minor', 'Cmajor', 'C#major', 'Bminor', 'D-minor', 'Gmajor', 'F#minor', 'G-minor', 'E-major', 'Dminor', 'Fmajor', 'Cminor', 'C-major', 'B-major', 'Bmajor', 'C#minor', 'F#major', 'A-major', 'Dmajor', 'A-minor', 'Amajor', 'Fminor']\n",
      "Times up! 29\n",
      "['Emajor', 'B-minor', 'Gminor', 'E-minor', 'G-major', 'Aminor', 'D-major', 'Eminor', 'C-minor', 'Cmajor', 'C#major', 'Bminor', 'D-minor', 'Gmajor', 'F#minor', 'G-minor', 'E-major', 'Dminor', 'Fmajor', 'Cminor', 'C-major', 'B-major', 'Bmajor', 'C#minor', 'F#major', 'A-major', 'Dmajor', 'A-minor', 'Amajor', 'Fminor']\n",
      "Times up! 28\n",
      "['Emajor', 'B-minor', 'Gminor', 'E-minor', 'G-major', 'Aminor', 'D-major', 'Eminor', 'C-minor', 'Cmajor', 'C#major', 'Bminor', 'D-minor', 'Gmajor', 'F#minor', 'G-minor', 'E-major', 'Dminor', 'Fmajor', 'Cminor', 'C-major', 'B-major', 'Bmajor', 'C#minor', 'F#major', 'A-major', 'Dmajor', 'A-minor', 'Amajor', 'Fminor']\n",
      "Times up! 29\n",
      "Current Performance ~ 27 iters per 1 seconds \n",
      "[25, 25, 29, 27, 29, 28, 29, 29, 28, 29]\n"
     ]
    },
    {
     "data": {
      "text/plain": [
       "[25, 25, 29, 27, 29, 28, 29, 29, 28, 29]"
      ]
     },
     "execution_count": 24,
     "metadata": {},
     "output_type": "execute_result"
    }
   ],
   "source": [
    "bench()"
   ]
  },
  {
   "cell_type": "markdown",
   "metadata": {},
   "source": [
    "Boom. Performance Improved! 14 to 23. Good. 33% faster"
   ]
  },
  {
   "cell_type": "code",
   "execution_count": 25,
   "metadata": {},
   "outputs": [
    {
     "name": "stdout",
     "output_type": "stream",
     "text": [
      "['Emajor', 'B-minor', 'Gminor', 'E-minor', 'G-major', 'Aminor', 'D-major', 'Eminor', 'C-minor', 'Cmajor', 'C#major', 'Bminor', 'D-minor', 'Gmajor', 'F#minor', 'G-minor', 'E-major', 'Dminor', 'Fmajor', 'Cminor', 'C-major', 'B-major', 'Bmajor', 'C#minor', 'F#major', 'A-major', 'Dmajor', 'A-minor', 'Amajor', 'Fminor']\n",
      "Times up! 61\n",
      "Mon May 13 20:31:19 2019    cpout3.txt\n",
      "\n",
      "         5903389 function calls (5726605 primitive calls) in 4.046 seconds\n",
      "\n",
      "   Ordered by: internal time\n",
      "   List reduced from 332 to 10 due to restriction <10>\n",
      "\n",
      "   ncalls  tottime  percall  cumtime  percall filename:lineno(function)\n",
      "171959/610    0.203    0.000    2.149    0.004 /usr/lib/python2.7/copy.py:145(deepcopy)\n",
      "     5368    0.175    0.000    1.475    0.000 /home/hindle1/.local/lib/python2.7/site-packages/music21/base.py:479(_deepcopySubclassable)\n",
      "    10614    0.125    0.000    0.184    0.000 /home/hindle1/.local/lib/python2.7/site-packages/music21/pitch.py:2309(_setName)\n",
      "    53439    0.117    0.000    0.117    0.000 /usr/lib/python2.7/collections.py:71(__setitem__)\n",
      "    16290    0.110    0.000    0.374    0.000 /home/hindle1/.local/lib/python2.7/site-packages/music21/sites.py:167(__init__)\n",
      "    31842    0.108    0.000    0.264    0.000 /home/hindle1/.local/lib/python2.7/site-packages/music21/sites.py:330(add)\n",
      "    16290    0.097    0.000    0.264    0.000 /usr/lib/python2.7/collections.py:50(__init__)\n",
      "    15921    0.088    0.000    0.097    0.000 /home/hindle1/.local/lib/python2.7/site-packages/music21/sorting.py:96(__new__)\n",
      "   106079    0.077    0.000    0.085    0.000 /home/hindle1/.local/lib/python2.7/site-packages/music21/stream/__init__.py:1547(elementOffset)\n",
      "     5307    0.064    0.000    0.085    0.000 /home/hindle1/.local/lib/python2.7/site-packages/music21/stream/core.py:241(coreHasElementByMemoryLocation)\n",
      "\n",
      "\n",
      "Mon May 13 20:31:19 2019    cpout3.txt\n",
      "\n",
      "         5903389 function calls (5726605 primitive calls) in 4.046 seconds\n",
      "\n",
      "   Ordered by: cumulative time\n",
      "   List reduced from 332 to 20 due to restriction <20>\n",
      "\n",
      "   ncalls  tottime  percall  cumtime  percall filename:lineno(function)\n",
      "        1    0.000    0.000    4.046    4.046 <string>:1(<module>)\n",
      "        1    0.000    0.000    4.046    4.046 <ipython-input-3-02a0ed9aa61e>:140(my_main)\n",
      "        1    0.001    0.001    4.046    4.046 <ipython-input-3-02a0ed9aa61e>:125(grid_search)\n",
      "       61    0.001    0.000    4.045    0.066 <ipython-input-3-02a0ed9aa61e>:113(generate_and_save_song)\n",
      "       61    0.000    0.000    3.239    0.053 <ipython-input-3-02a0ed9aa61e>:107(save_midifile)\n",
      "       61    0.001    0.000    3.239    0.053 /home/hindle1/.local/lib/python2.7/site-packages/music21/stream/__init__.py:246(write)\n",
      "       61    0.001    0.000    3.238    0.053 /home/hindle1/.local/lib/python2.7/site-packages/music21/base.py:2529(write)\n",
      "       61    0.001    0.000    3.222    0.053 /home/hindle1/.local/lib/python2.7/site-packages/music21/converter/subConverters.py:921(write)\n",
      "       61    0.000    0.000    3.132    0.051 /home/hindle1/.local/lib/python2.7/site-packages/music21/midi/translate.py:237(music21ObjectToMidiFile)\n",
      "       61    0.002    0.000    3.132    0.051 /home/hindle1/.local/lib/python2.7/site-packages/music21/midi/translate.py:1890(streamToMidiFile)\n",
      "       61    0.005    0.000    3.129    0.051 /home/hindle1/.local/lib/python2.7/site-packages/music21/midi/translate.py:1680(streamHierarchyToMidiTracks)\n",
      "       61    0.004    0.000    2.236    0.037 /home/hindle1/.local/lib/python2.7/site-packages/music21/midi/translate.py:1646(_prepareStreamForMidi)\n",
      "171959/610    0.203    0.000    2.149    0.004 /usr/lib/python2.7/copy.py:145(deepcopy)\n",
      "       61    0.000    0.000    2.127    0.035 /home/hindle1/.local/lib/python2.7/site-packages/music21/stream/__init__.py:1455(__deepcopy__)\n",
      "       61    0.012    0.000    1.845    0.030 /home/hindle1/.local/lib/python2.7/site-packages/music21/stream/__init__.py:1393(_deepcopySubclassable)\n",
      "     5307    0.009    0.000    1.694    0.000 /home/hindle1/.local/lib/python2.7/site-packages/music21/note.py:751(__deepcopy__)\n",
      "     5307    0.009    0.000    1.685    0.000 /home/hindle1/.local/lib/python2.7/site-packages/music21/base.py:585(__deepcopy__)\n",
      "     5368    0.175    0.000    1.475    0.000 /home/hindle1/.local/lib/python2.7/site-packages/music21/base.py:479(_deepcopySubclassable)\n",
      "    10617    0.025    0.000    0.805    0.000 /home/hindle1/.local/lib/python2.7/site-packages/music21/note.py:1056(__init__)\n",
      "       61    0.018    0.000    0.625    0.010 <ipython-input-19-0ec8fb4d1c4b>:1(song_to_mid)\n",
      "\n",
      "\n"
     ]
    },
    {
     "data": {
      "text/plain": [
       "<pstats.Stats instance at 0x7f4ad6a8ffc8>"
      ]
     },
     "execution_count": 25,
     "metadata": {},
     "output_type": "execute_result"
    }
   ],
   "source": [
    "cProfile.run('my_main(4)','cpout3.txt')\n",
    "p = pstats.Stats('cpout3.txt')\n",
    "p.sort_stats('tottime').print_stats(10)\n",
    "p.sort_stats('cumtime').print_stats(20)\n"
   ]
  },
  {
   "cell_type": "code",
   "execution_count": 26,
   "metadata": {},
   "outputs": [
    {
     "name": "stdout",
     "output_type": "stream",
     "text": [
      "Mon May 13 20:31:19 2019    cpout3.txt\n",
      "\n",
      "         5903389 function calls (5726605 primitive calls) in 4.046 seconds\n",
      "\n",
      "   Ordered by: call count\n",
      "   List reduced from 332 to 30 due to restriction <30>\n",
      "\n",
      "   ncalls  tottime  percall  cumtime  percall filename:lineno(function)\n",
      "  1014514    0.061    0.000    0.061    0.000 {id}\n",
      "   258846    0.029    0.000    0.029    0.000 {method 'append' of 'list' objects}\n",
      "   253414    0.037    0.000    0.037    0.000 {method 'get' of 'dict' objects}\n",
      "   249183    0.052    0.000    0.054    0.000 {getattr}\n",
      "   189143    0.045    0.000    0.090    0.000 {isinstance}\n",
      "171959/610    0.203    0.000    2.149    0.004 /usr/lib/python2.7/copy.py:145(deepcopy)\n",
      "   153615    0.032    0.000    0.032    0.000 {setattr}\n",
      "   129015    0.017    0.000    0.017    0.000 {method 'startswith' of 'str' objects}\n",
      "   117431    0.038    0.000    0.038    0.000 /home/hindle1/.local/lib/python2.7/site-packages/music21/common/weakrefTools.py:18(wrapWeakref)\n",
      "   106079    0.077    0.000    0.085    0.000 /home/hindle1/.local/lib/python2.7/site-packages/music21/stream/__init__.py:1547(elementOffset)\n",
      "99863/99741    0.011    0.000    0.011    0.000 {len}\n",
      "    90219    0.011    0.000    0.011    0.000 {round}\n",
      "    81282    0.033    0.000    0.048    0.000 /home/hindle1/.local/lib/python2.7/site-packages/music21/common/weakrefTools.py:49(unwrapWeakref)\n",
      "    70170    0.041    0.000    0.054    0.000 /usr/lib/python2.7/copy.py:267(_keep_alive)\n",
      "    68991    0.015    0.000    0.015    0.000 /home/hindle1/.local/lib/python2.7/site-packages/music21/base.py:2433(_getDuration)\n",
      "66746/61439    0.025    0.000    0.042    0.000 {hasattr}\n",
      "    64678    0.021    0.000    0.021    0.000 /usr/lib/python2.7/collections.py:90(__iter__)\n",
      "    63745    0.018    0.000    0.018    0.000 /home/hindle1/.local/lib/python2.7/site-packages/music21/base.py:668(classes)\n",
      "    60573    0.006    0.000    0.006    0.000 {chr}\n",
      "    60091    0.061    0.000    0.061    0.000 /home/hindle1/.local/lib/python2.7/site-packages/music21/common/classTools.py:18(isNum)\n",
      "    55534    0.035    0.000    0.059    0.000 /home/hindle1/.local/lib/python2.7/site-packages/music21/common/numberTools.py:235(opFrac)\n",
      "    54305    0.024    0.000    0.024    0.000 {method 'as_integer_ratio' of 'float' objects}\n",
      "    53515    0.027    0.000    0.059    0.000 /home/hindle1/.local/lib/python2.7/site-packages/music21/sites.py:94(_getAndUnwrapSite)\n",
      "    53439    0.117    0.000    0.117    0.000 /usr/lib/python2.7/collections.py:71(__setitem__)\n",
      "    53009    0.054    0.000    0.110    0.000 /home/hindle1/.local/lib/python2.7/site-packages/music21/base.py:2073(_setActiveSite)\n",
      "    48870    0.025    0.000    0.025    0.000 /usr/lib/python2.7/_weakrefset.py:70(__contains__)\n",
      "    47763    0.021    0.000    0.052    0.000 /home/hindle1/.local/lib/python2.7/site-packages/music21/stream/iterator.py:528(matchesFilters)\n",
      "    43432    0.006    0.000    0.006    0.000 /home/hindle1/.local/lib/python2.7/site-packages/music21/pitch.py:2714(_getOctave)\n",
      "    43432    0.006    0.000    0.006    0.000 {method 'join' of 'str' objects}\n",
      "    42462    0.011    0.000    0.011    0.000 /home/hindle1/.local/lib/python2.7/site-packages/music21/duration.py:2612(_getQuarterLength)\n",
      "\n",
      "\n"
     ]
    },
    {
     "data": {
      "text/plain": [
       "<pstats.Stats instance at 0x7f4ad6a8ffc8>"
      ]
     },
     "execution_count": 26,
     "metadata": {},
     "output_type": "execute_result"
    }
   ],
   "source": [
    "p.sort_stats('ncalls').print_stats(30)"
   ]
  },
  {
   "cell_type": "markdown",
   "metadata": {},
   "source": [
    "We're manipulating the objects alot with their octaves."
   ]
  },
  {
   "cell_type": "code",
   "execution_count": 27,
   "metadata": {},
   "outputs": [],
   "source": [
    "# memoize\n",
    "def pitches_of_key(mkey):\n",
    "    if not mkey in __pitches_of_key__:\n",
    "        __pitches_of_key__[mkey] = _pitches_of_key(mkey)\n",
    "    return __pitches_of_key__[mkey]\n",
    "\n",
    "__pitches_octave_mod__ = dict()\n",
    "def pitch_octave_mod( pitch, octave ):\n",
    "    mkey = str(pitch)+str(octave)\n",
    "    #mkey = (pitch,octave)\n",
    "    if not mkey  in __pitches_of_key__:\n",
    "        __pitches_octave_mod__[mkey] = inkey.note_octave_mod(pitch, octave)\n",
    "    return __pitches_octave_mod__[mkey]\n",
    "\n",
    "\n",
    "\n",
    "# memoize\n",
    "def _get_pitches_of_key_with_octave(mkey, octave):\n",
    "    our_pitches = pitches_of_key(mkey)\n",
    "    our_key_notes = [pitch_octave_mod(note, octave-4) for note in our_pitches]\n",
    "    return our_key_notes\n",
    "\n",
    "# memoize\n",
    "__key_and_octave__ = dict()\n",
    "def get_pitches_of_key_with_octave(mkey, octave):\n",
    "    our_key = \"%s %s\" % (mkey,str(octave))\n",
    "    if not our_key in __key_and_octave__:\n",
    "        __key_and_octave__[our_key] = _get_pitches_of_key_with_octave(mkey, octave)\n",
    "    return __key_and_octave__[our_key]    \n",
    "\n",
    "def generate_abram_song(song_tuples, mkey, note_mapping, bump_mapping, octave):\n",
    "    \"\"\" returns a list of music21 notes \"\"\"\n",
    "    # our_pitches = pitches_of_key(mkey)\n",
    "    # # print(our_pitches) \n",
    "    # # modify the key to the appropriate octave\n",
    "    # our_key_notes = [pitch_octave_mod(note, octave-4) for note in our_pitches]\n",
    "    our_key_notes = get_pitches_of_key_with_octave(mkey, octave)\n",
    "    # now get the note mapping to notes\n",
    "    our_notes = [our_key_notes[x] for x in note_mapping]\n",
    "    # process the tuple\n",
    "    # print song_tuples\n",
    "    # print bump_mapping\n",
    "    assert sum([len(t)==2 for t in song_tuples]) == len(song_tuples)\n",
    "    # print [ (our_notes[n], bump_mapping[b-1]) for n,b in song_tuples ]\n",
    "    return [ make_note(our_notes[n], bump_mapping[b-1]) for n,b in song_tuples ]\n",
    "\n"
   ]
  },
  {
   "cell_type": "code",
   "execution_count": 28,
   "metadata": {},
   "outputs": [
    {
     "name": "stdout",
     "output_type": "stream",
     "text": [
      "['Emajor', 'B-minor', 'Gminor', 'E-minor', 'G-major', 'Aminor', 'D-major', 'Eminor', 'C-minor', 'Cmajor', 'C#major', 'Bminor', 'D-minor', 'Gmajor', 'F#minor', 'G-minor', 'E-major', 'Dminor', 'Fmajor', 'Cminor', 'C-major', 'B-major', 'Bmajor', 'C#minor', 'F#major', 'A-major', 'Dmajor', 'A-minor', 'Amajor', 'Fminor']\n",
      "Times up! 25\n",
      "['Emajor', 'B-minor', 'Gminor', 'E-minor', 'G-major', 'Aminor', 'D-major', 'Eminor', 'C-minor', 'Cmajor', 'C#major', 'Bminor', 'D-minor', 'Gmajor', 'F#minor', 'G-minor', 'E-major', 'Dminor', 'Fmajor', 'Cminor', 'C-major', 'B-major', 'Bmajor', 'C#minor', 'F#major', 'A-major', 'Dmajor', 'A-minor', 'Amajor', 'Fminor']\n",
      "Times up! 29\n",
      "['Emajor', 'B-minor', 'Gminor', 'E-minor', 'G-major', 'Aminor', 'D-major', 'Eminor', 'C-minor', 'Cmajor', 'C#major', 'Bminor', 'D-minor', 'Gmajor', 'F#minor', 'G-minor', 'E-major', 'Dminor', 'Fmajor', 'Cminor', 'C-major', 'B-major', 'Bmajor', 'C#minor', 'F#major', 'A-major', 'Dmajor', 'A-minor', 'Amajor', 'Fminor']\n",
      "Times up! 27\n",
      "['Emajor', 'B-minor', 'Gminor', 'E-minor', 'G-major', 'Aminor', 'D-major', 'Eminor', 'C-minor', 'Cmajor', 'C#major', 'Bminor', 'D-minor', 'Gmajor', 'F#minor', 'G-minor', 'E-major', 'Dminor', 'Fmajor', 'Cminor', 'C-major', 'B-major', 'Bmajor', 'C#minor', 'F#major', 'A-major', 'Dmajor', 'A-minor', 'Amajor', 'Fminor']\n",
      "Times up! 28\n",
      "['Emajor', 'B-minor', 'Gminor', 'E-minor', 'G-major', 'Aminor', 'D-major', 'Eminor', 'C-minor', 'Cmajor', 'C#major', 'Bminor', 'D-minor', 'Gmajor', 'F#minor', 'G-minor', 'E-major', 'Dminor', 'Fmajor', 'Cminor', 'C-major', 'B-major', 'Bmajor', 'C#minor', 'F#major', 'A-major', 'Dmajor', 'A-minor', 'Amajor', 'Fminor']\n",
      "Times up! 26\n",
      "['Emajor', 'B-minor', 'Gminor', 'E-minor', 'G-major', 'Aminor', 'D-major', 'Eminor', 'C-minor', 'Cmajor', 'C#major', 'Bminor', 'D-minor', 'Gmajor', 'F#minor', 'G-minor', 'E-major', 'Dminor', 'Fmajor', 'Cminor', 'C-major', 'B-major', 'Bmajor', 'C#minor', 'F#major', 'A-major', 'Dmajor', 'A-minor', 'Amajor', 'Fminor']\n",
      "Times up! 25\n",
      "['Emajor', 'B-minor', 'Gminor', 'E-minor', 'G-major', 'Aminor', 'D-major', 'Eminor', 'C-minor', 'Cmajor', 'C#major', 'Bminor', 'D-minor', 'Gmajor', 'F#minor', 'G-minor', 'E-major', 'Dminor', 'Fmajor', 'Cminor', 'C-major', 'B-major', 'Bmajor', 'C#minor', 'F#major', 'A-major', 'Dmajor', 'A-minor', 'Amajor', 'Fminor']\n",
      "Times up! 24\n",
      "['Emajor', 'B-minor', 'Gminor', 'E-minor', 'G-major', 'Aminor', 'D-major', 'Eminor', 'C-minor', 'Cmajor', 'C#major', 'Bminor', 'D-minor', 'Gmajor', 'F#minor', 'G-minor', 'E-major', 'Dminor', 'Fmajor', 'Cminor', 'C-major', 'B-major', 'Bmajor', 'C#minor', 'F#major', 'A-major', 'Dmajor', 'A-minor', 'Amajor', 'Fminor']\n",
      "Times up! 29\n",
      "['Emajor', 'B-minor', 'Gminor', 'E-minor', 'G-major', 'Aminor', 'D-major', 'Eminor', 'C-minor', 'Cmajor', 'C#major', 'Bminor', 'D-minor', 'Gmajor', 'F#minor', 'G-minor', 'E-major', 'Dminor', 'Fmajor', 'Cminor', 'C-major', 'B-major', 'Bmajor', 'C#minor', 'F#major', 'A-major', 'Dmajor', 'A-minor', 'Amajor', 'Fminor']\n",
      "Times up! 28\n",
      "['Emajor', 'B-minor', 'Gminor', 'E-minor', 'G-major', 'Aminor', 'D-major', 'Eminor', 'C-minor', 'Cmajor', 'C#major', 'Bminor', 'D-minor', 'Gmajor', 'F#minor', 'G-minor', 'E-major', 'Dminor', 'Fmajor', 'Cminor', 'C-major', 'B-major', 'Bmajor', 'C#minor', 'F#major', 'A-major', 'Dmajor', 'A-minor', 'Amajor', 'Fminor']\n",
      "Times up! 29\n",
      "Current Performance ~ 27 iters per 1 seconds \n",
      "[25, 29, 27, 28, 26, 25, 24, 29, 28, 29]\n"
     ]
    },
    {
     "data": {
      "text/plain": [
       "[25, 29, 27, 28, 26, 25, 24, 29, 28, 29]"
      ]
     },
     "execution_count": 28,
     "metadata": {},
     "output_type": "execute_result"
    }
   ],
   "source": [
    "bench()"
   ]
  },
  {
   "cell_type": "markdown",
   "metadata": {},
   "source": [
    "No real gain from that."
   ]
  },
  {
   "cell_type": "code",
   "execution_count": 29,
   "metadata": {},
   "outputs": [
    {
     "name": "stdout",
     "output_type": "stream",
     "text": [
      "['Emajor', 'B-minor', 'Gminor', 'E-minor', 'G-major', 'Aminor', 'D-major', 'Eminor', 'C-minor', 'Cmajor', 'C#major', 'Bminor', 'D-minor', 'Gmajor', 'F#minor', 'G-minor', 'E-major', 'Dminor', 'Fmajor', 'Cminor', 'C-major', 'B-major', 'Bmajor', 'C#minor', 'F#major', 'A-major', 'Dmajor', 'A-minor', 'Amajor', 'Fminor']\n",
      "Times up! 65\n"
     ]
    }
   ],
   "source": [
    "cProfile.run('my_main(4)','cpout4.txt')\n"
   ]
  },
  {
   "cell_type": "code",
   "execution_count": 30,
   "metadata": {},
   "outputs": [
    {
     "name": "stdout",
     "output_type": "stream",
     "text": [
      "Mon May 13 20:34:03 2019    cpout4.txt\n",
      "\n",
      "         6250507 function calls (6064161 primitive calls) in 4.047 seconds\n",
      "\n",
      "   Ordered by: cumulative time\n",
      "   List reduced from 325 to 50 due to restriction <50>\n",
      "\n",
      "   ncalls  tottime  percall  cumtime  percall filename:lineno(function)\n",
      "        1    0.000    0.000    4.047    4.047 <string>:1(<module>)\n",
      "        1    0.000    0.000    4.047    4.047 <ipython-input-3-02a0ed9aa61e>:140(my_main)\n",
      "        1    0.000    0.000    4.046    4.046 <ipython-input-3-02a0ed9aa61e>:125(grid_search)\n",
      "       65    0.001    0.000    4.045    0.062 <ipython-input-3-02a0ed9aa61e>:113(generate_and_save_song)\n",
      "       65    0.000    0.000    3.244    0.050 <ipython-input-3-02a0ed9aa61e>:107(save_midifile)\n",
      "       65    0.000    0.000    3.244    0.050 __init__.py:246(write)\n",
      "       65    0.001    0.000    3.243    0.050 base.py:2529(write)\n",
      "       65    0.001    0.000    3.227    0.050 subConverters.py:921(write)\n",
      "       65    0.000    0.000    3.142    0.048 translate.py:237(music21ObjectToMidiFile)\n",
      "       65    0.002    0.000    3.141    0.048 translate.py:1890(streamToMidiFile)\n",
      "       65    0.005    0.000    3.139    0.048 translate.py:1680(streamHierarchyToMidiTracks)\n",
      "       65    0.004    0.000    2.238    0.034 translate.py:1646(_prepareStreamForMidi)\n",
      "180691/130    0.204    0.000    2.125    0.016 copy.py:145(deepcopy)\n",
      "       65    0.000    0.000    2.123    0.033 __init__.py:1455(__deepcopy__)\n",
      "       65    0.012    0.000    1.806    0.028 __init__.py:1393(_deepcopySubclassable)\n",
      "     5655    0.008    0.000    1.652    0.000 note.py:751(__deepcopy__)\n",
      "     5655    0.009    0.000    1.644    0.000 base.py:585(__deepcopy__)\n",
      "     5720    0.179    0.000    1.428    0.000 base.py:479(_deepcopySubclassable)\n",
      "    11310    0.025    0.000    0.751    0.000 note.py:1056(__init__)\n",
      "       65    0.018    0.000    0.641    0.010 <ipython-input-19-0ec8fb4d1c4b>:1(song_to_mid)\n",
      "      260    0.000    0.000    0.461    0.002 __init__.py:6649(flat)\n",
      "      130    0.014    0.000    0.461    0.004 __init__.py:6591(_getFlatOrSemiFlat)\n",
      "    11310    0.033    0.000    0.454    0.000 note.py:733(__init__)\n",
      "    11310    0.031    0.000    0.416    0.000 note.py:363(__init__)\n",
      "       65    0.037    0.001    0.375    0.006 translate.py:1028(_streamToPackets)\n",
      "       65    0.000    0.000    0.317    0.005 __init__.py:1470(_replaceSpannerBundleForDeepcopy)\n",
      "       65    0.001    0.000    0.316    0.005 core.py:361(spannerBundle)\n",
      "    17355    0.043    0.000    0.310    0.000 sites.py:167(__init__)\n",
      "    11635    0.048    0.000    0.298    0.000 base.py:409(__init__)\n",
      "      520    0.014    0.000    0.279    0.001 {method 'sort' of 'list' objects}\n",
      "    11310    0.041    0.000    0.273    0.000 pitch.py:1444(__init__)\n",
      "      260    0.001    0.000    0.271    0.001 __init__.py:6444(sort)\n",
      "    17355    0.096    0.000    0.266    0.000 collections.py:50(__init__)\n",
      "    22620    0.041    0.000    0.266    0.000 core.py:60(coreInsert)\n",
      "    16965    0.007    0.000    0.248    0.000 __init__.py:6471(<lambda>)\n",
      "    16965    0.045    0.000    0.241    0.000 base.py:2292(sortTuple)\n",
      "     5655    0.049    0.000    0.232    0.000 translate.py:361(noteToMidiEvents)\n",
      "    33930    0.110    0.000    0.222    0.000 sites.py:330(add)\n",
      "     5655    0.034    0.000    0.218    0.000 base.py:1237(purgeOrphans)\n",
      "    11700    0.043    0.000    0.216    0.000 copy.py:306(_reconstruct)\n",
      "     5655    0.038    0.000    0.188    0.000 __init__.py:1863(append)\n",
      "    11310    0.122    0.000    0.183    0.000 pitch.py:2309(_setName)\n",
      "    16965    0.165    0.000    0.174    0.000 sorting.py:96(__new__)\n",
      "     5720    0.037    0.000    0.167    0.000 sites.py:180(__deepcopy__)\n",
      "       65    0.009    0.000    0.165    0.003 __init__.py:6152(stripTies)\n",
      "    17485    0.047    0.000    0.142    0.000 iterator.py:135(__next__)\n",
      "    17355    0.046    0.000    0.142    0.000 _abcoll.py:548(update)\n",
      "      130    0.007    0.000    0.141    0.001 iterator.py:574(stream)\n",
      "    28730    0.051    0.000    0.120    0.000 sites.py:403(yieldSites)\n",
      "    12610    0.034    0.000    0.116    0.000 duration.py:1441(__init__)\n",
      "\n",
      "\n"
     ]
    },
    {
     "data": {
      "text/plain": [
       "<pstats.Stats instance at 0x7f4ad6730290>"
      ]
     },
     "execution_count": 30,
     "metadata": {},
     "output_type": "execute_result"
    }
   ],
   "source": [
    "p = pstats.Stats('cpout4.txt')\n",
    "# p.sort_stats('cumtime').print_stats(25)\n",
    "p.strip_dirs().sort_stats('cumtime').print_stats(50)"
   ]
  },
  {
   "cell_type": "markdown",
   "metadata": {},
   "source": [
    "# Awful Optimization Trick: Remove a layer of abstraction\n",
    "\n",
    "Music21 objects are pretty slow.\n",
    "\n",
    "       65    0.001    0.000    3.138    0.048 __init__.py:246(write)\n",
    "       65    0.001    0.000    3.138    0.048 base.py:2529(write)\n",
    "       65    0.001    0.000    3.121    0.048 subConverters.py:921(write)\n",
    "       65    0.000    0.000    3.033    0.047 translate.py:237(music21ObjectToMidiFile)\n",
    "       65    0.002    0.000    3.033    0.047 translate.py:1890(streamToMidiFile)\n",
    "       65    0.005    0.000    3.031    0.047 translate.py:1680(streamHierarchyToMidiTracks)\n",
    "       65    0.003    0.000    2.130    0.033 translate.py:1646(_prepareStreamForMidi)\n",
    "    180691/130    0.202    0.000    2.021    0.016 copy.py:145(deepcopy)\n",
    "       65    0.000    0.000    2.019    0.031 __init__.py:1455(__deepcopy__)\n",
    "       65    0.012    0.000    1.860    0.029 __init__.py:1393(_deepcopySubclassable)\n",
    "\n",
    "We're going to drop making music21 objects until we need them in the end.\n",
    "\n",
    "We're going to convert notes to tuples instead of Music21 objects and make Music21 later."
   ]
  },
  {
   "cell_type": "code",
   "execution_count": 31,
   "metadata": {},
   "outputs": [],
   "source": [
    "# state is evil\n",
    "__key_and_octave__ = dict()\n",
    "__pitches_of_key__ = dict()\n",
    "__pitches_octave_mod__ = dict()\n",
    "\n",
    "# make a tuple\n",
    "def _make_note( midi_pitch, duration ):\n",
    "    return (midi_pitch, duration)\n",
    "def make_note( midi_pitch, duration ):\n",
    "    return _make_note(midi_pitch, duration)\n",
    "def _get_pitches_of_key_with_octave(mkey, octave):\n",
    "    our_pitches = pitches_of_key(mkey)\n",
    "    our_key_notes = [pitch_octave_mod(note, octave-4) for note in our_pitches]\n",
    "    # convert to midi\n",
    "    return [p.midi for p in our_key_notes]\n",
    "    # return our_key_notes\n",
    "def note_to_midi(note):\n",
    "    # if not note in __note_to_midi__:\n",
    "    #     __note_to_midi__[note] = note.pitch.midi # supposedly this is slow\n",
    "    # return __note_to_midi__[note]\n",
    "    return int(note[0])\n",
    "\n",
    "def song_to_txt(song):\n",
    "    # return \" \".join([\"M{:03d}\".format(note.midi) for note in song])\n",
    "    return \" \".join([\"M{:03d}\".format(note_to_midi(note)) for note in song])\n"
   ]
  },
  {
   "cell_type": "code",
   "execution_count": 32,
   "metadata": {
    "scrolled": true
   },
   "outputs": [
    {
     "name": "stdout",
     "output_type": "stream",
     "text": [
      "['Emajor', 'B-minor', 'Gminor', 'E-minor', 'G-major', 'Aminor', 'D-major', 'Eminor', 'C-minor', 'Cmajor', 'C#major', 'Bminor', 'D-minor', 'Gmajor', 'F#minor', 'G-minor', 'E-major', 'Dminor', 'Fmajor', 'Cminor', 'C-major', 'B-major', 'Bmajor', 'C#minor', 'F#major', 'A-major', 'Dmajor', 'A-minor', 'Amajor', 'Fminor']\n"
     ]
    },
    {
     "ename": "AttributeError",
     "evalue": "'tuple' object has no attribute 'pitches'",
     "output_type": "error",
     "traceback": [
      "\u001b[0;31m---------------------------------------------------------------------------\u001b[0m",
      "\u001b[0;31mAttributeError\u001b[0m                            Traceback (most recent call last)",
      "\u001b[0;32m<ipython-input-32-92718615c0f9>\u001b[0m in \u001b[0;36m<module>\u001b[0;34m()\u001b[0m\n\u001b[0;32m----> 1\u001b[0;31m \u001b[0mbench\u001b[0m\u001b[0;34m(\u001b[0m\u001b[0;34m)\u001b[0m\u001b[0;34m\u001b[0m\u001b[0m\n\u001b[0m",
      "\u001b[0;32m<ipython-input-17-fe0c72596b8e>\u001b[0m in \u001b[0;36mbench\u001b[0;34m(seconds, repeats)\u001b[0m\n\u001b[1;32m      1\u001b[0m \u001b[0;31m# let's make this more repeatable\u001b[0m\u001b[0;34m\u001b[0m\u001b[0;34m\u001b[0m\u001b[0m\n\u001b[1;32m      2\u001b[0m \u001b[0;32mdef\u001b[0m \u001b[0mbench\u001b[0m\u001b[0;34m(\u001b[0m\u001b[0mseconds\u001b[0m\u001b[0;34m=\u001b[0m\u001b[0;36m1\u001b[0m\u001b[0;34m,\u001b[0m\u001b[0mrepeats\u001b[0m\u001b[0;34m=\u001b[0m\u001b[0;36m10\u001b[0m\u001b[0;34m)\u001b[0m\u001b[0;34m:\u001b[0m\u001b[0;34m\u001b[0m\u001b[0m\n\u001b[0;32m----> 3\u001b[0;31m     \u001b[0mperf\u001b[0m \u001b[0;34m=\u001b[0m \u001b[0mmap\u001b[0m\u001b[0;34m(\u001b[0m\u001b[0;32mlambda\u001b[0m \u001b[0mx\u001b[0m\u001b[0;34m:\u001b[0m \u001b[0mmy_main\u001b[0m\u001b[0;34m(\u001b[0m\u001b[0mseconds\u001b[0m\u001b[0;34m)\u001b[0m\u001b[0;34m,\u001b[0m\u001b[0mrange\u001b[0m\u001b[0;34m(\u001b[0m\u001b[0;36m0\u001b[0m\u001b[0;34m,\u001b[0m\u001b[0mrepeats\u001b[0m\u001b[0;34m)\u001b[0m\u001b[0;34m)\u001b[0m\u001b[0;34m\u001b[0m\u001b[0m\n\u001b[0m\u001b[1;32m      4\u001b[0m     \u001b[0;32mprint\u001b[0m\u001b[0;34m(\u001b[0m\u001b[0;34m\"Current Performance ~ %s iters per %s seconds \"\u001b[0m \u001b[0;34m%\u001b[0m \u001b[0;34m(\u001b[0m\u001b[0mmean\u001b[0m\u001b[0;34m(\u001b[0m\u001b[0mperf\u001b[0m\u001b[0;34m)\u001b[0m\u001b[0;34m,\u001b[0m \u001b[0mseconds\u001b[0m\u001b[0;34m)\u001b[0m\u001b[0;34m)\u001b[0m\u001b[0;34m\u001b[0m\u001b[0m\n\u001b[1;32m      5\u001b[0m     \u001b[0;32mprint\u001b[0m\u001b[0;34m(\u001b[0m\u001b[0mperf\u001b[0m\u001b[0;34m)\u001b[0m\u001b[0;34m\u001b[0m\u001b[0m\n",
      "\u001b[0;32m<ipython-input-17-fe0c72596b8e>\u001b[0m in \u001b[0;36m<lambda>\u001b[0;34m(x)\u001b[0m\n\u001b[1;32m      1\u001b[0m \u001b[0;31m# let's make this more repeatable\u001b[0m\u001b[0;34m\u001b[0m\u001b[0;34m\u001b[0m\u001b[0m\n\u001b[1;32m      2\u001b[0m \u001b[0;32mdef\u001b[0m \u001b[0mbench\u001b[0m\u001b[0;34m(\u001b[0m\u001b[0mseconds\u001b[0m\u001b[0;34m=\u001b[0m\u001b[0;36m1\u001b[0m\u001b[0;34m,\u001b[0m\u001b[0mrepeats\u001b[0m\u001b[0;34m=\u001b[0m\u001b[0;36m10\u001b[0m\u001b[0;34m)\u001b[0m\u001b[0;34m:\u001b[0m\u001b[0;34m\u001b[0m\u001b[0m\n\u001b[0;32m----> 3\u001b[0;31m     \u001b[0mperf\u001b[0m \u001b[0;34m=\u001b[0m \u001b[0mmap\u001b[0m\u001b[0;34m(\u001b[0m\u001b[0;32mlambda\u001b[0m \u001b[0mx\u001b[0m\u001b[0;34m:\u001b[0m \u001b[0mmy_main\u001b[0m\u001b[0;34m(\u001b[0m\u001b[0mseconds\u001b[0m\u001b[0;34m)\u001b[0m\u001b[0;34m,\u001b[0m\u001b[0mrange\u001b[0m\u001b[0;34m(\u001b[0m\u001b[0;36m0\u001b[0m\u001b[0;34m,\u001b[0m\u001b[0mrepeats\u001b[0m\u001b[0;34m)\u001b[0m\u001b[0;34m)\u001b[0m\u001b[0;34m\u001b[0m\u001b[0m\n\u001b[0m\u001b[1;32m      4\u001b[0m     \u001b[0;32mprint\u001b[0m\u001b[0;34m(\u001b[0m\u001b[0;34m\"Current Performance ~ %s iters per %s seconds \"\u001b[0m \u001b[0;34m%\u001b[0m \u001b[0;34m(\u001b[0m\u001b[0mmean\u001b[0m\u001b[0;34m(\u001b[0m\u001b[0mperf\u001b[0m\u001b[0;34m)\u001b[0m\u001b[0;34m,\u001b[0m \u001b[0mseconds\u001b[0m\u001b[0;34m)\u001b[0m\u001b[0;34m)\u001b[0m\u001b[0;34m\u001b[0m\u001b[0m\n\u001b[1;32m      5\u001b[0m     \u001b[0;32mprint\u001b[0m\u001b[0;34m(\u001b[0m\u001b[0mperf\u001b[0m\u001b[0;34m)\u001b[0m\u001b[0;34m\u001b[0m\u001b[0m\n",
      "\u001b[0;32m<ipython-input-3-02a0ed9aa61e>\u001b[0m in \u001b[0;36mmy_main\u001b[0;34m(maxtime)\u001b[0m\n\u001b[1;32m    154\u001b[0m     }\n\u001b[1;32m    155\u001b[0m     return grid_search(params,[\"keys\",\"dir_notes\",\"bump_durations\",\"octaves\"], \n\u001b[0;32m--> 156\u001b[0;31m                 song_tuples, f=generate_and_save_song, maxtime=maxtime)\n\u001b[0m\u001b[1;32m    157\u001b[0m \u001b[0;34m\u001b[0m\u001b[0m\n\u001b[1;32m    158\u001b[0m \u001b[0;32mdef\u001b[0m \u001b[0mgenerate_and_estimate_song\u001b[0m\u001b[0;34m(\u001b[0m\u001b[0mestimate\u001b[0m\u001b[0;34m,\u001b[0m\u001b[0msong_tuples\u001b[0m\u001b[0;34m,\u001b[0m\u001b[0mmkey\u001b[0m\u001b[0;34m,\u001b[0m \u001b[0mnote_mapping\u001b[0m\u001b[0;34m,\u001b[0m \u001b[0mbump_mapping\u001b[0m\u001b[0;34m,\u001b[0m\u001b[0moctave\u001b[0m\u001b[0;34m)\u001b[0m\u001b[0;34m:\u001b[0m\u001b[0;34m\u001b[0m\u001b[0m\n",
      "\u001b[0;32m<ipython-input-3-02a0ed9aa61e>\u001b[0m in \u001b[0;36mgrid_search\u001b[0;34m(params, param_keys, song_tuples, f, maxtime)\u001b[0m\n\u001b[1;32m    131\u001b[0m         \u001b[0;32mif\u001b[0m \u001b[0m__grid_search_print__\u001b[0m\u001b[0;34m:\u001b[0m\u001b[0;34m\u001b[0m\u001b[0m\n\u001b[1;32m    132\u001b[0m             \u001b[0;32mprint\u001b[0m\u001b[0;34m(\u001b[0m\u001b[0mt\u001b[0m\u001b[0;34m)\u001b[0m\u001b[0;34m\u001b[0m\u001b[0m\n\u001b[0;32m--> 133\u001b[0;31m         \u001b[0mf\u001b[0m\u001b[0;34m(\u001b[0m\u001b[0msong_tuples\u001b[0m\u001b[0;34m,\u001b[0m\u001b[0;34m*\u001b[0m\u001b[0mt\u001b[0m\u001b[0;34m)\u001b[0m\u001b[0;34m\u001b[0m\u001b[0m\n\u001b[0m\u001b[1;32m    134\u001b[0m         \u001b[0miters\u001b[0m \u001b[0;34m+=\u001b[0m \u001b[0;36m1\u001b[0m\u001b[0;34m\u001b[0m\u001b[0m\n\u001b[1;32m    135\u001b[0m         \u001b[0;32mif\u001b[0m \u001b[0;34m(\u001b[0m\u001b[0mtime\u001b[0m\u001b[0;34m.\u001b[0m\u001b[0mtime\u001b[0m\u001b[0;34m(\u001b[0m\u001b[0;34m)\u001b[0m \u001b[0;34m-\u001b[0m \u001b[0mstart\u001b[0m \u001b[0;34m>\u001b[0m \u001b[0mmaxtime\u001b[0m\u001b[0;34m)\u001b[0m\u001b[0;34m:\u001b[0m\u001b[0;34m\u001b[0m\u001b[0m\n",
      "\u001b[0;32m<ipython-input-3-02a0ed9aa61e>\u001b[0m in \u001b[0;36mgenerate_and_save_song\u001b[0;34m(song_tuples, mkey, note_mapping, bump_mapping, octave)\u001b[0m\n\u001b[1;32m    119\u001b[0m     \u001b[0msave_textfile\u001b[0m\u001b[0;34m(\u001b[0m\u001b[0mtxt\u001b[0m\u001b[0;34m,\u001b[0m \u001b[0mtxt_file_name\u001b[0m\u001b[0;34m)\u001b[0m\u001b[0;34m\u001b[0m\u001b[0m\n\u001b[1;32m    120\u001b[0m     \u001b[0;31m# print(song)\u001b[0m\u001b[0;34m\u001b[0m\u001b[0;34m\u001b[0m\u001b[0m\n\u001b[0;32m--> 121\u001b[0;31m     \u001b[0mmid\u001b[0m \u001b[0;34m=\u001b[0m \u001b[0msong_to_mid\u001b[0m\u001b[0;34m(\u001b[0m\u001b[0msong\u001b[0m\u001b[0;34m)\u001b[0m\u001b[0;34m\u001b[0m\u001b[0m\n\u001b[0m\u001b[1;32m    122\u001b[0m     \u001b[0msave_midifile\u001b[0m\u001b[0;34m(\u001b[0m\u001b[0mmid\u001b[0m\u001b[0;34m,\u001b[0m \u001b[0mmid_file_name\u001b[0m\u001b[0;34m)\u001b[0m\u001b[0;34m\u001b[0m\u001b[0m\n\u001b[1;32m    123\u001b[0m \u001b[0;34m\u001b[0m\u001b[0m\n",
      "\u001b[0;32m<ipython-input-19-0ec8fb4d1c4b>\u001b[0m in \u001b[0;36msong_to_mid\u001b[0;34m(song)\u001b[0m\n\u001b[1;32m      3\u001b[0m     \u001b[0;32mfor\u001b[0m \u001b[0melm\u001b[0m \u001b[0;32min\u001b[0m \u001b[0msong\u001b[0m\u001b[0;34m:\u001b[0m\u001b[0;34m\u001b[0m\u001b[0m\n\u001b[1;32m      4\u001b[0m         \u001b[0mnote\u001b[0m \u001b[0;34m=\u001b[0m \u001b[0mmusic21\u001b[0m\u001b[0;34m.\u001b[0m\u001b[0mnote\u001b[0m\u001b[0;34m.\u001b[0m\u001b[0mNote\u001b[0m\u001b[0;34m(\u001b[0m\u001b[0;34m)\u001b[0m\u001b[0;34m\u001b[0m\u001b[0m\n\u001b[0;32m----> 5\u001b[0;31m         \u001b[0mnote\u001b[0m\u001b[0;34m.\u001b[0m\u001b[0mpitches\u001b[0m \u001b[0;34m=\u001b[0m \u001b[0melm\u001b[0m\u001b[0;34m.\u001b[0m\u001b[0mpitches\u001b[0m\u001b[0;34m\u001b[0m\u001b[0m\n\u001b[0m\u001b[1;32m      6\u001b[0m         \u001b[0mnote\u001b[0m\u001b[0;34m.\u001b[0m\u001b[0mduration\u001b[0m \u001b[0;34m=\u001b[0m \u001b[0melm\u001b[0m\u001b[0;34m.\u001b[0m\u001b[0mduration\u001b[0m\u001b[0;34m\u001b[0m\u001b[0m\n\u001b[1;32m      7\u001b[0m         \u001b[0mstream\u001b[0m\u001b[0;34m.\u001b[0m\u001b[0mappend\u001b[0m\u001b[0;34m(\u001b[0m\u001b[0mnote\u001b[0m\u001b[0;34m)\u001b[0m\u001b[0;34m\u001b[0m\u001b[0m\n",
      "\u001b[0;31mAttributeError\u001b[0m: 'tuple' object has no attribute 'pitches'"
     ]
    }
   ],
   "source": [
    "bench()"
   ]
  },
  {
   "cell_type": "code",
   "execution_count": 33,
   "metadata": {},
   "outputs": [],
   "source": [
    "def make_music21_note( midi21_pitch, duration ):\n",
    "    new_note = music21.note.Note(midi21_pitch)\n",
    "    new_note.duration = music21.duration.Duration(duration) # is this right    \n",
    "    return new_note\n",
    "\n",
    "def song_to_mid(song):\n",
    "    stream = music21.stream.Stream()\n",
    "    for elm in song:\n",
    "        if isinstance(elm, music21.note.Note):\n",
    "            #note = music21.note.Note()\n",
    "            #note.pitches = elm.pitches\n",
    "            #note.duration = elm.duration\n",
    "            stream.append(elm)\n",
    "        else:\n",
    "            stream.append(make_music21_note(elm[0],elm[1]))\n",
    "    return stream\n"
   ]
  },
  {
   "cell_type": "code",
   "execution_count": 34,
   "metadata": {},
   "outputs": [
    {
     "name": "stdout",
     "output_type": "stream",
     "text": [
      "['Emajor', 'B-minor', 'Gminor', 'E-minor', 'G-major', 'Aminor', 'D-major', 'Eminor', 'C-minor', 'Cmajor', 'C#major', 'Bminor', 'D-minor', 'Gmajor', 'F#minor', 'G-minor', 'E-major', 'Dminor', 'Fmajor', 'Cminor', 'C-major', 'B-major', 'Bmajor', 'C#minor', 'F#major', 'A-major', 'Dmajor', 'A-minor', 'Amajor', 'Fminor']\n",
      "Times up! 24\n",
      "['Emajor', 'B-minor', 'Gminor', 'E-minor', 'G-major', 'Aminor', 'D-major', 'Eminor', 'C-minor', 'Cmajor', 'C#major', 'Bminor', 'D-minor', 'Gmajor', 'F#minor', 'G-minor', 'E-major', 'Dminor', 'Fmajor', 'Cminor', 'C-major', 'B-major', 'Bmajor', 'C#minor', 'F#major', 'A-major', 'Dmajor', 'A-minor', 'Amajor', 'Fminor']\n",
      "Times up! 20\n",
      "['Emajor', 'B-minor', 'Gminor', 'E-minor', 'G-major', 'Aminor', 'D-major', 'Eminor', 'C-minor', 'Cmajor', 'C#major', 'Bminor', 'D-minor', 'Gmajor', 'F#minor', 'G-minor', 'E-major', 'Dminor', 'Fmajor', 'Cminor', 'C-major', 'B-major', 'Bmajor', 'C#minor', 'F#major', 'A-major', 'Dmajor', 'A-minor', 'Amajor', 'Fminor']\n",
      "Times up! 24\n",
      "['Emajor', 'B-minor', 'Gminor', 'E-minor', 'G-major', 'Aminor', 'D-major', 'Eminor', 'C-minor', 'Cmajor', 'C#major', 'Bminor', 'D-minor', 'Gmajor', 'F#minor', 'G-minor', 'E-major', 'Dminor', 'Fmajor', 'Cminor', 'C-major', 'B-major', 'Bmajor', 'C#minor', 'F#major', 'A-major', 'Dmajor', 'A-minor', 'Amajor', 'Fminor']\n",
      "Times up! 21\n",
      "['Emajor', 'B-minor', 'Gminor', 'E-minor', 'G-major', 'Aminor', 'D-major', 'Eminor', 'C-minor', 'Cmajor', 'C#major', 'Bminor', 'D-minor', 'Gmajor', 'F#minor', 'G-minor', 'E-major', 'Dminor', 'Fmajor', 'Cminor', 'C-major', 'B-major', 'Bmajor', 'C#minor', 'F#major', 'A-major', 'Dmajor', 'A-minor', 'Amajor', 'Fminor']\n",
      "Times up! 25\n",
      "['Emajor', 'B-minor', 'Gminor', 'E-minor', 'G-major', 'Aminor', 'D-major', 'Eminor', 'C-minor', 'Cmajor', 'C#major', 'Bminor', 'D-minor', 'Gmajor', 'F#minor', 'G-minor', 'E-major', 'Dminor', 'Fmajor', 'Cminor', 'C-major', 'B-major', 'Bmajor', 'C#minor', 'F#major', 'A-major', 'Dmajor', 'A-minor', 'Amajor', 'Fminor']\n",
      "Times up! 24\n",
      "['Emajor', 'B-minor', 'Gminor', 'E-minor', 'G-major', 'Aminor', 'D-major', 'Eminor', 'C-minor', 'Cmajor', 'C#major', 'Bminor', 'D-minor', 'Gmajor', 'F#minor', 'G-minor', 'E-major', 'Dminor', 'Fmajor', 'Cminor', 'C-major', 'B-major', 'Bmajor', 'C#minor', 'F#major', 'A-major', 'Dmajor', 'A-minor', 'Amajor', 'Fminor']\n",
      "Times up! 26\n",
      "['Emajor', 'B-minor', 'Gminor', 'E-minor', 'G-major', 'Aminor', 'D-major', 'Eminor', 'C-minor', 'Cmajor', 'C#major', 'Bminor', 'D-minor', 'Gmajor', 'F#minor', 'G-minor', 'E-major', 'Dminor', 'Fmajor', 'Cminor', 'C-major', 'B-major', 'Bmajor', 'C#minor', 'F#major', 'A-major', 'Dmajor', 'A-minor', 'Amajor', 'Fminor']\n",
      "Times up! 26\n",
      "['Emajor', 'B-minor', 'Gminor', 'E-minor', 'G-major', 'Aminor', 'D-major', 'Eminor', 'C-minor', 'Cmajor', 'C#major', 'Bminor', 'D-minor', 'Gmajor', 'F#minor', 'G-minor', 'E-major', 'Dminor', 'Fmajor', 'Cminor', 'C-major', 'B-major', 'Bmajor', 'C#minor', 'F#major', 'A-major', 'Dmajor', 'A-minor', 'Amajor', 'Fminor']\n",
      "Times up! 24\n",
      "['Emajor', 'B-minor', 'Gminor', 'E-minor', 'G-major', 'Aminor', 'D-major', 'Eminor', 'C-minor', 'Cmajor', 'C#major', 'Bminor', 'D-minor', 'Gmajor', 'F#minor', 'G-minor', 'E-major', 'Dminor', 'Fmajor', 'Cminor', 'C-major', 'B-major', 'Bmajor', 'C#minor', 'F#major', 'A-major', 'Dmajor', 'A-minor', 'Amajor', 'Fminor']\n",
      "Times up! 22\n",
      "Current Performance ~ 23 iters per 1 seconds \n",
      "[24, 20, 24, 21, 25, 24, 26, 26, 24, 22]\n"
     ]
    },
    {
     "data": {
      "text/plain": [
       "[24, 20, 24, 21, 25, 24, 26, 26, 24, 22]"
      ]
     },
     "execution_count": 34,
     "metadata": {},
     "output_type": "execute_result"
    }
   ],
   "source": [
    "bench()"
   ]
  },
  {
   "cell_type": "code",
   "execution_count": 35,
   "metadata": {},
   "outputs": [
    {
     "name": "stdout",
     "output_type": "stream",
     "text": [
      "['Emajor', 'B-minor', 'Gminor', 'E-minor', 'G-major', 'Aminor', 'D-major', 'Eminor', 'C-minor', 'Cmajor', 'C#major', 'Bminor', 'D-minor', 'Gmajor', 'F#minor', 'G-minor', 'E-major', 'Dminor', 'Fmajor', 'Cminor', 'C-major', 'B-major', 'Bmajor', 'C#minor', 'F#major', 'A-major', 'Dmajor', 'A-minor', 'Amajor', 'Fminor']\n",
      "Times up! 55\n"
     ]
    }
   ],
   "source": [
    "cProfile.run('my_main(4)','cpout5.txt')\n"
   ]
  },
  {
   "cell_type": "code",
   "execution_count": 36,
   "metadata": {},
   "outputs": [
    {
     "name": "stdout",
     "output_type": "stream",
     "text": [
      "Mon May 13 20:37:28 2019    cpout5.txt\n",
      "\n",
      "         6108455 function calls (5882130 primitive calls) in 4.038 seconds\n",
      "\n",
      "   Ordered by: cumulative time\n",
      "   List reduced from 316 to 50 due to restriction <50>\n",
      "\n",
      "   ncalls  tottime  percall  cumtime  percall filename:lineno(function)\n",
      "        1    0.000    0.000    4.038    4.038 <string>:1(<module>)\n",
      "        1    0.000    0.000    4.038    4.038 <ipython-input-3-02a0ed9aa61e>:140(my_main)\n",
      "        1    0.001    0.001    4.038    4.038 <ipython-input-3-02a0ed9aa61e>:125(grid_search)\n",
      "       55    0.001    0.000    4.037    0.073 <ipython-input-3-02a0ed9aa61e>:113(generate_and_save_song)\n",
      "       55    0.000    0.000    3.385    0.062 <ipython-input-3-02a0ed9aa61e>:107(save_midifile)\n",
      "       55    0.000    0.000    3.385    0.062 /home/hindle1/.local/lib/python2.7/site-packages/music21/stream/__init__.py:246(write)\n",
      "       55    0.001    0.000    3.384    0.062 /home/hindle1/.local/lib/python2.7/site-packages/music21/base.py:2529(write)\n",
      "       55    0.001    0.000    3.370    0.061 /home/hindle1/.local/lib/python2.7/site-packages/music21/converter/subConverters.py:921(write)\n",
      "       55    0.000    0.000    3.295    0.060 /home/hindle1/.local/lib/python2.7/site-packages/music21/midi/translate.py:237(music21ObjectToMidiFile)\n",
      "       55    0.002    0.000    3.295    0.060 /home/hindle1/.local/lib/python2.7/site-packages/music21/midi/translate.py:1890(streamToMidiFile)\n",
      "       55    0.005    0.000    3.293    0.060 /home/hindle1/.local/lib/python2.7/site-packages/music21/midi/translate.py:1680(streamHierarchyToMidiTracks)\n",
      "       55    0.004    0.000    2.396    0.044 /home/hindle1/.local/lib/python2.7/site-packages/music21/midi/translate.py:1646(_prepareStreamForMidi)\n",
      "221540/110    0.314    0.000    2.297    0.021 /usr/lib/python2.7/copy.py:145(deepcopy)\n",
      "       55    0.000    0.000    2.295    0.042 /home/hindle1/.local/lib/python2.7/site-packages/music21/stream/__init__.py:1455(__deepcopy__)\n",
      "       55    0.011    0.000    2.149    0.039 /home/hindle1/.local/lib/python2.7/site-packages/music21/stream/__init__.py:1393(_deepcopySubclassable)\n",
      "     4785    0.008    0.000    2.012    0.000 /home/hindle1/.local/lib/python2.7/site-packages/music21/note.py:751(__deepcopy__)\n",
      "     4785    0.008    0.000    2.004    0.000 /home/hindle1/.local/lib/python2.7/site-packages/music21/base.py:585(__deepcopy__)\n",
      "     4840    0.160    0.000    1.811    0.000 /home/hindle1/.local/lib/python2.7/site-packages/music21/base.py:479(_deepcopySubclassable)\n",
      "     9570    0.024    0.000    0.698    0.000 /home/hindle1/.local/lib/python2.7/site-packages/music21/note.py:1056(__init__)\n",
      "       55    0.008    0.000    0.639    0.012 <ipython-input-33-f93cdb7d84b0>:6(song_to_mid)\n",
      "     4785    0.011    0.000    0.461    0.000 <ipython-input-33-f93cdb7d84b0>:1(make_music21_note)\n",
      "       55    0.033    0.001    0.441    0.008 /home/hindle1/.local/lib/python2.7/site-packages/music21/midi/translate.py:1028(_streamToPackets)\n",
      "     9570    0.031    0.000    0.422    0.000 /home/hindle1/.local/lib/python2.7/site-packages/music21/note.py:733(__init__)\n",
      "     9570    0.027    0.000    0.387    0.000 /home/hindle1/.local/lib/python2.7/site-packages/music21/note.py:363(__init__)\n",
      "     4785    0.006    0.000    0.340    0.000 /home/hindle1/.local/lib/python2.7/site-packages/music21/duration.py:1560(__deepcopy__)\n",
      "     4785    0.061    0.000    0.334    0.000 /home/hindle1/.local/lib/python2.7/site-packages/music21/common/misc.py:159(defaultDeepcopy)\n",
      "     4785    0.044    0.000    0.318    0.000 /home/hindle1/.local/lib/python2.7/site-packages/music21/midi/translate.py:361(noteToMidiEvents)\n",
      "    14685    0.042    0.000    0.278    0.000 /home/hindle1/.local/lib/python2.7/site-packages/music21/sites.py:167(__init__)\n",
      "      220    0.000    0.000    0.273    0.001 /home/hindle1/.local/lib/python2.7/site-packages/music21/stream/__init__.py:6649(flat)\n",
      "      110    0.012    0.000    0.272    0.002 /home/hindle1/.local/lib/python2.7/site-packages/music21/stream/__init__.py:6591(_getFlatOrSemiFlat)\n",
      "     9845    0.044    0.000    0.269    0.000 /home/hindle1/.local/lib/python2.7/site-packages/music21/base.py:409(__init__)\n",
      "     9570    0.037    0.000    0.250    0.000 /home/hindle1/.local/lib/python2.7/site-packages/music21/pitch.py:1444(__init__)\n",
      "     4785    0.038    0.000    0.239    0.000 /home/hindle1/.local/lib/python2.7/site-packages/music21/pitch.py:1563(__deepcopy__)\n",
      "    19140    0.036    0.000    0.239    0.000 /home/hindle1/.local/lib/python2.7/site-packages/music21/stream/core.py:60(coreInsert)\n",
      "    14685    0.085    0.000    0.237    0.000 /usr/lib/python2.7/collections.py:50(__init__)\n",
      "    28710    0.101    0.000    0.199    0.000 /home/hindle1/.local/lib/python2.7/site-packages/music21/sites.py:330(add)\n",
      "     9570    0.109    0.000    0.197    0.000 /home/hindle1/.local/lib/python2.7/site-packages/music21/pitch.py:2171(_getMidi)\n",
      "     4785    0.031    0.000    0.194    0.000 /home/hindle1/.local/lib/python2.7/site-packages/music21/base.py:1237(purgeOrphans)\n",
      "     9900    0.037    0.000    0.186    0.000 /usr/lib/python2.7/copy.py:306(_reconstruct)\n",
      "     4785    0.035    0.000    0.166    0.000 /home/hindle1/.local/lib/python2.7/site-packages/music21/stream/__init__.py:1863(append)\n",
      "     4840    0.033    0.000    0.149    0.000 /home/hindle1/.local/lib/python2.7/site-packages/music21/sites.py:180(__deepcopy__)\n",
      "   130515    0.126    0.000    0.148    0.000 /usr/lib/python2.7/copy.py:267(_keep_alive)\n",
      "       55    0.008    0.000    0.146    0.003 /home/hindle1/.local/lib/python2.7/site-packages/music21/stream/__init__.py:6152(stripTies)\n",
      "       55    0.000    0.000    0.146    0.003 /home/hindle1/.local/lib/python2.7/site-packages/music21/stream/__init__.py:1470(_replaceSpannerBundleForDeepcopy)\n",
      "       55    0.001    0.000    0.146    0.003 /home/hindle1/.local/lib/python2.7/site-packages/music21/stream/core.py:361(spannerBundle)\n",
      "    19140    0.061    0.000    0.143    0.000 /home/hindle1/.local/lib/python2.7/site-packages/music21/duration.py:1441(__init__)\n",
      "     4785    0.026    0.000    0.129    0.000 /home/hindle1/.local/lib/python2.7/site-packages/music21/pitch.py:842(__deepcopy__)\n",
      "    14685    0.041    0.000    0.126    0.000 /usr/lib/python2.7/_abcoll.py:548(update)\n",
      "    14795    0.041    0.000    0.125    0.000 /home/hindle1/.local/lib/python2.7/site-packages/music21/stream/iterator.py:135(__next__)\n",
      "      110    0.006    0.000    0.123    0.001 /home/hindle1/.local/lib/python2.7/site-packages/music21/stream/iterator.py:574(stream)\n",
      "\n",
      "\n"
     ]
    },
    {
     "data": {
      "text/plain": [
       "<pstats.Stats instance at 0x7f4ad6bdcfc8>"
      ]
     },
     "execution_count": 36,
     "metadata": {},
     "output_type": "execute_result"
    }
   ],
   "source": [
    "p = pstats.Stats('cpout5.txt')\n",
    "# p.sort_stats('cumtime').print_stats(25)\n",
    "p.sort_stats('cumtime').print_stats(50)"
   ]
  },
  {
   "cell_type": "markdown",
   "metadata": {},
   "source": [
    "# It's still the midi output.\n",
    "\n",
    "       55    0.000    0.000    3.354    0.061 <ipython-input-2-02a0ed9aa61e>:107(save_midifile)\n",
    "\n",
    "Let's try it without without midi altogether.\n",
    "\n",
    "# Imagine we asked our boss if we could just skip producing MIDI files?\n",
    "\n",
    "If they said yes and changed the requirements we'd make huge gains."
   ]
  },
  {
   "cell_type": "code",
   "execution_count": 37,
   "metadata": {},
   "outputs": [],
   "source": [
    "__grid_search_print__ = False\n",
    "\n",
    "def save_midifile(x,y):\n",
    "    return None\n",
    "def song_to_mid(x):\n",
    "    return None"
   ]
  },
  {
   "cell_type": "code",
   "execution_count": 38,
   "metadata": {},
   "outputs": [
    {
     "name": "stdout",
     "output_type": "stream",
     "text": [
      "['Emajor', 'B-minor', 'Gminor', 'E-minor', 'G-major', 'Aminor', 'D-major', 'Eminor', 'C-minor', 'Cmajor', 'C#major', 'Bminor', 'D-minor', 'Gmajor', 'F#minor', 'G-minor', 'E-major', 'Dminor', 'Fmajor', 'Cminor', 'C-major', 'B-major', 'Bmajor', 'C#minor', 'F#major', 'A-major', 'Dmajor', 'A-minor', 'Amajor', 'Fminor']\n",
      "Times up! 7455\n",
      "['Emajor', 'B-minor', 'Gminor', 'E-minor', 'G-major', 'Aminor', 'D-major', 'Eminor', 'C-minor', 'Cmajor', 'C#major', 'Bminor', 'D-minor', 'Gmajor', 'F#minor', 'G-minor', 'E-major', 'Dminor', 'Fmajor', 'Cminor', 'C-major', 'B-major', 'Bmajor', 'C#minor', 'F#major', 'A-major', 'Dmajor', 'A-minor', 'Amajor', 'Fminor']\n",
      "Times up! 8641\n",
      "['Emajor', 'B-minor', 'Gminor', 'E-minor', 'G-major', 'Aminor', 'D-major', 'Eminor', 'C-minor', 'Cmajor', 'C#major', 'Bminor', 'D-minor', 'Gmajor', 'F#minor', 'G-minor', 'E-major', 'Dminor', 'Fmajor', 'Cminor', 'C-major', 'B-major', 'Bmajor', 'C#minor', 'F#major', 'A-major', 'Dmajor', 'A-minor', 'Amajor', 'Fminor']\n",
      "Times up! 7938\n",
      "['Emajor', 'B-minor', 'Gminor', 'E-minor', 'G-major', 'Aminor', 'D-major', 'Eminor', 'C-minor', 'Cmajor', 'C#major', 'Bminor', 'D-minor', 'Gmajor', 'F#minor', 'G-minor', 'E-major', 'Dminor', 'Fmajor', 'Cminor', 'C-major', 'B-major', 'Bmajor', 'C#minor', 'F#major', 'A-major', 'Dmajor', 'A-minor', 'Amajor', 'Fminor']\n",
      "Times up! 9379\n",
      "['Emajor', 'B-minor', 'Gminor', 'E-minor', 'G-major', 'Aminor', 'D-major', 'Eminor', 'C-minor', 'Cmajor', 'C#major', 'Bminor', 'D-minor', 'Gmajor', 'F#minor', 'G-minor', 'E-major', 'Dminor', 'Fmajor', 'Cminor', 'C-major', 'B-major', 'Bmajor', 'C#minor', 'F#major', 'A-major', 'Dmajor', 'A-minor', 'Amajor', 'Fminor']\n",
      "Times up! 9412\n",
      "['Emajor', 'B-minor', 'Gminor', 'E-minor', 'G-major', 'Aminor', 'D-major', 'Eminor', 'C-minor', 'Cmajor', 'C#major', 'Bminor', 'D-minor', 'Gmajor', 'F#minor', 'G-minor', 'E-major', 'Dminor', 'Fmajor', 'Cminor', 'C-major', 'B-major', 'Bmajor', 'C#minor', 'F#major', 'A-major', 'Dmajor', 'A-minor', 'Amajor', 'Fminor']\n",
      "Times up! 9424\n",
      "['Emajor', 'B-minor', 'Gminor', 'E-minor', 'G-major', 'Aminor', 'D-major', 'Eminor', 'C-minor', 'Cmajor', 'C#major', 'Bminor', 'D-minor', 'Gmajor', 'F#minor', 'G-minor', 'E-major', 'Dminor', 'Fmajor', 'Cminor', 'C-major', 'B-major', 'Bmajor', 'C#minor', 'F#major', 'A-major', 'Dmajor', 'A-minor', 'Amajor', 'Fminor']\n",
      "Times up! 9503\n",
      "['Emajor', 'B-minor', 'Gminor', 'E-minor', 'G-major', 'Aminor', 'D-major', 'Eminor', 'C-minor', 'Cmajor', 'C#major', 'Bminor', 'D-minor', 'Gmajor', 'F#minor', 'G-minor', 'E-major', 'Dminor', 'Fmajor', 'Cminor', 'C-major', 'B-major', 'Bmajor', 'C#minor', 'F#major', 'A-major', 'Dmajor', 'A-minor', 'Amajor', 'Fminor']\n",
      "Times up! 9410\n",
      "['Emajor', 'B-minor', 'Gminor', 'E-minor', 'G-major', 'Aminor', 'D-major', 'Eminor', 'C-minor', 'Cmajor', 'C#major', 'Bminor', 'D-minor', 'Gmajor', 'F#minor', 'G-minor', 'E-major', 'Dminor', 'Fmajor', 'Cminor', 'C-major', 'B-major', 'Bmajor', 'C#minor', 'F#major', 'A-major', 'Dmajor', 'A-minor', 'Amajor', 'Fminor']\n",
      "Times up! 9497\n",
      "['Emajor', 'B-minor', 'Gminor', 'E-minor', 'G-major', 'Aminor', 'D-major', 'Eminor', 'C-minor', 'Cmajor', 'C#major', 'Bminor', 'D-minor', 'Gmajor', 'F#minor', 'G-minor', 'E-major', 'Dminor', 'Fmajor', 'Cminor', 'C-major', 'B-major', 'Bmajor', 'C#minor', 'F#major', 'A-major', 'Dmajor', 'A-minor', 'Amajor', 'Fminor']\n",
      "Times up! 9201\n",
      "Current Performance ~ 8986 iters per 1 seconds \n",
      "[7455, 8641, 7938, 9379, 9412, 9424, 9503, 9410, 9497, 9201]\n"
     ]
    },
    {
     "data": {
      "text/plain": [
       "[7455, 8641, 7938, 9379, 9412, 9424, 9503, 9410, 9497, 9201]"
      ]
     },
     "execution_count": 38,
     "metadata": {},
     "output_type": "execute_result"
    }
   ],
   "source": [
    "bench()"
   ]
  },
  {
   "cell_type": "code",
   "execution_count": 39,
   "metadata": {},
   "outputs": [
    {
     "name": "stdout",
     "output_type": "stream",
     "text": [
      "['Emajor', 'B-minor', 'Gminor', 'E-minor', 'G-major', 'Aminor', 'D-major', 'Eminor', 'C-minor', 'Cmajor', 'C#major', 'Bminor', 'D-minor', 'Gmajor', 'F#minor', 'G-minor', 'E-major', 'Dminor', 'Fmajor', 'Cminor', 'C-major', 'B-major', 'Bmajor', 'C#minor', 'F#major', 'A-major', 'Dmajor', 'A-minor', 'Amajor', 'Fminor']\n",
      "Times up! 20134\n",
      "Mon May 13 20:38:37 2019    cpout6.txt\n",
      "\n",
      "         9388012 function calls (9385254 primitive calls) in 4.001 seconds\n",
      "\n",
      "   Ordered by: cumulative time\n",
      "   List reduced from 226 to 50 due to restriction <50>\n",
      "\n",
      "   ncalls  tottime  percall  cumtime  percall filename:lineno(function)\n",
      "        1    0.000    0.000    4.001    4.001 <string>:1(<module>)\n",
      "        1    0.000    0.000    4.001    4.001 <ipython-input-3-02a0ed9aa61e>:140(my_main)\n",
      "        1    0.066    0.066    4.000    4.000 <ipython-input-3-02a0ed9aa61e>:125(grid_search)\n",
      "    20134    0.091    0.000    3.931    0.000 <ipython-input-3-02a0ed9aa61e>:113(generate_and_save_song)\n",
      "    20134    0.736    0.000    1.635    0.000 <ipython-input-27-375f2682ebb6>:31(generate_abram_song)\n",
      "    20134    0.583    0.000    1.286    0.000 <ipython-input-31-d4e378dee91b>:23(song_to_txt)\n",
      "    20134    0.523    0.000    0.807    0.000 <ipython-input-3-02a0ed9aa61e>:95(save_textfile)\n",
      "  1751658    0.359    0.000    0.516    0.000 <ipython-input-31-d4e378dee91b>:9(make_note)\n",
      "  1751658    0.351    0.000    0.351    0.000 {method 'format' of 'str' objects}\n",
      "  1751658    0.333    0.000    0.333    0.000 <ipython-input-31-d4e378dee91b>:17(note_to_midi)\n",
      "    20134    0.028    0.000    0.265    0.000 <ipython-input-27-375f2682ebb6>:25(get_pitches_of_key_with_octave)\n",
      "    20134    0.248    0.000    0.248    0.000 {method 'close' of 'file' objects}\n",
      "       21    0.000    0.000    0.237    0.011 <ipython-input-31-d4e378dee91b>:11(_get_pitches_of_key_with_octave)\n",
      "       21    0.000    0.000    0.228    0.011 <ipython-input-27-375f2682ebb6>:2(pitches_of_key)\n",
      "        7    0.000    0.000    0.228    0.033 <ipython-input-23-f013f13945ef>:2(_pitches_of_key)\n",
      "        7    0.000    0.000    0.212    0.030 /home/hindle1/.local/lib/python2.7/site-packages/music21/scale/__init__.py:1510(getPitches)\n",
      "        7    0.000    0.000    0.212    0.030 /home/hindle1/.local/lib/python2.7/site-packages/music21/scale/__init__.py:392(getRealization)\n",
      "        7    0.000    0.000    0.210    0.030 /home/hindle1/.local/lib/python2.7/site-packages/music21/scale/intervalNetwork.py:1851(realizePitch)\n",
      "        7    0.000    0.000    0.210    0.030 /home/hindle1/.local/lib/python2.7/site-packages/music21/scale/intervalNetwork.py:1658(realize)\n",
      "     21/7    0.003    0.000    0.210    0.030 /home/hindle1/.local/lib/python2.7/site-packages/music21/scale/intervalNetwork.py:1313(_realizeAscending)\n",
      "        7    0.000    0.000    0.187    0.027 /home/hindle1/.local/lib/python2.7/site-packages/music21/scale/intervalNetwork.py:1990(realizeMinMax)\n",
      "  1751658    0.156    0.000    0.156    0.000 <ipython-input-31-d4e378dee91b>:7(_make_note)\n",
      "      406    0.003    0.000    0.153    0.000 /home/hindle1/.local/lib/python2.7/site-packages/music21/interval.py:2155(transposePitch)\n",
      "      392    0.001    0.000    0.152    0.000 /home/hindle1/.local/lib/python2.7/site-packages/music21/scale/intervalNetwork.py:2836(transposePitchAndApplySimplification)\n",
      "      392    0.004    0.000    0.148    0.000 /home/hindle1/.local/lib/python2.7/site-packages/music21/interval.py:2225(_diatonicTransposePitch)\n",
      "      651    0.006    0.000    0.133    0.000 /home/hindle1/.local/lib/python2.7/site-packages/music21/interval.py:1894(__init__)\n",
      "  1783778    0.092    0.000    0.092    0.000 {len}\n",
      "       14    0.002    0.000    0.088    0.006 /home/hindle1/.local/lib/python2.7/site-packages/music21/scale/intervalNetwork.py:1472(_realizeDescending)\n",
      "    40268    0.063    0.000    0.063    0.000 <ipython-input-3-02a0ed9aa61e>:110(strify)\n",
      "     3409    0.010    0.000    0.063    0.000 /home/hindle1/.local/lib/python2.7/site-packages/music21/base.py:409(__init__)\n",
      "    82342    0.062    0.000    0.062    0.000 {method 'join' of 'str' objects}\n",
      "      651    0.003    0.000    0.058    0.000 /home/hindle1/.local/lib/python2.7/site-packages/music21/interval.py:1955(reinit)\n",
      "     3409    0.006    0.000    0.050    0.000 /home/hindle1/.local/lib/python2.7/site-packages/music21/sites.py:167(__init__)\n",
      "      784    0.002    0.000    0.048    0.000 /home/hindle1/.local/lib/python2.7/site-packages/music21/note.py:1056(__init__)\n",
      "     3542    0.015    0.000    0.044    0.000 /usr/lib/python2.7/collections.py:50(__init__)\n",
      "    20134    0.035    0.000    0.035    0.000 {method 'write' of 'file' objects}\n",
      "     3724    0.009    0.000    0.029    0.000 /home/hindle1/.local/lib/python2.7/site-packages/music21/pitch.py:2037(_getPs)\n",
      "      784    0.002    0.000    0.029    0.000 /home/hindle1/.local/lib/python2.7/site-packages/music21/note.py:733(__init__)\n",
      "    20134    0.027    0.000    0.027    0.000 {sum}\n",
      "      784    0.002    0.000    0.026    0.000 /home/hindle1/.local/lib/python2.7/site-packages/music21/note.py:363(__init__)\n",
      " 3367/623    0.006    0.000    0.025    0.000 /usr/lib/python2.7/copy.py:145(deepcopy)\n",
      "     3542    0.008    0.000    0.025    0.000 /usr/lib/python2.7/_abcoll.py:548(update)\n",
      "      651    0.008    0.000    0.023    0.000 /home/hindle1/.local/lib/python2.7/site-packages/music21/interval.py:1075(__init__)\n",
      "      672    0.005    0.000    0.022    0.000 /home/hindle1/.local/lib/python2.7/site-packages/music21/pitch.py:1563(__deepcopy__)\n",
      "        7    0.000    0.000    0.022    0.003 /home/hindle1/.local/lib/python2.7/site-packages/music21/scale/intervalNetwork.py:1953(realizeTermini)\n",
      "      651    0.007    0.000    0.020    0.000 /home/hindle1/.local/lib/python2.7/site-packages/music21/interval.py:655(__init__)\n",
      "      392    0.001    0.000    0.019    0.000 /home/hindle1/.local/lib/python2.7/site-packages/music21/interval.py:1598(notesToChromatic)\n",
      "      392    0.001    0.000    0.019    0.000 /home/hindle1/.local/lib/python2.7/site-packages/music21/interval.py:1571(notesToGeneric)\n",
      "      805    0.003    0.000    0.018    0.000 /home/hindle1/.local/lib/python2.7/site-packages/music21/pitch.py:1444(__init__)\n",
      "      147    0.001    0.000    0.018    0.000 /home/hindle1/.local/lib/python2.7/site-packages/music21/interval.py:2296(reverse)\n",
      "\n",
      "\n"
     ]
    },
    {
     "data": {
      "text/plain": [
       "<pstats.Stats instance at 0x7f4ad6b46cf8>"
      ]
     },
     "execution_count": 39,
     "metadata": {},
     "output_type": "execute_result"
    }
   ],
   "source": [
    "cProfile.run('my_main(4)','cpout6.txt')\n",
    "p = pstats.Stats('cpout6.txt')\n",
    "p.sort_stats('cumtime').print_stats(50)"
   ]
  },
  {
   "cell_type": "markdown",
   "metadata": {},
   "source": [
    "  1808295    0.359    0.000    0.516    0.000 <ipython-input-29-d4e378dee91b>:9(make_note)\n",
    "    \n",
    "```make_note``` still is too much\n",
    "\n"
   ]
  },
  {
   "cell_type": "code",
   "execution_count": 40,
   "metadata": {},
   "outputs": [
    {
     "name": "stdout",
     "output_type": "stream",
     "text": [
      "['Emajor', 'B-minor', 'Gminor', 'E-minor', 'G-major', 'Aminor', 'D-major', 'Eminor', 'C-minor', 'Cmajor', 'C#major', 'Bminor', 'D-minor', 'Gmajor', 'F#minor', 'G-minor', 'E-major', 'Dminor', 'Fmajor', 'Cminor', 'C-major', 'B-major', 'Bmajor', 'C#minor', 'F#major', 'A-major', 'Dmajor', 'A-minor', 'Amajor', 'Fminor']\n",
      "Times up! 8965\n",
      "['Emajor', 'B-minor', 'Gminor', 'E-minor', 'G-major', 'Aminor', 'D-major', 'Eminor', 'C-minor', 'Cmajor', 'C#major', 'Bminor', 'D-minor', 'Gmajor', 'F#minor', 'G-minor', 'E-major', 'Dminor', 'Fmajor', 'Cminor', 'C-major', 'B-major', 'Bmajor', 'C#minor', 'F#major', 'A-major', 'Dmajor', 'A-minor', 'Amajor', 'Fminor']\n",
      "Times up! 9630\n",
      "['Emajor', 'B-minor', 'Gminor', 'E-minor', 'G-major', 'Aminor', 'D-major', 'Eminor', 'C-minor', 'Cmajor', 'C#major', 'Bminor', 'D-minor', 'Gmajor', 'F#minor', 'G-minor', 'E-major', 'Dminor', 'Fmajor', 'Cminor', 'C-major', 'B-major', 'Bmajor', 'C#minor', 'F#major', 'A-major', 'Dmajor', 'A-minor', 'Amajor', 'Fminor']\n",
      "Times up! 9343\n",
      "['Emajor', 'B-minor', 'Gminor', 'E-minor', 'G-major', 'Aminor', 'D-major', 'Eminor', 'C-minor', 'Cmajor', 'C#major', 'Bminor', 'D-minor', 'Gmajor', 'F#minor', 'G-minor', 'E-major', 'Dminor', 'Fmajor', 'Cminor', 'C-major', 'B-major', 'Bmajor', 'C#minor', 'F#major', 'A-major', 'Dmajor', 'A-minor', 'Amajor', 'Fminor']\n",
      "Times up! 9316\n",
      "['Emajor', 'B-minor', 'Gminor', 'E-minor', 'G-major', 'Aminor', 'D-major', 'Eminor', 'C-minor', 'Cmajor', 'C#major', 'Bminor', 'D-minor', 'Gmajor', 'F#minor', 'G-minor', 'E-major', 'Dminor', 'Fmajor', 'Cminor', 'C-major', 'B-major', 'Bmajor', 'C#minor', 'F#major', 'A-major', 'Dmajor', 'A-minor', 'Amajor', 'Fminor']\n",
      "Times up! 9358\n",
      "['Emajor', 'B-minor', 'Gminor', 'E-minor', 'G-major', 'Aminor', 'D-major', 'Eminor', 'C-minor', 'Cmajor', 'C#major', 'Bminor', 'D-minor', 'Gmajor', 'F#minor', 'G-minor', 'E-major', 'Dminor', 'Fmajor', 'Cminor', 'C-major', 'B-major', 'Bmajor', 'C#minor', 'F#major', 'A-major', 'Dmajor', 'A-minor', 'Amajor', 'Fminor']\n",
      "Times up! 9514\n",
      "['Emajor', 'B-minor', 'Gminor', 'E-minor', 'G-major', 'Aminor', 'D-major', 'Eminor', 'C-minor', 'Cmajor', 'C#major', 'Bminor', 'D-minor', 'Gmajor', 'F#minor', 'G-minor', 'E-major', 'Dminor', 'Fmajor', 'Cminor', 'C-major', 'B-major', 'Bmajor', 'C#minor', 'F#major', 'A-major', 'Dmajor', 'A-minor', 'Amajor', 'Fminor']\n",
      "Times up! 9266\n",
      "['Emajor', 'B-minor', 'Gminor', 'E-minor', 'G-major', 'Aminor', 'D-major', 'Eminor', 'C-minor', 'Cmajor', 'C#major', 'Bminor', 'D-minor', 'Gmajor', 'F#minor', 'G-minor', 'E-major', 'Dminor', 'Fmajor', 'Cminor', 'C-major', 'B-major', 'Bmajor', 'C#minor', 'F#major', 'A-major', 'Dmajor', 'A-minor', 'Amajor', 'Fminor']\n",
      "Times up! 9104\n",
      "['Emajor', 'B-minor', 'Gminor', 'E-minor', 'G-major', 'Aminor', 'D-major', 'Eminor', 'C-minor', 'Cmajor', 'C#major', 'Bminor', 'D-minor', 'Gmajor', 'F#minor', 'G-minor', 'E-major', 'Dminor', 'Fmajor', 'Cminor', 'C-major', 'B-major', 'Bmajor', 'C#minor', 'F#major', 'A-major', 'Dmajor', 'A-minor', 'Amajor', 'Fminor']\n",
      "Times up! 9870\n",
      "['Emajor', 'B-minor', 'Gminor', 'E-minor', 'G-major', 'Aminor', 'D-major', 'Eminor', 'C-minor', 'Cmajor', 'C#major', 'Bminor', 'D-minor', 'Gmajor', 'F#minor', 'G-minor', 'E-major', 'Dminor', 'Fmajor', 'Cminor', 'C-major', 'B-major', 'Bmajor', 'C#minor', 'F#major', 'A-major', 'Dmajor', 'A-minor', 'Amajor', 'Fminor']\n",
      "Times up! 9103\n",
      "Current Performance ~ 9346 iters per 1 seconds \n",
      "[8965, 9630, 9343, 9316, 9358, 9514, 9266, 9104, 9870, 9103]\n",
      "['Emajor', 'B-minor', 'Gminor', 'E-minor', 'G-major', 'Aminor', 'D-major', 'Eminor', 'C-minor', 'Cmajor', 'C#major', 'Bminor', 'D-minor', 'Gmajor', 'F#minor', 'G-minor', 'E-major', 'Dminor', 'Fmajor', 'Cminor', 'C-major', 'B-major', 'Bmajor', 'C#minor', 'F#major', 'A-major', 'Dmajor', 'A-minor', 'Amajor', 'Fminor']\n",
      "Times up! 23766\n",
      "Mon May 13 20:39:41 2019    cpout7.txt\n",
      "\n",
      "         8816210 function calls (8815028 primitive calls) in 4.001 seconds\n",
      "\n",
      "   Ordered by: cumulative time\n",
      "   List reduced from 225 to 20 due to restriction <20>\n",
      "\n",
      "   ncalls  tottime  percall  cumtime  percall filename:lineno(function)\n",
      "        1    0.000    0.000    4.001    4.001 <string>:1(<module>)\n",
      "        1    0.000    0.000    4.001    4.001 <ipython-input-3-02a0ed9aa61e>:140(my_main)\n",
      "        1    0.074    0.074    4.000    4.000 <ipython-input-3-02a0ed9aa61e>:125(grid_search)\n",
      "    23766    0.107    0.000    3.922    0.000 <ipython-input-3-02a0ed9aa61e>:113(generate_and_save_song)\n",
      "    23766    0.664    0.000    1.471    0.000 <ipython-input-31-d4e378dee91b>:23(song_to_txt)\n",
      "    23766    0.819    0.000    1.286    0.000 <ipython-input-27-375f2682ebb6>:31(generate_abram_song)\n",
      "    23766    0.601    0.000    0.929    0.000 <ipython-input-3-02a0ed9aa61e>:95(save_textfile)\n",
      "  2067642    0.400    0.000    0.400    0.000 {method 'format' of 'str' objects}\n",
      "  2067642    0.385    0.000    0.385    0.000 <ipython-input-31-d4e378dee91b>:17(note_to_midi)\n",
      "    23766    0.288    0.000    0.288    0.000 {method 'close' of 'file' objects}\n",
      "    23766    0.032    0.000    0.178    0.000 <ipython-input-27-375f2682ebb6>:25(get_pitches_of_key_with_octave)\n",
      "  2067642    0.154    0.000    0.154    0.000 <ipython-input-40-7c38d74e8c09>:2(make_note)\n",
      "        9    0.000    0.000    0.147    0.016 <ipython-input-31-d4e378dee91b>:11(_get_pitches_of_key_with_octave)\n",
      "        9    0.000    0.000    0.142    0.016 <ipython-input-27-375f2682ebb6>:2(pitches_of_key)\n",
      "        3    0.000    0.000    0.142    0.047 <ipython-input-23-f013f13945ef>:2(_pitches_of_key)\n",
      "        3    0.000    0.000    0.135    0.045 /home/hindle1/.local/lib/python2.7/site-packages/music21/scale/__init__.py:1510(getPitches)\n",
      "        3    0.000    0.000    0.135    0.045 /home/hindle1/.local/lib/python2.7/site-packages/music21/scale/__init__.py:392(getRealization)\n",
      "        3    0.000    0.000    0.134    0.045 /home/hindle1/.local/lib/python2.7/site-packages/music21/scale/intervalNetwork.py:1851(realizePitch)\n",
      "        3    0.000    0.000    0.134    0.045 /home/hindle1/.local/lib/python2.7/site-packages/music21/scale/intervalNetwork.py:1658(realize)\n",
      "      9/3    0.001    0.000    0.134    0.045 /home/hindle1/.local/lib/python2.7/site-packages/music21/scale/intervalNetwork.py:1313(_realizeAscending)\n",
      "\n",
      "\n"
     ]
    },
    {
     "data": {
      "text/plain": [
       "<pstats.Stats instance at 0x7f4ad6c21fc8>"
      ]
     },
     "execution_count": 40,
     "metadata": {},
     "output_type": "execute_result"
    }
   ],
   "source": [
    "# remove the function call to _make_note\n",
    "def make_note( midi_pitch, duration ):\n",
    "    return (midi_pitch, duration)\n",
    "bench()\n",
    "cProfile.run('my_main(4)','cpout7.txt')\n",
    "p = pstats.Stats('cpout7.txt')\n",
    "p.sort_stats('cumtime').print_stats(20)"
   ]
  },
  {
   "cell_type": "markdown",
   "metadata": {},
   "source": [
    "# Mild improvement 8800 to 9300 iters.\n",
    "\n",
    "Can we memoize further? "
   ]
  },
  {
   "cell_type": "code",
   "execution_count": 41,
   "metadata": {},
   "outputs": [
    {
     "name": "stdout",
     "output_type": "stream",
     "text": [
      "['Emajor', 'B-minor', 'Gminor', 'E-minor', 'G-major', 'Aminor', 'D-major', 'Eminor', 'C-minor', 'Cmajor', 'C#major', 'Bminor', 'D-minor', 'Gmajor', 'F#minor', 'G-minor', 'E-major', 'Dminor', 'Fmajor', 'Cminor', 'C-major', 'B-major', 'Bmajor', 'C#minor', 'F#major', 'A-major', 'Dmajor', 'A-minor', 'Amajor', 'Fminor']\n",
      "Times up! 8269\n",
      "['Emajor', 'B-minor', 'Gminor', 'E-minor', 'G-major', 'Aminor', 'D-major', 'Eminor', 'C-minor', 'Cmajor', 'C#major', 'Bminor', 'D-minor', 'Gmajor', 'F#minor', 'G-minor', 'E-major', 'Dminor', 'Fmajor', 'Cminor', 'C-major', 'B-major', 'Bmajor', 'C#minor', 'F#major', 'A-major', 'Dmajor', 'A-minor', 'Amajor', 'Fminor']\n",
      "Times up! 7962\n",
      "['Emajor', 'B-minor', 'Gminor', 'E-minor', 'G-major', 'Aminor', 'D-major', 'Eminor', 'C-minor', 'Cmajor', 'C#major', 'Bminor', 'D-minor', 'Gmajor', 'F#minor', 'G-minor', 'E-major', 'Dminor', 'Fmajor', 'Cminor', 'C-major', 'B-major', 'Bmajor', 'C#minor', 'F#major', 'A-major', 'Dmajor', 'A-minor', 'Amajor', 'Fminor']\n",
      "Times up! 8812\n",
      "['Emajor', 'B-minor', 'Gminor', 'E-minor', 'G-major', 'Aminor', 'D-major', 'Eminor', 'C-minor', 'Cmajor', 'C#major', 'Bminor', 'D-minor', 'Gmajor', 'F#minor', 'G-minor', 'E-major', 'Dminor', 'Fmajor', 'Cminor', 'C-major', 'B-major', 'Bmajor', 'C#minor', 'F#major', 'A-major', 'Dmajor', 'A-minor', 'Amajor', 'Fminor']\n",
      "Times up! 8201\n",
      "['Emajor', 'B-minor', 'Gminor', 'E-minor', 'G-major', 'Aminor', 'D-major', 'Eminor', 'C-minor', 'Cmajor', 'C#major', 'Bminor', 'D-minor', 'Gmajor', 'F#minor', 'G-minor', 'E-major', 'Dminor', 'Fmajor', 'Cminor', 'C-major', 'B-major', 'Bmajor', 'C#minor', 'F#major', 'A-major', 'Dmajor', 'A-minor', 'Amajor', 'Fminor']\n",
      "Times up! 9101\n",
      "['Emajor', 'B-minor', 'Gminor', 'E-minor', 'G-major', 'Aminor', 'D-major', 'Eminor', 'C-minor', 'Cmajor', 'C#major', 'Bminor', 'D-minor', 'Gmajor', 'F#minor', 'G-minor', 'E-major', 'Dminor', 'Fmajor', 'Cminor', 'C-major', 'B-major', 'Bmajor', 'C#minor', 'F#major', 'A-major', 'Dmajor', 'A-minor', 'Amajor', 'Fminor']\n",
      "Times up! 8572\n",
      "['Emajor', 'B-minor', 'Gminor', 'E-minor', 'G-major', 'Aminor', 'D-major', 'Eminor', 'C-minor', 'Cmajor', 'C#major', 'Bminor', 'D-minor', 'Gmajor', 'F#minor', 'G-minor', 'E-major', 'Dminor', 'Fmajor', 'Cminor', 'C-major', 'B-major', 'Bmajor', 'C#minor', 'F#major', 'A-major', 'Dmajor', 'A-minor', 'Amajor', 'Fminor']\n",
      "Times up! 8691\n",
      "['Emajor', 'B-minor', 'Gminor', 'E-minor', 'G-major', 'Aminor', 'D-major', 'Eminor', 'C-minor', 'Cmajor', 'C#major', 'Bminor', 'D-minor', 'Gmajor', 'F#minor', 'G-minor', 'E-major', 'Dminor', 'Fmajor', 'Cminor', 'C-major', 'B-major', 'Bmajor', 'C#minor', 'F#major', 'A-major', 'Dmajor', 'A-minor', 'Amajor', 'Fminor']\n",
      "Times up! 9011\n",
      "['Emajor', 'B-minor', 'Gminor', 'E-minor', 'G-major', 'Aminor', 'D-major', 'Eminor', 'C-minor', 'Cmajor', 'C#major', 'Bminor', 'D-minor', 'Gmajor', 'F#minor', 'G-minor', 'E-major', 'Dminor', 'Fmajor', 'Cminor', 'C-major', 'B-major', 'Bmajor', 'C#minor', 'F#major', 'A-major', 'Dmajor', 'A-minor', 'Amajor', 'Fminor']\n",
      "Times up! 9103\n",
      "['Emajor', 'B-minor', 'Gminor', 'E-minor', 'G-major', 'Aminor', 'D-major', 'Eminor', 'C-minor', 'Cmajor', 'C#major', 'Bminor', 'D-minor', 'Gmajor', 'F#minor', 'G-minor', 'E-major', 'Dminor', 'Fmajor', 'Cminor', 'C-major', 'B-major', 'Bmajor', 'C#minor', 'F#major', 'A-major', 'Dmajor', 'A-minor', 'Amajor', 'Fminor']\n",
      "Times up! 8339\n",
      "Current Performance ~ 8606 iters per 1 seconds \n",
      "[8269, 7962, 8812, 8201, 9101, 8572, 8691, 9011, 9103, 8339]\n",
      "['Emajor', 'B-minor', 'Gminor', 'E-minor', 'G-major', 'Aminor', 'D-major', 'Eminor', 'C-minor', 'Cmajor', 'C#major', 'Bminor', 'D-minor', 'Gmajor', 'F#minor', 'G-minor', 'E-major', 'Dminor', 'Fmajor', 'Cminor', 'C-major', 'B-major', 'Bmajor', 'C#minor', 'F#major', 'A-major', 'Dmajor', 'A-minor', 'Amajor', 'Fminor']\n",
      "Times up! 23264\n",
      "Mon May 13 20:40:53 2019    cpout8.txt\n",
      "\n",
      "         8514801 function calls in 4.001 seconds\n",
      "\n",
      "   Ordered by: cumulative time\n",
      "   List reduced from 48 to 20 due to restriction <20>\n",
      "\n",
      "   ncalls  tottime  percall  cumtime  percall filename:lineno(function)\n",
      "        1    0.000    0.000    4.001    4.001 <string>:1(<module>)\n",
      "        1    0.000    0.000    4.001    4.001 <ipython-input-3-02a0ed9aa61e>:140(my_main)\n",
      "        1    0.046    0.046    4.000    4.000 <ipython-input-3-02a0ed9aa61e>:125(grid_search)\n",
      "    23264    0.104    0.000    3.951    0.000 <ipython-input-3-02a0ed9aa61e>:113(generate_and_save_song)\n",
      "    23264    0.664    0.000    1.462    0.000 <ipython-input-31-d4e378dee91b>:23(song_to_txt)\n",
      "    23264    0.820    0.000    1.353    0.000 <ipython-input-27-375f2682ebb6>:31(generate_abram_song)\n",
      "    23264    0.585    0.000    0.901    0.000 <ipython-input-3-02a0ed9aa61e>:95(save_textfile)\n",
      "  2023968    0.398    0.000    0.398    0.000 {method 'format' of 'str' objects}\n",
      "  2023968    0.380    0.000    0.380    0.000 <ipython-input-31-d4e378dee91b>:17(note_to_midi)\n",
      "  2023968    0.374    0.000    0.374    0.000 <ipython-input-41-a77dbd047ed2>:4(make_note)\n",
      "    23264    0.280    0.000    0.280    0.000 {method 'close' of 'file' objects}\n",
      "  2047232    0.099    0.000    0.099    0.000 {len}\n",
      "    46528    0.073    0.000    0.073    0.000 <ipython-input-3-02a0ed9aa61e>:110(strify)\n",
      "    93056    0.071    0.000    0.071    0.000 {method 'join' of 'str' objects}\n",
      "    23264    0.037    0.000    0.037    0.000 {method 'write' of 'file' objects}\n",
      "    23264    0.031    0.000    0.031    0.000 {sum}\n",
      "    23264    0.030    0.000    0.030    0.000 <ipython-input-27-375f2682ebb6>:25(get_pitches_of_key_with_octave)\n",
      "    23264    0.004    0.000    0.004    0.000 <ipython-input-37-c7b6e480e259>:5(song_to_mid)\n",
      "    23265    0.003    0.000    0.003    0.000 {time.time}\n",
      "    23264    0.003    0.000    0.003    0.000 <ipython-input-37-c7b6e480e259>:3(save_midifile)\n",
      "\n",
      "\n"
     ]
    },
    {
     "data": {
      "text/plain": [
       "<pstats.Stats instance at 0x7f4ad6deed40>"
      ]
     },
     "execution_count": 41,
     "metadata": {},
     "output_type": "execute_result"
    }
   ],
   "source": [
    "# What about memozing it?\n",
    "from collections import defaultdict\n",
    "__make_note__ = defaultdict(dict)\n",
    "def make_note( midi_pitch, duration ):\n",
    "    if not duration in __make_note__[midi_pitch]:\n",
    "        __make_note__[midi_pitch][duration] = (midi_pitch, duration)\n",
    "    return __make_note__[midi_pitch][duration]\n",
    "\n",
    "bench()\n",
    "cProfile.run('my_main(4)','cpout8.txt')\n",
    "p = pstats.Stats('cpout8.txt')\n",
    "p.sort_stats('cumtime').print_stats(20)"
   ]
  },
  {
   "cell_type": "markdown",
   "metadata": {},
   "source": [
    "# OK that didn't work, we're back to 8700\n",
    "\n",
    "    2005872    0.377    0.000    0.377    0.000 <ipython-input-39-a77dbd047ed2>:4(make_note)\n",
    "        \n",
    "Yeah let's undo that change."
   ]
  },
  {
   "cell_type": "code",
   "execution_count": 42,
   "metadata": {},
   "outputs": [],
   "source": [
    "# nope memoize did not help\n",
    "def make_note( midi_pitch, duration ):\n",
    "    return (midi_pitch, duration)\n"
   ]
  },
  {
   "cell_type": "markdown",
   "metadata": {},
   "source": [
    "Well that's neat. But maybe we should do something else? Like actually save midi files to disk?\n",
    "\n",
    "# Ok but our boss didn't let us off the hook. We still need MIDI output.\n",
    "\n",
    "* I don't want to change music21\n",
    "* Maybe I can use another library to output midi?"
   ]
  },
  {
   "cell_type": "code",
   "execution_count": 43,
   "metadata": {},
   "outputs": [],
   "source": [
    "import midi\n",
    "TEMPO = 120\n",
    "TICK = 60.0/(4*16.0*180)\n",
    "\n",
    "def midi_on_off(when, pitch, duration):\n",
    "    tick_on_when  = int((when)/TICK)\n",
    "    tick_off_when = int((duration+when)/TICK)\n",
    "    on  =  midi.NoteOnEvent(tick=tick_on_when,  pitch=pitch, velocity=100)\n",
    "    off = midi.NoteOffEvent(tick=tick_off_when, pitch=pitch, velocity=100)\n",
    "    return (when+duration, on, off)\n",
    "\n",
    "def song_to_mid(song):\n",
    "    # Instantiate a MIDI Pattern (contains a list of tracks)\n",
    "    pattern = midi.Pattern()\n",
    "    # Instantiate a MIDI Track (contains a list of MIDI events)\n",
    "    track = midi.Track()\n",
    "    # Append the track to the pattern\n",
    "    pattern.append(track)\n",
    "    # set tempo\n",
    "    track.append(midi.SetTempoEvent(bpm=TEMPO))\n",
    "    when = 0.0\n",
    "    for elm in song:\n",
    "        if isinstance(elm, music21.note.Note):\n",
    "            (now, on, off) = midi_on_off(when, elm.midi, elm.duration)\n",
    "        else:\n",
    "            (now,on,off) = midi_on_off(when,elm[0],elm[1])\n",
    "        track.append(on)\n",
    "        track.append(off)\n",
    "        when = 0.0 # don't need to keep track of time\n",
    "    # Add the end of track event, append it to the track\n",
    "    eot = midi.EndOfTrackEvent(tick=1)\n",
    "    track.append(eot)\n",
    "    return pattern\n",
    "\n",
    "def save_midifile(midi_pattern, midi_file):\n",
    "    midi.write_midifile(midi_file, midi_pattern)\n",
    "\n"
   ]
  },
  {
   "cell_type": "code",
   "execution_count": 44,
   "metadata": {
    "scrolled": true
   },
   "outputs": [
    {
     "name": "stdout",
     "output_type": "stream",
     "text": [
      "midi.Pattern(format=1, resolution=220, tracks=\\\n",
      "[midi.Track(\\\n",
      "  [midi.SetTempoEvent(tick=0, data=[7, 161, 32]),\n",
      "   midi.NoteOnEvent(tick=0, channel=0, data=[60, 100]),\n",
      "   midi.NoteOffEvent(tick=192, channel=0, data=[60, 100]),\n",
      "   midi.NoteOnEvent(tick=0, channel=0, data=[64, 100]),\n",
      "   midi.NoteOffEvent(tick=192, channel=0, data=[64, 100]),\n",
      "   midi.NoteOnEvent(tick=0, channel=0, data=[68, 100]),\n",
      "   midi.NoteOffEvent(tick=192, channel=0, data=[68, 100]),\n",
      "   midi.NoteOnEvent(tick=0, channel=0, data=[60, 100]),\n",
      "   midi.NoteOffEvent(tick=48, channel=0, data=[60, 100]),\n",
      "   midi.NoteOnEvent(tick=0, channel=0, data=[64, 100]),\n",
      "   midi.NoteOffEvent(tick=48, channel=0, data=[64, 100]),\n",
      "   midi.NoteOnEvent(tick=0, channel=0, data=[68, 100]),\n",
      "   midi.NoteOffEvent(tick=48, channel=0, data=[68, 100]),\n",
      "   midi.EndOfTrackEvent(tick=1, data=[])])])\n"
     ]
    }
   ],
   "source": [
    "test_midi = song_to_mid([(60,1.0),(64,1.0),(68,1.0),(60,0.25),(64,0.25),(68,0.25)])\n",
    "print(test_midi)\n",
    "save_midifile(test_midi,\"test.mid\")"
   ]
  },
  {
   "cell_type": "code",
   "execution_count": 45,
   "metadata": {},
   "outputs": [],
   "source": [
    "! xdg-open test.mid"
   ]
  },
  {
   "cell_type": "code",
   "execution_count": 46,
   "metadata": {},
   "outputs": [
    {
     "name": "stdout",
     "output_type": "stream",
     "text": [
      "['Emajor', 'B-minor', 'Gminor', 'E-minor', 'G-major', 'Aminor', 'D-major', 'Eminor', 'C-minor', 'Cmajor', 'C#major', 'Bminor', 'D-minor', 'Gmajor', 'F#minor', 'G-minor', 'E-major', 'Dminor', 'Fmajor', 'Cminor', 'C-major', 'B-major', 'Bmajor', 'C#minor', 'F#major', 'A-major', 'Dmajor', 'A-minor', 'Amajor', 'Fminor']\n",
      "Times up! 981\n",
      "['Emajor', 'B-minor', 'Gminor', 'E-minor', 'G-major', 'Aminor', 'D-major', 'Eminor', 'C-minor', 'Cmajor', 'C#major', 'Bminor', 'D-minor', 'Gmajor', 'F#minor', 'G-minor', 'E-major', 'Dminor', 'Fmajor', 'Cminor', 'C-major', 'B-major', 'Bmajor', 'C#minor', 'F#major', 'A-major', 'Dmajor', 'A-minor', 'Amajor', 'Fminor']\n",
      "Times up! 945\n",
      "['Emajor', 'B-minor', 'Gminor', 'E-minor', 'G-major', 'Aminor', 'D-major', 'Eminor', 'C-minor', 'Cmajor', 'C#major', 'Bminor', 'D-minor', 'Gmajor', 'F#minor', 'G-minor', 'E-major', 'Dminor', 'Fmajor', 'Cminor', 'C-major', 'B-major', 'Bmajor', 'C#minor', 'F#major', 'A-major', 'Dmajor', 'A-minor', 'Amajor', 'Fminor']\n",
      "Times up! 1003\n",
      "['Emajor', 'B-minor', 'Gminor', 'E-minor', 'G-major', 'Aminor', 'D-major', 'Eminor', 'C-minor', 'Cmajor', 'C#major', 'Bminor', 'D-minor', 'Gmajor', 'F#minor', 'G-minor', 'E-major', 'Dminor', 'Fmajor', 'Cminor', 'C-major', 'B-major', 'Bmajor', 'C#minor', 'F#major', 'A-major', 'Dmajor', 'A-minor', 'Amajor', 'Fminor']\n",
      "Times up! 1017\n",
      "['Emajor', 'B-minor', 'Gminor', 'E-minor', 'G-major', 'Aminor', 'D-major', 'Eminor', 'C-minor', 'Cmajor', 'C#major', 'Bminor', 'D-minor', 'Gmajor', 'F#minor', 'G-minor', 'E-major', 'Dminor', 'Fmajor', 'Cminor', 'C-major', 'B-major', 'Bmajor', 'C#minor', 'F#major', 'A-major', 'Dmajor', 'A-minor', 'Amajor', 'Fminor']\n",
      "Times up! 1017\n",
      "['Emajor', 'B-minor', 'Gminor', 'E-minor', 'G-major', 'Aminor', 'D-major', 'Eminor', 'C-minor', 'Cmajor', 'C#major', 'Bminor', 'D-minor', 'Gmajor', 'F#minor', 'G-minor', 'E-major', 'Dminor', 'Fmajor', 'Cminor', 'C-major', 'B-major', 'Bmajor', 'C#minor', 'F#major', 'A-major', 'Dmajor', 'A-minor', 'Amajor', 'Fminor']\n",
      "Times up! 1020\n",
      "['Emajor', 'B-minor', 'Gminor', 'E-minor', 'G-major', 'Aminor', 'D-major', 'Eminor', 'C-minor', 'Cmajor', 'C#major', 'Bminor', 'D-minor', 'Gmajor', 'F#minor', 'G-minor', 'E-major', 'Dminor', 'Fmajor', 'Cminor', 'C-major', 'B-major', 'Bmajor', 'C#minor', 'F#major', 'A-major', 'Dmajor', 'A-minor', 'Amajor', 'Fminor']\n",
      "Times up! 1021\n",
      "['Emajor', 'B-minor', 'Gminor', 'E-minor', 'G-major', 'Aminor', 'D-major', 'Eminor', 'C-minor', 'Cmajor', 'C#major', 'Bminor', 'D-minor', 'Gmajor', 'F#minor', 'G-minor', 'E-major', 'Dminor', 'Fmajor', 'Cminor', 'C-major', 'B-major', 'Bmajor', 'C#minor', 'F#major', 'A-major', 'Dmajor', 'A-minor', 'Amajor', 'Fminor']\n",
      "Times up! 1025\n",
      "['Emajor', 'B-minor', 'Gminor', 'E-minor', 'G-major', 'Aminor', 'D-major', 'Eminor', 'C-minor', 'Cmajor', 'C#major', 'Bminor', 'D-minor', 'Gmajor', 'F#minor', 'G-minor', 'E-major', 'Dminor', 'Fmajor', 'Cminor', 'C-major', 'B-major', 'Bmajor', 'C#minor', 'F#major', 'A-major', 'Dmajor', 'A-minor', 'Amajor', 'Fminor']\n",
      "Times up! 1019\n",
      "['Emajor', 'B-minor', 'Gminor', 'E-minor', 'G-major', 'Aminor', 'D-major', 'Eminor', 'C-minor', 'Cmajor', 'C#major', 'Bminor', 'D-minor', 'Gmajor', 'F#minor', 'G-minor', 'E-major', 'Dminor', 'Fmajor', 'Cminor', 'C-major', 'B-major', 'Bmajor', 'C#minor', 'F#major', 'A-major', 'Dmajor', 'A-minor', 'Amajor', 'Fminor']\n",
      "Times up! 1020\n",
      "Current Performance ~ 1006 iters per 1 seconds \n",
      "[981, 945, 1003, 1017, 1017, 1020, 1021, 1025, 1019, 1020]\n"
     ]
    }
   ],
   "source": [
    "res = bench()"
   ]
  },
  {
   "cell_type": "code",
   "execution_count": 47,
   "metadata": {},
   "outputs": [
    {
     "name": "stdout",
     "output_type": "stream",
     "text": [
      "['Emajor', 'B-minor', 'Gminor', 'E-minor', 'G-major', 'Aminor', 'D-major', 'Eminor', 'C-minor', 'Cmajor', 'C#major', 'Bminor', 'D-minor', 'Gmajor', 'F#minor', 'G-minor', 'E-major', 'Dminor', 'Fmajor', 'Cminor', 'C-major', 'B-major', 'Bmajor', 'C#minor', 'F#major', 'A-major', 'Dmajor', 'A-minor', 'Amajor', 'Fminor']\n",
      "Times up! 2306\n",
      "Mon May 13 20:43:05 2019    cpout9.txt\n",
      "\n",
      "         8689977 function calls in 4.001 seconds\n",
      "\n",
      "   Ordered by: cumulative time\n",
      "   List reduced from 70 to 20 due to restriction <20>\n",
      "\n",
      "   ncalls  tottime  percall  cumtime  percall filename:lineno(function)\n",
      "        1    0.000    0.000    4.001    4.001 <string>:1(<module>)\n",
      "        1    0.000    0.000    4.001    4.001 <ipython-input-3-02a0ed9aa61e>:140(my_main)\n",
      "        1    0.049    0.049    4.000    4.000 <ipython-input-3-02a0ed9aa61e>:125(grid_search)\n",
      "     2306    0.017    0.000    3.951    0.002 <ipython-input-3-02a0ed9aa61e>:113(generate_and_save_song)\n",
      "     2306    0.211    0.000    2.010    0.001 <ipython-input-43-fa33ae1b567f>:12(song_to_mid)\n",
      "   200622    0.339    0.000    1.700    0.000 <ipython-input-43-fa33ae1b567f>:5(midi_on_off)\n",
      "     2306    0.045    0.000    1.509    0.001 <ipython-input-43-fa33ae1b567f>:35(save_midifile)\n",
      "     2306    0.006    0.000    1.464    0.001 /home/hindle1/.local/lib/python2.7/site-packages/midi/fileio.py:148(write_midifile)\n",
      "     2306    0.004    0.000    1.387    0.001 /home/hindle1/.local/lib/python2.7/site-packages/midi/fileio.py:99(write)\n",
      "     2306    0.133    0.000    1.370    0.001 /home/hindle1/.local/lib/python2.7/site-packages/midi/fileio.py:112(write_track)\n",
      "   401244    0.362    0.000    1.361    0.000 /home/hindle1/.local/lib/python2.7/site-packages/midi/events.py:66(__init__)\n",
      "   405856    0.687    0.000    1.231    0.000 /home/hindle1/.local/lib/python2.7/site-packages/midi/fileio.py:123(encode_midi_event)\n",
      "   405856    0.506    0.000    0.975    0.000 /home/hindle1/.local/lib/python2.7/site-packages/midi/events.py:33(__init__)\n",
      "  1609588    0.350    0.000    0.469    0.000 {setattr}\n",
      "   410468    0.157    0.000    0.209    0.000 /home/hindle1/.local/lib/python2.7/site-packages/midi/util.py:19(write_varlen)\n",
      "  1408970    0.202    0.000    0.202    0.000 {isinstance}\n",
      "     2306    0.070    0.000    0.152    0.000 <ipython-input-31-d4e378dee91b>:23(song_to_txt)\n",
      "   405856    0.130    0.000    0.130    0.000 {map}\n",
      "     2306    0.088    0.000    0.123    0.000 <ipython-input-27-375f2682ebb6>:31(generate_abram_song)\n",
      "     2306    0.073    0.000    0.122    0.000 <ipython-input-3-02a0ed9aa61e>:95(save_textfile)\n",
      "\n",
      "\n"
     ]
    },
    {
     "data": {
      "text/plain": [
       "<pstats.Stats instance at 0x7f4ad6b21e18>"
      ]
     },
     "execution_count": 47,
     "metadata": {},
     "output_type": "execute_result"
    }
   ],
   "source": [
    "cProfile.run('my_main(4)','cpout9.txt')\n",
    "p = pstats.Stats('cpout9.txt')\n",
    "p.sort_stats('cumtime').print_stats(20)"
   ]
  },
  {
   "cell_type": "markdown",
   "metadata": {},
   "source": [
    "# So making MIDIs is still slow\n",
    "\n",
    "     2332    0.206    0.000    2.012    0.001 <ipython-input-41-fa33ae1b567f>:12(song_to_mid)\n",
    "   202884    0.347    0.000    1.711    0.000 <ipython-input-41-fa33ae1b567f>:5(midi_on_off)\n",
    "     2332    0.040    0.000    1.510    0.001 <ipython-input-41-fa33ae1b567f>:35(save_midifile)\n",
    "    \n",
    " "
   ]
  },
  {
   "cell_type": "code",
   "execution_count": 48,
   "metadata": {},
   "outputs": [],
   "source": [
    "def _midi_on_off(when, pitch, duration):\n",
    "    tick_on_when  = int((when)/TICK)\n",
    "    tick_off_when = int((duration+when)/TICK)\n",
    "    on  =  midi.NoteOnEvent(tick=tick_on_when,  pitch=pitch, velocity=100)\n",
    "    off = midi.NoteOffEvent(tick=tick_off_when, pitch=pitch, velocity=100)\n",
    "    return (when+duration, on, off)\n",
    "\n",
    "__midi_on_off__ = dict()\n",
    "def midi_on_off(when, pitch, duration):\n",
    "    t = (when,pitch,duration)\n",
    "    if not t in __midi_on_off__:\n",
    "        __midi_on_off__[t] = _midi_on_off(when,pitch,duration)\n",
    "    return __midi_on_off__[t]"
   ]
  },
  {
   "cell_type": "code",
   "execution_count": 49,
   "metadata": {},
   "outputs": [
    {
     "name": "stdout",
     "output_type": "stream",
     "text": [
      "['Emajor', 'B-minor', 'Gminor', 'E-minor', 'G-major', 'Aminor', 'D-major', 'Eminor', 'C-minor', 'Cmajor', 'C#major', 'Bminor', 'D-minor', 'Gmajor', 'F#minor', 'G-minor', 'E-major', 'Dminor', 'Fmajor', 'Cminor', 'C-major', 'B-major', 'Bmajor', 'C#minor', 'F#major', 'A-major', 'Dmajor', 'A-minor', 'Amajor', 'Fminor']\n",
      "Times up! 1726\n",
      "['Emajor', 'B-minor', 'Gminor', 'E-minor', 'G-major', 'Aminor', 'D-major', 'Eminor', 'C-minor', 'Cmajor', 'C#major', 'Bminor', 'D-minor', 'Gmajor', 'F#minor', 'G-minor', 'E-major', 'Dminor', 'Fmajor', 'Cminor', 'C-major', 'B-major', 'Bmajor', 'C#minor', 'F#major', 'A-major', 'Dmajor', 'A-minor', 'Amajor', 'Fminor']\n",
      "Times up! 1565\n",
      "['Emajor', 'B-minor', 'Gminor', 'E-minor', 'G-major', 'Aminor', 'D-major', 'Eminor', 'C-minor', 'Cmajor', 'C#major', 'Bminor', 'D-minor', 'Gmajor', 'F#minor', 'G-minor', 'E-major', 'Dminor', 'Fmajor', 'Cminor', 'C-major', 'B-major', 'Bmajor', 'C#minor', 'F#major', 'A-major', 'Dmajor', 'A-minor', 'Amajor', 'Fminor']\n",
      "Times up! 1476\n",
      "['Emajor', 'B-minor', 'Gminor', 'E-minor', 'G-major', 'Aminor', 'D-major', 'Eminor', 'C-minor', 'Cmajor', 'C#major', 'Bminor', 'D-minor', 'Gmajor', 'F#minor', 'G-minor', 'E-major', 'Dminor', 'Fmajor', 'Cminor', 'C-major', 'B-major', 'Bmajor', 'C#minor', 'F#major', 'A-major', 'Dmajor', 'A-minor', 'Amajor', 'Fminor']\n",
      "Times up! 1816\n",
      "['Emajor', 'B-minor', 'Gminor', 'E-minor', 'G-major', 'Aminor', 'D-major', 'Eminor', 'C-minor', 'Cmajor', 'C#major', 'Bminor', 'D-minor', 'Gmajor', 'F#minor', 'G-minor', 'E-major', 'Dminor', 'Fmajor', 'Cminor', 'C-major', 'B-major', 'Bmajor', 'C#minor', 'F#major', 'A-major', 'Dmajor', 'A-minor', 'Amajor', 'Fminor']\n",
      "Times up! 1585\n",
      "['Emajor', 'B-minor', 'Gminor', 'E-minor', 'G-major', 'Aminor', 'D-major', 'Eminor', 'C-minor', 'Cmajor', 'C#major', 'Bminor', 'D-minor', 'Gmajor', 'F#minor', 'G-minor', 'E-major', 'Dminor', 'Fmajor', 'Cminor', 'C-major', 'B-major', 'Bmajor', 'C#minor', 'F#major', 'A-major', 'Dmajor', 'A-minor', 'Amajor', 'Fminor']\n",
      "Times up! 1565\n",
      "['Emajor', 'B-minor', 'Gminor', 'E-minor', 'G-major', 'Aminor', 'D-major', 'Eminor', 'C-minor', 'Cmajor', 'C#major', 'Bminor', 'D-minor', 'Gmajor', 'F#minor', 'G-minor', 'E-major', 'Dminor', 'Fmajor', 'Cminor', 'C-major', 'B-major', 'Bmajor', 'C#minor', 'F#major', 'A-major', 'Dmajor', 'A-minor', 'Amajor', 'Fminor']\n",
      "Times up! 1852\n",
      "['Emajor', 'B-minor', 'Gminor', 'E-minor', 'G-major', 'Aminor', 'D-major', 'Eminor', 'C-minor', 'Cmajor', 'C#major', 'Bminor', 'D-minor', 'Gmajor', 'F#minor', 'G-minor', 'E-major', 'Dminor', 'Fmajor', 'Cminor', 'C-major', 'B-major', 'Bmajor', 'C#minor', 'F#major', 'A-major', 'Dmajor', 'A-minor', 'Amajor', 'Fminor']\n",
      "Times up! 1598\n",
      "['Emajor', 'B-minor', 'Gminor', 'E-minor', 'G-major', 'Aminor', 'D-major', 'Eminor', 'C-minor', 'Cmajor', 'C#major', 'Bminor', 'D-minor', 'Gmajor', 'F#minor', 'G-minor', 'E-major', 'Dminor', 'Fmajor', 'Cminor', 'C-major', 'B-major', 'Bmajor', 'C#minor', 'F#major', 'A-major', 'Dmajor', 'A-minor', 'Amajor', 'Fminor']\n",
      "Times up! 1647\n",
      "['Emajor', 'B-minor', 'Gminor', 'E-minor', 'G-major', 'Aminor', 'D-major', 'Eminor', 'C-minor', 'Cmajor', 'C#major', 'Bminor', 'D-minor', 'Gmajor', 'F#minor', 'G-minor', 'E-major', 'Dminor', 'Fmajor', 'Cminor', 'C-major', 'B-major', 'Bmajor', 'C#minor', 'F#major', 'A-major', 'Dmajor', 'A-minor', 'Amajor', 'Fminor']\n",
      "Times up! 1912\n",
      "Current Performance ~ 1674 iters per 1 seconds \n",
      "[1726, 1565, 1476, 1816, 1585, 1565, 1852, 1598, 1647, 1912]\n"
     ]
    },
    {
     "data": {
      "text/plain": [
       "[1726, 1565, 1476, 1816, 1585, 1565, 1852, 1598, 1647, 1912]"
      ]
     },
     "execution_count": 49,
     "metadata": {},
     "output_type": "execute_result"
    }
   ],
   "source": [
    "bench()"
   ]
  },
  {
   "cell_type": "code",
   "execution_count": 53,
   "metadata": {},
   "outputs": [
    {
     "name": "stdout",
     "output_type": "stream",
     "text": [
      "['Emajor', 'B-minor', 'Gminor', 'E-minor', 'G-major', 'Aminor', 'D-major', 'Eminor', 'C-minor', 'Cmajor', 'C#major', 'Bminor', 'D-minor', 'Gmajor', 'F#minor', 'G-minor', 'E-major', 'Dminor', 'Fmajor', 'Cminor', 'C-major', 'B-major', 'Bmajor', 'C#minor', 'F#major', 'A-major', 'Dmajor', 'A-minor', 'Amajor', 'Fminor']\n",
      "Times up! 4206\n",
      "Mon May 13 13:59:56 2019    cpout10.txt\n",
      "\n",
      "         9263783 function calls in 4.003 seconds\n",
      "\n",
      "   Ordered by: cumulative time\n",
      "   List reduced from 71 to 20 due to restriction <20>\n",
      "\n",
      "   ncalls  tottime  percall  cumtime  percall filename:lineno(function)\n",
      "        1    0.000    0.000    4.003    4.003 <string>:1(<module>)\n",
      "        1    0.000    0.000    4.003    4.003 <ipython-input-2-02a0ed9aa61e>:140(my_main)\n",
      "        1    0.024    0.024    4.000    4.000 <ipython-input-2-02a0ed9aa61e>:125(grid_search)\n",
      "     4206    0.026    0.000    3.975    0.001 <ipython-input-2-02a0ed9aa61e>:113(generate_and_save_song)\n",
      "     4206    0.073    0.000    2.679    0.001 <ipython-input-41-fa33ae1b567f>:35(save_midifile)\n",
      "     4206    0.009    0.000    2.606    0.001 /home/hindle1/.local/lib/python2.7/site-packages/midi/fileio.py:148(write_midifile)\n",
      "     4206    0.006    0.000    2.445    0.001 /home/hindle1/.local/lib/python2.7/site-packages/midi/fileio.py:99(write)\n",
      "     4206    0.224    0.000    2.417    0.001 /home/hindle1/.local/lib/python2.7/site-packages/midi/fileio.py:112(write_track)\n",
      "   740256    1.225    0.000    2.182    0.000 /home/hindle1/.local/lib/python2.7/site-packages/midi/fileio.py:123(encode_midi_event)\n",
      "     4206    0.307    0.000    0.561    0.000 <ipython-input-41-fa33ae1b567f>:12(song_to_mid)\n",
      "   748668    0.285    0.000    0.374    0.000 /home/hindle1/.local/lib/python2.7/site-packages/midi/util.py:19(write_varlen)\n",
      "  2569870    0.358    0.000    0.358    0.000 {isinstance}\n",
      "     4206    0.125    0.000    0.272    0.000 <ipython-input-29-d4e378dee91b>:23(song_to_txt)\n",
      "     4206    0.151    0.000    0.214    0.000 <ipython-input-25-375f2682ebb6>:31(generate_abram_song)\n",
      "   740256    0.208    0.000    0.208    0.000 {map}\n",
      "     4206    0.131    0.000    0.194    0.000 <ipython-input-2-02a0ed9aa61e>:95(save_textfile)\n",
      "  1717371    0.157    0.000    0.157    0.000 {chr}\n",
      "     4207    0.152    0.000    0.152    0.000 {open}\n",
      "   365922    0.098    0.000    0.099    0.000 <ipython-input-50-b7a56b72b55a>:9(midi_on_off)\n",
      "   365922    0.074    0.000    0.074    0.000 {method 'format' of 'str' objects}\n",
      "\n",
      "\n"
     ]
    },
    {
     "data": {
      "text/plain": [
       "<pstats.Stats instance at 0x7fabdc864200>"
      ]
     },
     "execution_count": 53,
     "metadata": {},
     "output_type": "execute_result"
    }
   ],
   "source": [
    "cProfile.run('my_main(4)','cpout10.txt')\n",
    "p = pstats.Stats('cpout10.txt')\n",
    "p.sort_stats('cumtime').print_stats(20)"
   ]
  },
  {
   "cell_type": "markdown",
   "metadata": {},
   "source": [
    "# Wow double performance. Great\n",
    "\n",
    "> Current Performance ~ 1795 iters per 1 seconds \n",
    "\n",
    "Midi file saving still big but improved greatly!"
   ]
  },
  {
   "cell_type": "code",
   "execution_count": 50,
   "metadata": {},
   "outputs": [],
   "source": [
    "# demo?\n",
    "! xdg-open abram.gen.out/Emajor.O.4.N.7.0.1.2.3.4.5.6.T.1.0_0.5_2.0.mid"
   ]
  },
  {
   "cell_type": "markdown",
   "metadata": {},
   "source": [
    "# Did we improve?\n",
    "\n",
    "So from 14-20 iters per second to 1800 per second, doing the same work?\n",
    "\n",
    "Good. About 80X or 6 orders of magnitude improvement.\n",
    "\n"
   ]
  },
  {
   "cell_type": "markdown",
   "metadata": {},
   "source": [
    "# Conclusion\n",
    "\n",
    "But at what cost?\n",
    "\n",
    "* Less abstraction\n",
    "* Less maintainble code\n",
    "* Less use classes and types\n",
    "* Less OO\n",
    "\n",
    "But way faster.\n",
    "Fundamentally I've simplified the problem and probably should do it in C or C++.\n",
    "\n",
    "Other ways to improve speed:\n",
    "* Do I/O in another thread. We're waiting a lot to save results\n",
    "* Delegate disk I/O to another process\n",
    "* Avoid disk I/O\n",
    "* Use a more optimized method of saving\n",
    "* Replace libraries\n",
    "* use libs with faster bindings\n",
    "* Remove a layer of abstraction\n",
    "* Delegate work elsewhere\n",
    "* Parallelism\n",
    "\n",
    "# What is missing:\n",
    "\n",
    "* Standardized benchmark\n",
    "* Unit tests (you should always test for correctness)\n",
    "* Statistic comparison of performance"
   ]
  },
  {
   "cell_type": "markdown",
   "metadata": {},
   "source": [
    "# BONUS: But what if the improvement is subtle?\n",
    "\n",
    "If you want to know if you have an improvement you should consider statistical tests:\n",
    "    \n",
    "## Student's T-Test\n",
    "\n",
    "If the data is gaussian/normal/bell curved consider a Student's T-Test to see if your measurements come from the same normal distributions.\n",
    "\n",
    "## Wilcoxon Rank Sum Test\n",
    "\n",
    "If the data is not normal Wilcoxon Rank Sum Test can compare the distributions based on rank.\n",
    "\n",
    "# Interpretting Statistical Tests\n",
    "\n",
    "Choose an alpha, this is the probability threshold where you accept how many times you want to be wrong to chance. Alpha of 0.05 is common and for optimization is probably ok. Alpha of 0.1 is good for smaller number of runs. Essentially it's a protection against winning the lottery. Sometimes you get lucky.\n",
    "\n",
    "If you p-value is less than your alpha the tests indicate evidence that your distributions are different. The difference can be negliable but they are statistically significantly different.\n",
    "\n",
    "We'll use 0.05 as our alpha."
   ]
  },
  {
   "cell_type": "code",
   "execution_count": 53,
   "metadata": {
    "scrolled": true
   },
   "outputs": [
    {
     "name": "stdout",
     "output_type": "stream",
     "text": [
      "['Emajor', 'B-minor', 'Gminor', 'E-minor', 'G-major', 'Aminor', 'D-major', 'Eminor', 'C-minor', 'Cmajor', 'C#major', 'Bminor', 'D-minor', 'Gmajor', 'F#minor', 'G-minor', 'E-major', 'Dminor', 'Fmajor', 'Cminor', 'C-major', 'B-major', 'Bmajor', 'C#minor', 'F#major', 'A-major', 'Dmajor', 'A-minor', 'Amajor', 'Fminor']\n",
      "Times up! 1698\n",
      "['Emajor', 'B-minor', 'Gminor', 'E-minor', 'G-major', 'Aminor', 'D-major', 'Eminor', 'C-minor', 'Cmajor', 'C#major', 'Bminor', 'D-minor', 'Gmajor', 'F#minor', 'G-minor', 'E-major', 'Dminor', 'Fmajor', 'Cminor', 'C-major', 'B-major', 'Bmajor', 'C#minor', 'F#major', 'A-major', 'Dmajor', 'A-minor', 'Amajor', 'Fminor']\n",
      "Times up! 1677\n",
      "['Emajor', 'B-minor', 'Gminor', 'E-minor', 'G-major', 'Aminor', 'D-major', 'Eminor', 'C-minor', 'Cmajor', 'C#major', 'Bminor', 'D-minor', 'Gmajor', 'F#minor', 'G-minor', 'E-major', 'Dminor', 'Fmajor', 'Cminor', 'C-major', 'B-major', 'Bmajor', 'C#minor', 'F#major', 'A-major', 'Dmajor', 'A-minor', 'Amajor', 'Fminor']\n",
      "Times up! 1798\n",
      "['Emajor', 'B-minor', 'Gminor', 'E-minor', 'G-major', 'Aminor', 'D-major', 'Eminor', 'C-minor', 'Cmajor', 'C#major', 'Bminor', 'D-minor', 'Gmajor', 'F#minor', 'G-minor', 'E-major', 'Dminor', 'Fmajor', 'Cminor', 'C-major', 'B-major', 'Bmajor', 'C#minor', 'F#major', 'A-major', 'Dmajor', 'A-minor', 'Amajor', 'Fminor']\n",
      "Times up! 1680\n",
      "['Emajor', 'B-minor', 'Gminor', 'E-minor', 'G-major', 'Aminor', 'D-major', 'Eminor', 'C-minor', 'Cmajor', 'C#major', 'Bminor', 'D-minor', 'Gmajor', 'F#minor', 'G-minor', 'E-major', 'Dminor', 'Fmajor', 'Cminor', 'C-major', 'B-major', 'Bmajor', 'C#minor', 'F#major', 'A-major', 'Dmajor', 'A-minor', 'Amajor', 'Fminor']\n",
      "Times up! 1592\n",
      "['Emajor', 'B-minor', 'Gminor', 'E-minor', 'G-major', 'Aminor', 'D-major', 'Eminor', 'C-minor', 'Cmajor', 'C#major', 'Bminor', 'D-minor', 'Gmajor', 'F#minor', 'G-minor', 'E-major', 'Dminor', 'Fmajor', 'Cminor', 'C-major', 'B-major', 'Bmajor', 'C#minor', 'F#major', 'A-major', 'Dmajor', 'A-minor', 'Amajor', 'Fminor']\n",
      "Times up! 1820\n",
      "['Emajor', 'B-minor', 'Gminor', 'E-minor', 'G-major', 'Aminor', 'D-major', 'Eminor', 'C-minor', 'Cmajor', 'C#major', 'Bminor', 'D-minor', 'Gmajor', 'F#minor', 'G-minor', 'E-major', 'Dminor', 'Fmajor', 'Cminor', 'C-major', 'B-major', 'Bmajor', 'C#minor', 'F#major', 'A-major', 'Dmajor', 'A-minor', 'Amajor', 'Fminor']\n",
      "Times up! 1859\n",
      "['Emajor', 'B-minor', 'Gminor', 'E-minor', 'G-major', 'Aminor', 'D-major', 'Eminor', 'C-minor', 'Cmajor', 'C#major', 'Bminor', 'D-minor', 'Gmajor', 'F#minor', 'G-minor', 'E-major', 'Dminor', 'Fmajor', 'Cminor', 'C-major', 'B-major', 'Bmajor', 'C#minor', 'F#major', 'A-major', 'Dmajor', 'A-minor', 'Amajor', 'Fminor']\n",
      "Times up! 1880\n",
      "['Emajor', 'B-minor', 'Gminor', 'E-minor', 'G-major', 'Aminor', 'D-major', 'Eminor', 'C-minor', 'Cmajor', 'C#major', 'Bminor', 'D-minor', 'Gmajor', 'F#minor', 'G-minor', 'E-major', 'Dminor', 'Fmajor', 'Cminor', 'C-major', 'B-major', 'Bmajor', 'C#minor', 'F#major', 'A-major', 'Dmajor', 'A-minor', 'Amajor', 'Fminor']\n",
      "Times up! 1882\n",
      "['Emajor', 'B-minor', 'Gminor', 'E-minor', 'G-major', 'Aminor', 'D-major', 'Eminor', 'C-minor', 'Cmajor', 'C#major', 'Bminor', 'D-minor', 'Gmajor', 'F#minor', 'G-minor', 'E-major', 'Dminor', 'Fmajor', 'Cminor', 'C-major', 'B-major', 'Bmajor', 'C#minor', 'F#major', 'A-major', 'Dmajor', 'A-minor', 'Amajor', 'Fminor']\n",
      "Times up! 1875\n",
      "Current Performance ~ 1776 iters per 1 seconds \n",
      "[1698, 1677, 1798, 1680, 1592, 1820, 1859, 1880, 1882, 1875]\n",
      "['Emajor', 'B-minor', 'Gminor', 'E-minor', 'G-major', 'Aminor', 'D-major', 'Eminor', 'C-minor', 'Cmajor', 'C#major', 'Bminor', 'D-minor', 'Gmajor', 'F#minor', 'G-minor', 'E-major', 'Dminor', 'Fmajor', 'Cminor', 'C-major', 'B-major', 'Bmajor', 'C#minor', 'F#major', 'A-major', 'Dmajor', 'A-minor', 'Amajor', 'Fminor']\n",
      "Times up! 1893\n",
      "['Emajor', 'B-minor', 'Gminor', 'E-minor', 'G-major', 'Aminor', 'D-major', 'Eminor', 'C-minor', 'Cmajor', 'C#major', 'Bminor', 'D-minor', 'Gmajor', 'F#minor', 'G-minor', 'E-major', 'Dminor', 'Fmajor', 'Cminor', 'C-major', 'B-major', 'Bmajor', 'C#minor', 'F#major', 'A-major', 'Dmajor', 'A-minor', 'Amajor', 'Fminor']\n",
      "Times up! 1878\n",
      "['Emajor', 'B-minor', 'Gminor', 'E-minor', 'G-major', 'Aminor', 'D-major', 'Eminor', 'C-minor', 'Cmajor', 'C#major', 'Bminor', 'D-minor', 'Gmajor', 'F#minor', 'G-minor', 'E-major', 'Dminor', 'Fmajor', 'Cminor', 'C-major', 'B-major', 'Bmajor', 'C#minor', 'F#major', 'A-major', 'Dmajor', 'A-minor', 'Amajor', 'Fminor']\n",
      "Times up! 1881\n",
      "['Emajor', 'B-minor', 'Gminor', 'E-minor', 'G-major', 'Aminor', 'D-major', 'Eminor', 'C-minor', 'Cmajor', 'C#major', 'Bminor', 'D-minor', 'Gmajor', 'F#minor', 'G-minor', 'E-major', 'Dminor', 'Fmajor', 'Cminor', 'C-major', 'B-major', 'Bmajor', 'C#minor', 'F#major', 'A-major', 'Dmajor', 'A-minor', 'Amajor', 'Fminor']\n",
      "Times up! 1877\n",
      "['Emajor', 'B-minor', 'Gminor', 'E-minor', 'G-major', 'Aminor', 'D-major', 'Eminor', 'C-minor', 'Cmajor', 'C#major', 'Bminor', 'D-minor', 'Gmajor', 'F#minor', 'G-minor', 'E-major', 'Dminor', 'Fmajor', 'Cminor', 'C-major', 'B-major', 'Bmajor', 'C#minor', 'F#major', 'A-major', 'Dmajor', 'A-minor', 'Amajor', 'Fminor']\n",
      "Times up! 1871\n",
      "['Emajor', 'B-minor', 'Gminor', 'E-minor', 'G-major', 'Aminor', 'D-major', 'Eminor', 'C-minor', 'Cmajor', 'C#major', 'Bminor', 'D-minor', 'Gmajor', 'F#minor', 'G-minor', 'E-major', 'Dminor', 'Fmajor', 'Cminor', 'C-major', 'B-major', 'Bmajor', 'C#minor', 'F#major', 'A-major', 'Dmajor', 'A-minor', 'Amajor', 'Fminor']\n",
      "Times up! 1876\n",
      "['Emajor', 'B-minor', 'Gminor', 'E-minor', 'G-major', 'Aminor', 'D-major', 'Eminor', 'C-minor', 'Cmajor', 'C#major', 'Bminor', 'D-minor', 'Gmajor', 'F#minor', 'G-minor', 'E-major', 'Dminor', 'Fmajor', 'Cminor', 'C-major', 'B-major', 'Bmajor', 'C#minor', 'F#major', 'A-major', 'Dmajor', 'A-minor', 'Amajor', 'Fminor']\n",
      "Times up! 1874\n",
      "['Emajor', 'B-minor', 'Gminor', 'E-minor', 'G-major', 'Aminor', 'D-major', 'Eminor', 'C-minor', 'Cmajor', 'C#major', 'Bminor', 'D-minor', 'Gmajor', 'F#minor', 'G-minor', 'E-major', 'Dminor', 'Fmajor', 'Cminor', 'C-major', 'B-major', 'Bmajor', 'C#minor', 'F#major', 'A-major', 'Dmajor', 'A-minor', 'Amajor', 'Fminor']\n",
      "Times up! 1913\n",
      "['Emajor', 'B-minor', 'Gminor', 'E-minor', 'G-major', 'Aminor', 'D-major', 'Eminor', 'C-minor', 'Cmajor', 'C#major', 'Bminor', 'D-minor', 'Gmajor', 'F#minor', 'G-minor', 'E-major', 'Dminor', 'Fmajor', 'Cminor', 'C-major', 'B-major', 'Bmajor', 'C#minor', 'F#major', 'A-major', 'Dmajor', 'A-minor', 'Amajor', 'Fminor']\n",
      "Times up! 1867\n",
      "['Emajor', 'B-minor', 'Gminor', 'E-minor', 'G-major', 'Aminor', 'D-major', 'Eminor', 'C-minor', 'Cmajor', 'C#major', 'Bminor', 'D-minor', 'Gmajor', 'F#minor', 'G-minor', 'E-major', 'Dminor', 'Fmajor', 'Cminor', 'C-major', 'B-major', 'Bmajor', 'C#minor', 'F#major', 'A-major', 'Dmajor', 'A-minor', 'Amajor', 'Fminor']\n",
      "Times up! 1796\n",
      "Current Performance ~ 1872 iters per 1 seconds \n",
      "[1893, 1878, 1881, 1877, 1871, 1876, 1874, 1913, 1867, 1796]\n",
      "['Emajor', 'B-minor', 'Gminor', 'E-minor', 'G-major', 'Aminor', 'D-major', 'Eminor', 'C-minor', 'Cmajor', 'C#major', 'Bminor', 'D-minor', 'Gmajor', 'F#minor', 'G-minor', 'E-major', 'Dminor', 'Fmajor', 'Cminor', 'C-major', 'B-major', 'Bmajor', 'C#minor', 'F#major', 'A-major', 'Dmajor', 'A-minor', 'Amajor', 'Fminor']\n",
      "Times up! 1876\n",
      "['Emajor', 'B-minor', 'Gminor', 'E-minor', 'G-major', 'Aminor', 'D-major', 'Eminor', 'C-minor', 'Cmajor', 'C#major', 'Bminor', 'D-minor', 'Gmajor', 'F#minor', 'G-minor', 'E-major', 'Dminor', 'Fmajor', 'Cminor', 'C-major', 'B-major', 'Bmajor', 'C#minor', 'F#major', 'A-major', 'Dmajor', 'A-minor', 'Amajor', 'Fminor']\n",
      "Times up! 1886\n",
      "['Emajor', 'B-minor', 'Gminor', 'E-minor', 'G-major', 'Aminor', 'D-major', 'Eminor', 'C-minor', 'Cmajor', 'C#major', 'Bminor', 'D-minor', 'Gmajor', 'F#minor', 'G-minor', 'E-major', 'Dminor', 'Fmajor', 'Cminor', 'C-major', 'B-major', 'Bmajor', 'C#minor', 'F#major', 'A-major', 'Dmajor', 'A-minor', 'Amajor', 'Fminor']\n",
      "Times up! 1872\n",
      "['Emajor', 'B-minor', 'Gminor', 'E-minor', 'G-major', 'Aminor', 'D-major', 'Eminor', 'C-minor', 'Cmajor', 'C#major', 'Bminor', 'D-minor', 'Gmajor', 'F#minor', 'G-minor', 'E-major', 'Dminor', 'Fmajor', 'Cminor', 'C-major', 'B-major', 'Bmajor', 'C#minor', 'F#major', 'A-major', 'Dmajor', 'A-minor', 'Amajor', 'Fminor']\n",
      "Times up! 1907\n",
      "['Emajor', 'B-minor', 'Gminor', 'E-minor', 'G-major', 'Aminor', 'D-major', 'Eminor', 'C-minor', 'Cmajor', 'C#major', 'Bminor', 'D-minor', 'Gmajor', 'F#minor', 'G-minor', 'E-major', 'Dminor', 'Fmajor', 'Cminor', 'C-major', 'B-major', 'Bmajor', 'C#minor', 'F#major', 'A-major', 'Dmajor', 'A-minor', 'Amajor', 'Fminor']\n"
     ]
    },
    {
     "name": "stdout",
     "output_type": "stream",
     "text": [
      "Times up! 1875\n",
      "['Emajor', 'B-minor', 'Gminor', 'E-minor', 'G-major', 'Aminor', 'D-major', 'Eminor', 'C-minor', 'Cmajor', 'C#major', 'Bminor', 'D-minor', 'Gmajor', 'F#minor', 'G-minor', 'E-major', 'Dminor', 'Fmajor', 'Cminor', 'C-major', 'B-major', 'Bmajor', 'C#minor', 'F#major', 'A-major', 'Dmajor', 'A-minor', 'Amajor', 'Fminor']\n",
      "Times up! 1889\n",
      "['Emajor', 'B-minor', 'Gminor', 'E-minor', 'G-major', 'Aminor', 'D-major', 'Eminor', 'C-minor', 'Cmajor', 'C#major', 'Bminor', 'D-minor', 'Gmajor', 'F#minor', 'G-minor', 'E-major', 'Dminor', 'Fmajor', 'Cminor', 'C-major', 'B-major', 'Bmajor', 'C#minor', 'F#major', 'A-major', 'Dmajor', 'A-minor', 'Amajor', 'Fminor']\n",
      "Times up! 1899\n",
      "['Emajor', 'B-minor', 'Gminor', 'E-minor', 'G-major', 'Aminor', 'D-major', 'Eminor', 'C-minor', 'Cmajor', 'C#major', 'Bminor', 'D-minor', 'Gmajor', 'F#minor', 'G-minor', 'E-major', 'Dminor', 'Fmajor', 'Cminor', 'C-major', 'B-major', 'Bmajor', 'C#minor', 'F#major', 'A-major', 'Dmajor', 'A-minor', 'Amajor', 'Fminor']\n",
      "Times up! 1903\n",
      "['Emajor', 'B-minor', 'Gminor', 'E-minor', 'G-major', 'Aminor', 'D-major', 'Eminor', 'C-minor', 'Cmajor', 'C#major', 'Bminor', 'D-minor', 'Gmajor', 'F#minor', 'G-minor', 'E-major', 'Dminor', 'Fmajor', 'Cminor', 'C-major', 'B-major', 'Bmajor', 'C#minor', 'F#major', 'A-major', 'Dmajor', 'A-minor', 'Amajor', 'Fminor']\n",
      "Times up! 1907\n",
      "['Emajor', 'B-minor', 'Gminor', 'E-minor', 'G-major', 'Aminor', 'D-major', 'Eminor', 'C-minor', 'Cmajor', 'C#major', 'Bminor', 'D-minor', 'Gmajor', 'F#minor', 'G-minor', 'E-major', 'Dminor', 'Fmajor', 'Cminor', 'C-major', 'B-major', 'Bmajor', 'C#minor', 'F#major', 'A-major', 'Dmajor', 'A-minor', 'Amajor', 'Fminor']\n",
      "Times up! 1914\n",
      "Current Performance ~ 1892 iters per 1 seconds \n",
      "[1876, 1886, 1872, 1907, 1875, 1889, 1899, 1903, 1907, 1914]\n"
     ]
    }
   ],
   "source": [
    "# you might want to run this to make sure the governor is the same\n",
    "# by the time it runs the rest of the benchmarks\n",
    "bench() \n",
    "res1 = bench()\n",
    "res2 = bench()\n",
    "\n"
   ]
  },
  {
   "cell_type": "code",
   "execution_count": 54,
   "metadata": {
    "scrolled": true
   },
   "outputs": [
    {
     "name": "stdout",
     "output_type": "stream",
     "text": [
      "Means: 1872 1892\n",
      "Comparison from same distribution\n",
      "WilcoxonResult(statistic=13.0, pvalue=0.13941397332153205)\n",
      "False\n",
      "Comparison from 10% worse performance\n",
      "WilcoxonResult(statistic=0.0, pvalue=0.005062032126267864)\n",
      "True\n",
      "Comparison from same distribution w/ t-test\n",
      "Ttest_indResult(statistic=-1.9002561541348708, pvalue=0.0735388961386492)\n",
      "False\n",
      "Comparison from 10% worse performance w/ t-test\n",
      "Ttest_indResult(statistic=16.225258871788704, pvalue=3.440783958287836e-12)\n",
      "True\n"
     ]
    }
   ],
   "source": [
    "import scipy.stats\n",
    "import numpy\n",
    "print(\"Means: %s %s\" % (mean(res1),mean(res2)))\n",
    "print(\"Comparison from same distribution\")\n",
    "wc = scipy.stats.wilcoxon( res1, res2 )\n",
    "print(wc)\n",
    "print(wc.pvalue <= 0.05)\n",
    "print(\"Comparison from 10% worse performance\")\n",
    "wc = scipy.stats.wilcoxon( res1, 0.9*numpy.array(res2) )\n",
    "print(wc)\n",
    "print(wc.pvalue <= 0.05)\n",
    "print(\"Comparison from same distribution w/ t-test\")\n",
    "tt = scipy.stats.ttest_ind( res1, res2 )\n",
    "print(tt)\n",
    "print(tt.pvalue <= 0.05)\n",
    "print(\"Comparison from 10% worse performance w/ t-test\")\n",
    "tt = scipy.stats.ttest_ind( res1, 0.9*numpy.array(res2) )\n",
    "print(tt)\n",
    "print(tt.pvalue <= 0.05)\n"
   ]
  },
  {
   "cell_type": "markdown",
   "metadata": {},
   "source": [
    "# BONUS: Do I have to time my own code?\n",
    "\n",
    "No. ```timeit``` module can do it.\n",
    "\n",
    "It can do weak reporting of timings. It is best for microbenchmarks."
   ]
  },
  {
   "cell_type": "code",
   "execution_count": 55,
   "metadata": {},
   "outputs": [
    {
     "name": "stdout",
     "output_type": "stream",
     "text": [
      "0.487522125244\n",
      "0.000359058380127\n"
     ]
    }
   ],
   "source": [
    "import timeit\n",
    "import music21\n",
    "print(timeit.timeit('music21.note.Note(\"A#4\")',\n",
    "              setup='import music21',\n",
    "              number=10000))\n",
    "print(timeit.timeit('(70,0.25)',\n",
    "              setup='',\n",
    "              number=10000))"
   ]
  },
  {
   "cell_type": "markdown",
   "metadata": {},
   "source": [
    "# Other modules\n",
    "\n",
    "```benchmark``` provides nicer reporting: https://pypi.org/project/benchmark/\n",
    "        \n",
    "Mike's \"Python 101: An Intro to Benchmarking your code\" https://www.blog.pythonlibrary.org/2016/05/24/python-101-an-intro-to-benchmarking-your-code/"
   ]
  },
  {
   "cell_type": "code",
   "execution_count": null,
   "metadata": {},
   "outputs": [],
   "source": [
    "/* good CSS for presentation */\n",
    "html body div {\n",
    "        font-size: 20px;\n",
    "        line-height: 1.2em;\n",
    "}\n",
    ".CodeMirror pre { \n",
    "        font-size: 20px;\n",
    "        line-height: 1.2em;\n",
    "\n",
    "}\n"
   ]
  }
 ],
 "metadata": {
  "kernelspec": {
   "display_name": "Python 2",
   "language": "python",
   "name": "python2"
  },
  "language_info": {
   "codemirror_mode": {
    "name": "ipython",
    "version": 2
   },
   "file_extension": ".py",
   "mimetype": "text/x-python",
   "name": "python",
   "nbconvert_exporter": "python",
   "pygments_lexer": "ipython2",
   "version": "2.7.15rc1"
  }
 },
 "nbformat": 4,
 "nbformat_minor": 2
}
